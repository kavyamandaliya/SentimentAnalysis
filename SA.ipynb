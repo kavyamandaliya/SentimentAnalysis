{
 "cells": [
  {
   "cell_type": "code",
   "execution_count": 2,
   "metadata": {},
   "outputs": [],
   "source": [
    "from textblob import TextBlob"
   ]
  },
  {
   "cell_type": "code",
   "execution_count": 3,
   "metadata": {},
   "outputs": [],
   "source": [
    "import nltk"
   ]
  },
  {
   "cell_type": "code",
   "execution_count": 4,
   "metadata": {},
   "outputs": [],
   "source": [
    "from newspaper import Article"
   ]
  },
  {
   "cell_type": "code",
   "execution_count": 5,
   "metadata": {},
   "outputs": [],
   "source": [
    "url = 'https://everythingcomputerscience.com/'"
   ]
  },
  {
   "cell_type": "code",
   "execution_count": 6,
   "metadata": {},
   "outputs": [],
   "source": [
    "article = Article(url)\n",
    "article.download()\n",
    "article.parse()"
   ]
  },
  {
   "cell_type": "code",
   "execution_count": 7,
   "metadata": {},
   "outputs": [
    {
     "name": "stderr",
     "output_type": "stream",
     "text": [
      "[nltk_data] Downloading package punkt to /Users/kavya/nltk_data...\n",
      "[nltk_data]   Package punkt is already up-to-date!\n"
     ]
    },
    {
     "data": {
      "text/plain": [
       "True"
      ]
     },
     "execution_count": 7,
     "metadata": {},
     "output_type": "execute_result"
    }
   ],
   "source": [
    "nltk.download('punkt')"
   ]
  },
  {
   "cell_type": "code",
   "execution_count": 8,
   "metadata": {},
   "outputs": [],
   "source": [
    "article.nlp()"
   ]
  },
  {
   "cell_type": "code",
   "execution_count": 9,
   "metadata": {},
   "outputs": [],
   "source": [
    "text = article.summary"
   ]
  },
  {
   "cell_type": "code",
   "execution_count": 10,
   "metadata": {},
   "outputs": [
    {
     "name": "stdout",
     "output_type": "stream",
     "text": [
      "Computer Science (CS)Computer Science (CS) is the study of the principles and use of computers.\n",
      "Simply put it's the science that deals with the theory and methods of processing information in digital computers, the design of computer hardware and software, and the applications of computers.\n",
      "A computer is simply a tool for a computer scientist, like a telescope for an astronomer.\n",
      "Teach yourself !\n"
     ]
    }
   ],
   "source": [
    "print(text)"
   ]
  },
  {
   "cell_type": "code",
   "execution_count": 11,
   "metadata": {},
   "outputs": [
    {
     "name": "stdout",
     "output_type": "stream",
     "text": [
      "0.0\n"
     ]
    }
   ],
   "source": [
    "object = TextBlob(text)\n",
    "sentiment = object.sentiment.polarity\n",
    "print(sentiment)"
   ]
  },
  {
   "cell_type": "code",
   "execution_count": 14,
   "metadata": {},
   "outputs": [],
   "source": [
    "text1 = 'I am very irritated, cause the code is not working, and it is giving several errors. The movie was a total waste of time. And it went on for so long that I got bored'\n",
    "sum1 = TextBlob(text1)"
   ]
  },
  {
   "cell_type": "code",
   "execution_count": 15,
   "metadata": {},
   "outputs": [],
   "source": [
    "sent1 = sum1.sentiment.polarity"
   ]
  },
  {
   "cell_type": "code",
   "execution_count": 17,
   "metadata": {},
   "outputs": [
    {
     "name": "stdout",
     "output_type": "stream",
     "text": [
      "-0.09166666666666667\n"
     ]
    }
   ],
   "source": [
    "print(sent1)"
   ]
  },
  {
   "cell_type": "code",
   "execution_count": 19,
   "metadata": {},
   "outputs": [],
   "source": [
    "import pandas as pd"
   ]
  },
  {
   "cell_type": "code",
   "execution_count": 25,
   "metadata": {
    "scrolled": true
   },
   "outputs": [
    {
     "name": "stderr",
     "output_type": "stream",
     "text": [
      "b'Skipping line 3: expected 1 fields, saw 2\\nSkipping line 8: expected 1 fields, saw 2\\nSkipping line 21: expected 1 fields, saw 2\\nSkipping line 25: expected 1 fields, saw 2\\nSkipping line 26: expected 1 fields, saw 4\\nSkipping line 29: expected 1 fields, saw 3\\nSkipping line 48: expected 1 fields, saw 2\\nSkipping line 57: expected 1 fields, saw 2\\nSkipping line 61: expected 1 fields, saw 3\\nSkipping line 64: expected 1 fields, saw 2\\nSkipping line 68: expected 1 fields, saw 3\\nSkipping line 74: expected 1 fields, saw 2\\nSkipping line 86: expected 1 fields, saw 2\\nSkipping line 97: expected 1 fields, saw 2\\nSkipping line 99: expected 1 fields, saw 2\\nSkipping line 101: expected 1 fields, saw 2\\nSkipping line 104: expected 1 fields, saw 2\\nSkipping line 105: expected 1 fields, saw 3\\nSkipping line 114: expected 1 fields, saw 3\\nSkipping line 117: expected 1 fields, saw 3\\nSkipping line 120: expected 1 fields, saw 2\\nSkipping line 128: expected 1 fields, saw 3\\nSkipping line 135: expected 1 fields, saw 2\\nSkipping line 137: expected 1 fields, saw 3\\nSkipping line 145: expected 1 fields, saw 2\\nSkipping line 161: expected 1 fields, saw 3\\nSkipping line 165: expected 1 fields, saw 2\\nSkipping line 179: expected 1 fields, saw 2\\nSkipping line 182: expected 1 fields, saw 2\\nSkipping line 198: expected 1 fields, saw 2\\nSkipping line 199: expected 1 fields, saw 2\\nSkipping line 219: expected 1 fields, saw 3\\nSkipping line 223: expected 1 fields, saw 2\\nSkipping line 228: expected 1 fields, saw 2\\nSkipping line 251: expected 1 fields, saw 2\\nSkipping line 264: expected 1 fields, saw 2\\nSkipping line 274: expected 1 fields, saw 2\\nSkipping line 279: expected 1 fields, saw 3\\nSkipping line 280: expected 1 fields, saw 2\\nSkipping line 294: expected 1 fields, saw 2\\nSkipping line 305: expected 1 fields, saw 2\\nSkipping line 307: expected 1 fields, saw 3\\nSkipping line 310: expected 1 fields, saw 2\\nSkipping line 328: expected 1 fields, saw 2\\nSkipping line 340: expected 1 fields, saw 3\\nSkipping line 357: expected 1 fields, saw 2\\nSkipping line 363: expected 1 fields, saw 2\\nSkipping line 376: expected 1 fields, saw 3\\nSkipping line 377: expected 1 fields, saw 2\\nSkipping line 409: expected 1 fields, saw 2\\nSkipping line 416: expected 1 fields, saw 2\\nSkipping line 420: expected 1 fields, saw 2\\nSkipping line 438: expected 1 fields, saw 2\\nSkipping line 444: expected 1 fields, saw 2\\nSkipping line 445: expected 1 fields, saw 3\\nSkipping line 456: expected 1 fields, saw 2\\nSkipping line 457: expected 1 fields, saw 2\\nSkipping line 459: expected 1 fields, saw 2\\nSkipping line 460: expected 1 fields, saw 2\\nSkipping line 473: expected 1 fields, saw 2\\nSkipping line 478: expected 1 fields, saw 3\\nSkipping line 479: expected 1 fields, saw 2\\nSkipping line 480: expected 1 fields, saw 2\\nSkipping line 483: expected 1 fields, saw 2\\nSkipping line 491: expected 1 fields, saw 3\\nSkipping line 500: expected 1 fields, saw 2\\nSkipping line 511: expected 1 fields, saw 2\\nSkipping line 512: expected 1 fields, saw 2\\nSkipping line 526: expected 1 fields, saw 3\\nSkipping line 540: expected 1 fields, saw 2\\nSkipping line 556: expected 1 fields, saw 3\\nSkipping line 557: expected 1 fields, saw 2\\nSkipping line 564: expected 1 fields, saw 2\\nSkipping line 579: expected 1 fields, saw 3\\nSkipping line 580: expected 1 fields, saw 3\\nSkipping line 584: expected 1 fields, saw 2\\nSkipping line 629: expected 1 fields, saw 2\\nSkipping line 640: expected 1 fields, saw 2\\nSkipping line 646: expected 1 fields, saw 2\\nSkipping line 676: expected 1 fields, saw 2\\nSkipping line 686: expected 1 fields, saw 2\\nSkipping line 692: expected 1 fields, saw 2\\nSkipping line 705: expected 1 fields, saw 2\\nSkipping line 707: expected 1 fields, saw 2\\nSkipping line 715: expected 1 fields, saw 3\\nSkipping line 716: expected 1 fields, saw 2\\nSkipping line 721: expected 1 fields, saw 3\\nSkipping line 726: expected 1 fields, saw 2\\nSkipping line 748: expected 1 fields, saw 2\\nSkipping line 766: expected 1 fields, saw 2\\nSkipping line 771: expected 1 fields, saw 3\\nSkipping line 794: expected 1 fields, saw 2\\nSkipping line 795: expected 1 fields, saw 2\\nSkipping line 818: expected 1 fields, saw 2\\nSkipping line 821: expected 1 fields, saw 4\\nSkipping line 833: expected 1 fields, saw 2\\nSkipping line 843: expected 1 fields, saw 2\\nSkipping line 845: expected 1 fields, saw 2\\nSkipping line 849: expected 1 fields, saw 2\\nSkipping line 854: expected 1 fields, saw 2\\nSkipping line 858: expected 1 fields, saw 2\\nSkipping line 865: expected 1 fields, saw 2\\nSkipping line 871: expected 1 fields, saw 2\\nSkipping line 872: expected 1 fields, saw 3\\nSkipping line 875: expected 1 fields, saw 2\\nSkipping line 878: expected 1 fields, saw 3\\nSkipping line 894: expected 1 fields, saw 3\\n'\n"
     ]
    }
   ],
   "source": [
    "data = pd.read_csv(\"scraper/demo.csv\",header=None,error_bad_lines=False,quotechar=None, quoting=3)"
   ]
  },
  {
   "cell_type": "code",
   "execution_count": 26,
   "metadata": {},
   "outputs": [
    {
     "name": "stdout",
     "output_type": "stream",
     "text": [
      "                                                     0\n",
      "0    I'm extremely happy to exchange diwali sweets ...\n",
      "1    The Arunachal Scouts is an infantry regiment o...\n",
      "2    RT @IDF: Happy #Diwali to all those celebratin...\n",
      "3    RT @imVkohli: Happy Diwali to everyone. May th...\n",
      "4    RT @dhanushkraja: Happy Diwali friends :) may ...\n",
      "..                                                 ...\n",
      "662                                              Love.\n",
      "663                                                 a.\n",
      "664               @ameesha_patel cheers  happy  Diwali\n",
      "665                                  🤩 Happy Diwali..🤩\n",
      "666                  #TeamKDFW https://t.co/rqSD82bcgC\n",
      "\n",
      "[667 rows x 1 columns]\n"
     ]
    }
   ],
   "source": [
    "print(data)"
   ]
  },
  {
   "cell_type": "code",
   "execution_count": 5,
   "metadata": {},
   "outputs": [],
   "source": [
    "from textblob import TextBlob"
   ]
  },
  {
   "cell_type": "code",
   "execution_count": 7,
   "metadata": {},
   "outputs": [
    {
     "name": "stderr",
     "output_type": "stream",
     "text": [
      "b'Skipping line 3: expected 1 fields, saw 2\\nSkipping line 8: expected 1 fields, saw 2\\nSkipping line 21: expected 1 fields, saw 2\\nSkipping line 25: expected 1 fields, saw 2\\nSkipping line 26: expected 1 fields, saw 4\\nSkipping line 29: expected 1 fields, saw 3\\nSkipping line 48: expected 1 fields, saw 2\\nSkipping line 57: expected 1 fields, saw 2\\nSkipping line 61: expected 1 fields, saw 3\\nSkipping line 64: expected 1 fields, saw 2\\nSkipping line 68: expected 1 fields, saw 3\\nSkipping line 74: expected 1 fields, saw 2\\nSkipping line 86: expected 1 fields, saw 2\\nSkipping line 97: expected 1 fields, saw 2\\nSkipping line 99: expected 1 fields, saw 2\\nSkipping line 101: expected 1 fields, saw 2\\nSkipping line 104: expected 1 fields, saw 2\\nSkipping line 105: expected 1 fields, saw 3\\nSkipping line 114: expected 1 fields, saw 3\\nSkipping line 117: expected 1 fields, saw 3\\nSkipping line 120: expected 1 fields, saw 2\\nSkipping line 128: expected 1 fields, saw 3\\nSkipping line 135: expected 1 fields, saw 2\\nSkipping line 137: expected 1 fields, saw 3\\nSkipping line 145: expected 1 fields, saw 2\\nSkipping line 161: expected 1 fields, saw 3\\nSkipping line 165: expected 1 fields, saw 2\\nSkipping line 179: expected 1 fields, saw 2\\nSkipping line 182: expected 1 fields, saw 2\\nSkipping line 198: expected 1 fields, saw 2\\nSkipping line 199: expected 1 fields, saw 2\\nSkipping line 219: expected 1 fields, saw 3\\nSkipping line 223: expected 1 fields, saw 2\\nSkipping line 228: expected 1 fields, saw 2\\nSkipping line 251: expected 1 fields, saw 2\\nSkipping line 264: expected 1 fields, saw 2\\nSkipping line 274: expected 1 fields, saw 2\\nSkipping line 279: expected 1 fields, saw 3\\nSkipping line 280: expected 1 fields, saw 2\\nSkipping line 294: expected 1 fields, saw 2\\nSkipping line 305: expected 1 fields, saw 2\\nSkipping line 307: expected 1 fields, saw 3\\nSkipping line 310: expected 1 fields, saw 2\\nSkipping line 328: expected 1 fields, saw 2\\nSkipping line 340: expected 1 fields, saw 3\\nSkipping line 357: expected 1 fields, saw 2\\nSkipping line 363: expected 1 fields, saw 2\\nSkipping line 376: expected 1 fields, saw 3\\nSkipping line 377: expected 1 fields, saw 2\\nSkipping line 409: expected 1 fields, saw 2\\nSkipping line 416: expected 1 fields, saw 2\\nSkipping line 420: expected 1 fields, saw 2\\nSkipping line 438: expected 1 fields, saw 2\\nSkipping line 444: expected 1 fields, saw 2\\nSkipping line 445: expected 1 fields, saw 3\\nSkipping line 456: expected 1 fields, saw 2\\nSkipping line 457: expected 1 fields, saw 2\\nSkipping line 459: expected 1 fields, saw 2\\nSkipping line 460: expected 1 fields, saw 2\\nSkipping line 473: expected 1 fields, saw 2\\nSkipping line 478: expected 1 fields, saw 3\\nSkipping line 479: expected 1 fields, saw 2\\nSkipping line 480: expected 1 fields, saw 2\\nSkipping line 483: expected 1 fields, saw 2\\nSkipping line 491: expected 1 fields, saw 3\\nSkipping line 500: expected 1 fields, saw 2\\nSkipping line 511: expected 1 fields, saw 2\\nSkipping line 512: expected 1 fields, saw 2\\nSkipping line 526: expected 1 fields, saw 3\\nSkipping line 540: expected 1 fields, saw 2\\nSkipping line 556: expected 1 fields, saw 3\\nSkipping line 557: expected 1 fields, saw 2\\nSkipping line 564: expected 1 fields, saw 2\\nSkipping line 579: expected 1 fields, saw 3\\nSkipping line 580: expected 1 fields, saw 3\\nSkipping line 584: expected 1 fields, saw 2\\nSkipping line 629: expected 1 fields, saw 2\\nSkipping line 640: expected 1 fields, saw 2\\nSkipping line 646: expected 1 fields, saw 2\\nSkipping line 676: expected 1 fields, saw 2\\nSkipping line 686: expected 1 fields, saw 2\\nSkipping line 692: expected 1 fields, saw 2\\nSkipping line 705: expected 1 fields, saw 2\\nSkipping line 707: expected 1 fields, saw 2\\nSkipping line 715: expected 1 fields, saw 3\\nSkipping line 716: expected 1 fields, saw 2\\nSkipping line 721: expected 1 fields, saw 3\\nSkipping line 726: expected 1 fields, saw 2\\nSkipping line 748: expected 1 fields, saw 2\\nSkipping line 766: expected 1 fields, saw 2\\nSkipping line 771: expected 1 fields, saw 3\\nSkipping line 794: expected 1 fields, saw 2\\nSkipping line 795: expected 1 fields, saw 2\\nSkipping line 818: expected 1 fields, saw 2\\nSkipping line 821: expected 1 fields, saw 4\\nSkipping line 833: expected 1 fields, saw 2\\nSkipping line 843: expected 1 fields, saw 2\\nSkipping line 845: expected 1 fields, saw 2\\nSkipping line 849: expected 1 fields, saw 2\\nSkipping line 854: expected 1 fields, saw 2\\nSkipping line 858: expected 1 fields, saw 2\\nSkipping line 865: expected 1 fields, saw 2\\nSkipping line 871: expected 1 fields, saw 2\\nSkipping line 872: expected 1 fields, saw 3\\nSkipping line 875: expected 1 fields, saw 2\\nSkipping line 878: expected 1 fields, saw 3\\nSkipping line 894: expected 1 fields, saw 3\\n'\n"
     ]
    },
    {
     "ename": "TypeError",
     "evalue": "The `text` argument passed to `__init__(text)` must be a string, not <class 'int'>",
     "output_type": "error",
     "traceback": [
      "\u001b[0;31m---------------------------------------------------------------------------\u001b[0m",
      "\u001b[0;31mTypeError\u001b[0m                                 Traceback (most recent call last)",
      "\u001b[0;32m<ipython-input-7-76ed7c90d335>\u001b[0m in \u001b[0;36m<module>\u001b[0;34m\u001b[0m\n\u001b[1;32m      1\u001b[0m \u001b[0mdata\u001b[0m \u001b[0;34m=\u001b[0m \u001b[0mpd\u001b[0m\u001b[0;34m.\u001b[0m\u001b[0mread_csv\u001b[0m\u001b[0;34m(\u001b[0m\u001b[0;34m\"scraper/demo.csv\"\u001b[0m\u001b[0;34m,\u001b[0m\u001b[0mheader\u001b[0m\u001b[0;34m=\u001b[0m\u001b[0;32mNone\u001b[0m\u001b[0;34m,\u001b[0m\u001b[0merror_bad_lines\u001b[0m\u001b[0;34m=\u001b[0m\u001b[0;32mFalse\u001b[0m\u001b[0;34m,\u001b[0m\u001b[0mquotechar\u001b[0m\u001b[0;34m=\u001b[0m\u001b[0;32mNone\u001b[0m\u001b[0;34m,\u001b[0m \u001b[0mquoting\u001b[0m\u001b[0;34m=\u001b[0m\u001b[0;36m3\u001b[0m\u001b[0;34m)\u001b[0m\u001b[0;34m\u001b[0m\u001b[0;34m\u001b[0m\u001b[0m\n\u001b[1;32m      2\u001b[0m \u001b[0;32mfor\u001b[0m \u001b[0md\u001b[0m \u001b[0;32min\u001b[0m \u001b[0mdata\u001b[0m\u001b[0;34m:\u001b[0m\u001b[0;34m\u001b[0m\u001b[0;34m\u001b[0m\u001b[0m\n\u001b[0;32m----> 3\u001b[0;31m     \u001b[0mtext\u001b[0m \u001b[0;34m=\u001b[0m \u001b[0mTextBlob\u001b[0m\u001b[0;34m(\u001b[0m\u001b[0md\u001b[0m\u001b[0;34m)\u001b[0m\u001b[0;34m\u001b[0m\u001b[0;34m\u001b[0m\u001b[0m\n\u001b[0m\u001b[1;32m      4\u001b[0m     \u001b[0msentiment\u001b[0m \u001b[0;34m=\u001b[0m \u001b[0mobject\u001b[0m\u001b[0;34m.\u001b[0m\u001b[0msentiment\u001b[0m\u001b[0;34m.\u001b[0m\u001b[0mpolarity\u001b[0m\u001b[0;34m\u001b[0m\u001b[0;34m\u001b[0m\u001b[0m\n\u001b[1;32m      5\u001b[0m     \u001b[0mprint\u001b[0m\u001b[0;34m(\u001b[0m\u001b[0msentiment\u001b[0m\u001b[0;34m)\u001b[0m\u001b[0;34m\u001b[0m\u001b[0;34m\u001b[0m\u001b[0m\n",
      "\u001b[0;32m/usr/local/lib/python3.7/site-packages/textblob/blob.py\u001b[0m in \u001b[0;36m__init__\u001b[0;34m(self, text, tokenizer, pos_tagger, np_extractor, analyzer, parser, classifier, clean_html)\u001b[0m\n\u001b[1;32m    368\u001b[0m         \u001b[0;32mif\u001b[0m \u001b[0;32mnot\u001b[0m \u001b[0misinstance\u001b[0m\u001b[0;34m(\u001b[0m\u001b[0mtext\u001b[0m\u001b[0;34m,\u001b[0m \u001b[0mbasestring\u001b[0m\u001b[0;34m)\u001b[0m\u001b[0;34m:\u001b[0m\u001b[0;34m\u001b[0m\u001b[0;34m\u001b[0m\u001b[0m\n\u001b[1;32m    369\u001b[0m             raise TypeError('The `text` argument passed to `__init__(text)` '\n\u001b[0;32m--> 370\u001b[0;31m                             'must be a string, not {0}'.format(type(text)))\n\u001b[0m\u001b[1;32m    371\u001b[0m         \u001b[0;32mif\u001b[0m \u001b[0mclean_html\u001b[0m\u001b[0;34m:\u001b[0m\u001b[0;34m\u001b[0m\u001b[0;34m\u001b[0m\u001b[0m\n\u001b[1;32m    372\u001b[0m             raise NotImplementedError(\"clean_html has been deprecated. \"\n",
      "\u001b[0;31mTypeError\u001b[0m: The `text` argument passed to `__init__(text)` must be a string, not <class 'int'>"
     ]
    }
   ],
   "source": [
    "data = pd.read_csv(\"scraper/demo.csv\",header=None,error_bad_lines=False,quotechar=None, quoting=3)\n",
    "for d in data:\n",
    "    text = TextBlob(d)\n",
    "    sentiment = object.sentiment.polarity\n",
    "    print(sentiment)"
   ]
  },
  {
   "cell_type": "code",
   "execution_count": null,
   "metadata": {},
   "outputs": [],
   "source": []
  }
 ],
 "metadata": {
  "kernelspec": {
   "display_name": "Python 3",
   "language": "python",
   "name": "python3"
  },
  "language_info": {
   "codemirror_mode": {
    "name": "ipython",
    "version": 3
   },
   "file_extension": ".py",
   "mimetype": "text/x-python",
   "name": "python",
   "nbconvert_exporter": "python",
   "pygments_lexer": "ipython3",
   "version": "3.7.4"
  }
 },
 "nbformat": 4,
 "nbformat_minor": 2
}
