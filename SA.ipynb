{
 "cells": [
  {
   "cell_type": "code",
   "execution_count": 1,
   "metadata": {},
   "outputs": [],
   "source": [
    "from textblob import TextBlob"
   ]
  },
  {
   "cell_type": "code",
   "execution_count": 2,
   "metadata": {},
   "outputs": [],
   "source": [
    "import nltk"
   ]
  },
  {
   "cell_type": "code",
   "execution_count": 3,
   "metadata": {},
   "outputs": [],
   "source": [
    "from newspaper import Article"
   ]
  },
  {
   "cell_type": "code",
   "execution_count": 7,
   "metadata": {},
   "outputs": [],
   "source": [
    "url = 'https://everythingcomputerscience.com/'"
   ]
  },
  {
   "cell_type": "code",
   "execution_count": 8,
   "metadata": {},
   "outputs": [],
   "source": [
    "article = Article(url)\n",
    "article.download()\n",
    "article.parse()"
   ]
  },
  {
   "cell_type": "code",
   "execution_count": 4,
   "metadata": {},
   "outputs": [
    {
     "name": "stderr",
     "output_type": "stream",
     "text": [
      "[nltk_data] Downloading package punkt to /Users/kavya/nltk_data...\n",
      "[nltk_data]   Package punkt is already up-to-date!\n"
     ]
    },
    {
     "data": {
      "text/plain": [
       "True"
      ]
     },
     "execution_count": 4,
     "metadata": {},
     "output_type": "execute_result"
    }
   ],
   "source": [
    "nltk.download('punkt')"
   ]
  },
  {
   "cell_type": "code",
   "execution_count": 9,
   "metadata": {},
   "outputs": [],
   "source": [
    "article.nlp()"
   ]
  },
  {
   "cell_type": "code",
   "execution_count": 9,
   "metadata": {},
   "outputs": [],
   "source": [
    "text = article.summary"
   ]
  },
  {
   "cell_type": "code",
   "execution_count": 10,
   "metadata": {},
   "outputs": [
    {
     "name": "stdout",
     "output_type": "stream",
     "text": [
      "Computer Science (CS)Computer Science (CS) is the study of the principles and use of computers.\n",
      "Simply put it's the science that deals with the theory and methods of processing information in digital computers, the design of computer hardware and software, and the applications of computers.\n",
      "A computer is simply a tool for a computer scientist, like a telescope for an astronomer.\n",
      "Teach yourself !\n"
     ]
    }
   ],
   "source": [
    "print(text)"
   ]
  },
  {
   "cell_type": "code",
   "execution_count": 11,
   "metadata": {},
   "outputs": [
    {
     "name": "stdout",
     "output_type": "stream",
     "text": [
      "0.0\n"
     ]
    }
   ],
   "source": [
    "object = TextBlob(text)\n",
    "sentiment = object.sentiment.polarity\n",
    "print(sentiment)"
   ]
  },
  {
   "cell_type": "code",
   "execution_count": 14,
   "metadata": {},
   "outputs": [],
   "source": [
    "text1 = 'I am very irritated, cause the code is not working, and it is giving several errors. The movie was a total waste of time. And it went on for so long that I got bored'\n",
    "sum1 = TextBlob(text1)"
   ]
  },
  {
   "cell_type": "code",
   "execution_count": 15,
   "metadata": {},
   "outputs": [],
   "source": [
    "sent1 = sum1.sentiment.polarity"
   ]
  },
  {
   "cell_type": "code",
   "execution_count": 17,
   "metadata": {},
   "outputs": [
    {
     "name": "stdout",
     "output_type": "stream",
     "text": [
      "-0.09166666666666667\n"
     ]
    }
   ],
   "source": [
    "print(sent1)"
   ]
  },
  {
   "cell_type": "code",
   "execution_count": 10,
   "metadata": {},
   "outputs": [],
   "source": [
    "import pandas as pd"
   ]
  },
  {
   "cell_type": "code",
   "execution_count": 11,
   "metadata": {
    "scrolled": true
   },
   "outputs": [
    {
     "name": "stderr",
     "output_type": "stream",
     "text": [
      "b'Skipping line 5: expected 1 fields, saw 4\\nSkipping line 19: expected 1 fields, saw 2\\nSkipping line 24: expected 1 fields, saw 3\\nSkipping line 34: expected 1 fields, saw 2\\nSkipping line 60: expected 1 fields, saw 3\\nSkipping line 72: expected 1 fields, saw 3\\nSkipping line 76: expected 1 fields, saw 3\\nSkipping line 78: expected 1 fields, saw 6\\nSkipping line 79: expected 1 fields, saw 2\\nSkipping line 80: expected 1 fields, saw 3\\nSkipping line 89: expected 1 fields, saw 3\\nSkipping line 111: expected 1 fields, saw 2\\nSkipping line 115: expected 1 fields, saw 3\\nSkipping line 132: expected 1 fields, saw 2\\nSkipping line 140: expected 1 fields, saw 2\\nSkipping line 161: expected 1 fields, saw 2\\nSkipping line 174: expected 1 fields, saw 3\\nSkipping line 179: expected 1 fields, saw 4\\nSkipping line 185: expected 1 fields, saw 2\\nSkipping line 192: expected 1 fields, saw 6\\nSkipping line 200: expected 1 fields, saw 3\\nSkipping line 213: expected 1 fields, saw 3\\nSkipping line 217: expected 1 fields, saw 2\\nSkipping line 218: expected 1 fields, saw 2\\nSkipping line 220: expected 1 fields, saw 2\\nSkipping line 221: expected 1 fields, saw 2\\nSkipping line 225: expected 1 fields, saw 2\\nSkipping line 249: expected 1 fields, saw 2\\nSkipping line 252: expected 1 fields, saw 4\\nSkipping line 277: expected 1 fields, saw 2\\nSkipping line 292: expected 1 fields, saw 2\\nSkipping line 296: expected 1 fields, saw 2\\nSkipping line 303: expected 1 fields, saw 2\\nSkipping line 305: expected 1 fields, saw 2\\nSkipping line 349: expected 1 fields, saw 2\\nSkipping line 362: expected 1 fields, saw 5\\nSkipping line 365: expected 1 fields, saw 2\\nSkipping line 384: expected 1 fields, saw 6\\nSkipping line 386: expected 1 fields, saw 2\\nSkipping line 394: expected 1 fields, saw 2\\nSkipping line 395: expected 1 fields, saw 5\\nSkipping line 396: expected 1 fields, saw 2\\nSkipping line 414: expected 1 fields, saw 3\\nSkipping line 439: expected 1 fields, saw 2\\nSkipping line 440: expected 1 fields, saw 2\\nSkipping line 446: expected 1 fields, saw 2\\nSkipping line 450: expected 1 fields, saw 2\\nSkipping line 468: expected 1 fields, saw 2\\nSkipping line 476: expected 1 fields, saw 2\\nSkipping line 489: expected 1 fields, saw 2\\nSkipping line 496: expected 1 fields, saw 2\\nSkipping line 501: expected 1 fields, saw 3\\nSkipping line 503: expected 1 fields, saw 2\\nSkipping line 507: expected 1 fields, saw 3\\nSkipping line 508: expected 1 fields, saw 3\\nSkipping line 543: expected 1 fields, saw 2\\nSkipping line 544: expected 1 fields, saw 3\\nSkipping line 549: expected 1 fields, saw 3\\nSkipping line 553: expected 1 fields, saw 2\\nSkipping line 581: expected 1 fields, saw 2\\nSkipping line 604: expected 1 fields, saw 2\\nSkipping line 611: expected 1 fields, saw 4\\nSkipping line 615: expected 1 fields, saw 3\\nSkipping line 616: expected 1 fields, saw 2\\nSkipping line 617: expected 1 fields, saw 2\\nSkipping line 618: expected 1 fields, saw 3\\nSkipping line 626: expected 1 fields, saw 4\\nSkipping line 631: expected 1 fields, saw 2\\nSkipping line 636: expected 1 fields, saw 2\\nSkipping line 637: expected 1 fields, saw 3\\nSkipping line 640: expected 1 fields, saw 2\\nSkipping line 657: expected 1 fields, saw 2\\nSkipping line 662: expected 1 fields, saw 2\\nSkipping line 663: expected 1 fields, saw 2\\nSkipping line 667: expected 1 fields, saw 2\\nSkipping line 676: expected 1 fields, saw 2\\nSkipping line 677: expected 1 fields, saw 2\\nSkipping line 701: expected 1 fields, saw 2\\nSkipping line 707: expected 1 fields, saw 2\\nSkipping line 715: expected 1 fields, saw 2\\nSkipping line 725: expected 1 fields, saw 2\\nSkipping line 736: expected 1 fields, saw 3\\nSkipping line 739: expected 1 fields, saw 2\\nSkipping line 745: expected 1 fields, saw 2\\nSkipping line 751: expected 1 fields, saw 3\\nSkipping line 756: expected 1 fields, saw 2\\nSkipping line 763: expected 1 fields, saw 2\\nSkipping line 769: expected 1 fields, saw 2\\nSkipping line 770: expected 1 fields, saw 2\\nSkipping line 786: expected 1 fields, saw 2\\nSkipping line 787: expected 1 fields, saw 5\\nSkipping line 793: expected 1 fields, saw 2\\nSkipping line 794: expected 1 fields, saw 2\\n'\n"
     ]
    }
   ],
   "source": [
    "data = pd.read_csv(\"scraper/Nike.csv\",header=None,error_bad_lines=False,quotechar=None, quoting=3)"
   ]
  },
  {
   "cell_type": "code",
   "execution_count": 13,
   "metadata": {},
   "outputs": [
    {
     "name": "stdout",
     "output_type": "stream",
     "text": [
      "                                                     0\n",
      "0    [User Content] Celebrities &amp; Public Alread...\n",
      "1      https://t.co/1RNbLUyGoy https://t.co/PpzDBNFp5k\n",
      "2    Nike introduces @Shaquemgriffin Flyease footba...\n",
      "3    Giveaway! Game worn Nike cleats. Follow me and...\n",
      "4    RT @NBAKicks: Markelle Fultz with the “Lake Sh...\n",
      "..                                                 ...\n",
      "605  Highest Bid: $88 Nike Air Trainer 1 Chlorophyl...\n",
      "606  Tyler fans thinking Frank was gonna walk out a...\n",
      "607                                Elle voulait un ch…\n",
      "608  RT @204Fashion: Nike | 204Fashion https://t.co...\n",
      "609  RT @pullupnghost: Ninguém me quer oferecer uma...\n",
      "\n",
      "[610 rows x 1 columns]\n"
     ]
    }
   ],
   "source": [
    "print(data)"
   ]
  },
  {
   "cell_type": "code",
   "execution_count": 17,
   "metadata": {},
   "outputs": [
    {
     "name": "stderr",
     "output_type": "stream",
     "text": [
      "[nltk_data] Downloading package vader_lexicon to\n",
      "[nltk_data]     /Users/kavya/nltk_data...\n",
      "[nltk_data]   Package vader_lexicon is already up-to-date!\n"
     ]
    }
   ],
   "source": [
    "from textblob import TextBlob\n",
    "nltk.downloader.download('vader_lexicon')\n",
    "from nltk.sentiment.vader import SentimentIntensityAnalyzer\n",
    "sid = SentimentIntensityAnalyzer()"
   ]
  },
  {
   "cell_type": "code",
   "execution_count": 28,
   "metadata": {},
   "outputs": [
    {
     "name": "stdout",
     "output_type": "stream",
     "text": [
      "569\n",
      "Negative: 41\n",
      "Positive: 746\n",
      "Neutral: 1489\n"
     ]
    },
    {
     "name": "stderr",
     "output_type": "stream",
     "text": [
      "b'Skipping line 5: expected 1 fields, saw 4\\nSkipping line 8: expected 1 fields, saw 2\\nSkipping line 19: expected 1 fields, saw 2\\nSkipping line 27: expected 1 fields, saw 2\\nSkipping line 28: expected 1 fields, saw 2\\nSkipping line 29: expected 1 fields, saw 2\\nSkipping line 31: expected 1 fields, saw 2\\nSkipping line 35: expected 1 fields, saw 2\\nSkipping line 38: expected 1 fields, saw 3\\nSkipping line 46: expected 1 fields, saw 2\\nSkipping line 54: expected 1 fields, saw 2\\nSkipping line 62: expected 1 fields, saw 2\\nSkipping line 86: expected 1 fields, saw 4\\nSkipping line 88: expected 1 fields, saw 2\\nSkipping line 91: expected 1 fields, saw 2\\nSkipping line 93: expected 1 fields, saw 2\\nSkipping line 96: expected 1 fields, saw 2\\nSkipping line 97: expected 1 fields, saw 6\\nSkipping line 98: expected 1 fields, saw 2\\nSkipping line 99: expected 1 fields, saw 2\\nSkipping line 107: expected 1 fields, saw 2\\nSkipping line 111: expected 1 fields, saw 2\\nSkipping line 114: expected 1 fields, saw 2\\nSkipping line 115: expected 1 fields, saw 2\\nSkipping line 121: expected 1 fields, saw 2\\nSkipping line 123: expected 1 fields, saw 2\\nSkipping line 125: expected 1 fields, saw 2\\nSkipping line 126: expected 1 fields, saw 2\\nSkipping line 128: expected 1 fields, saw 2\\nSkipping line 129: expected 1 fields, saw 2\\nSkipping line 133: expected 1 fields, saw 2\\nSkipping line 134: expected 1 fields, saw 4\\nSkipping line 135: expected 1 fields, saw 2\\nSkipping line 139: expected 1 fields, saw 3\\nSkipping line 142: expected 1 fields, saw 2\\nSkipping line 144: expected 1 fields, saw 2\\nSkipping line 145: expected 1 fields, saw 2\\nSkipping line 153: expected 1 fields, saw 6\\nSkipping line 161: expected 1 fields, saw 3\\nSkipping line 174: expected 1 fields, saw 3\\nSkipping line 178: expected 1 fields, saw 2\\nSkipping line 179: expected 1 fields, saw 2\\nSkipping line 181: expected 1 fields, saw 2\\nSkipping line 182: expected 1 fields, saw 2\\nSkipping line 186: expected 1 fields, saw 2\\nSkipping line 210: expected 1 fields, saw 2\\nSkipping line 213: expected 1 fields, saw 4\\nSkipping line 238: expected 1 fields, saw 2\\nSkipping line 253: expected 1 fields, saw 2\\nSkipping line 257: expected 1 fields, saw 2\\nSkipping line 264: expected 1 fields, saw 2\\nSkipping line 266: expected 1 fields, saw 2\\nSkipping line 310: expected 1 fields, saw 2\\nSkipping line 323: expected 1 fields, saw 5\\nSkipping line 326: expected 1 fields, saw 2\\nSkipping line 345: expected 1 fields, saw 6\\nSkipping line 347: expected 1 fields, saw 2\\nSkipping line 355: expected 1 fields, saw 2\\nSkipping line 356: expected 1 fields, saw 5\\nSkipping line 357: expected 1 fields, saw 2\\nSkipping line 375: expected 1 fields, saw 3\\nSkipping line 400: expected 1 fields, saw 2\\nSkipping line 401: expected 1 fields, saw 2\\nSkipping line 407: expected 1 fields, saw 2\\nSkipping line 411: expected 1 fields, saw 2\\nSkipping line 429: expected 1 fields, saw 2\\nSkipping line 437: expected 1 fields, saw 2\\nSkipping line 450: expected 1 fields, saw 2\\nSkipping line 457: expected 1 fields, saw 2\\nSkipping line 462: expected 1 fields, saw 3\\nSkipping line 464: expected 1 fields, saw 2\\nSkipping line 468: expected 1 fields, saw 3\\nSkipping line 469: expected 1 fields, saw 3\\nSkipping line 504: expected 1 fields, saw 2\\nSkipping line 505: expected 1 fields, saw 3\\nSkipping line 510: expected 1 fields, saw 3\\nSkipping line 514: expected 1 fields, saw 2\\nSkipping line 542: expected 1 fields, saw 2\\nSkipping line 565: expected 1 fields, saw 2\\nSkipping line 572: expected 1 fields, saw 4\\nSkipping line 576: expected 1 fields, saw 3\\nSkipping line 577: expected 1 fields, saw 2\\nSkipping line 578: expected 1 fields, saw 2\\nSkipping line 579: expected 1 fields, saw 3\\nSkipping line 587: expected 1 fields, saw 4\\nSkipping line 592: expected 1 fields, saw 2\\nSkipping line 597: expected 1 fields, saw 2\\nSkipping line 598: expected 1 fields, saw 3\\nSkipping line 601: expected 1 fields, saw 2\\nSkipping line 618: expected 1 fields, saw 2\\nSkipping line 623: expected 1 fields, saw 2\\nSkipping line 624: expected 1 fields, saw 2\\nSkipping line 628: expected 1 fields, saw 2\\nSkipping line 637: expected 1 fields, saw 2\\nSkipping line 638: expected 1 fields, saw 2\\nSkipping line 662: expected 1 fields, saw 2\\nSkipping line 668: expected 1 fields, saw 2\\nSkipping line 676: expected 1 fields, saw 2\\nSkipping line 686: expected 1 fields, saw 2\\nSkipping line 697: expected 1 fields, saw 3\\nSkipping line 700: expected 1 fields, saw 2\\nSkipping line 706: expected 1 fields, saw 2\\nSkipping line 712: expected 1 fields, saw 3\\nSkipping line 717: expected 1 fields, saw 2\\nSkipping line 724: expected 1 fields, saw 2\\nSkipping line 730: expected 1 fields, saw 2\\nSkipping line 731: expected 1 fields, saw 2\\nSkipping line 747: expected 1 fields, saw 2\\nSkipping line 748: expected 1 fields, saw 5\\nSkipping line 754: expected 1 fields, saw 2\\nSkipping line 755: expected 1 fields, saw 2\\n'\n"
     ]
    }
   ],
   "source": [
    "import nltk\n",
    "data = pd.read_csv(\"scraper/Nike.csv\",header=None,error_bad_lines=False,quotechar=None, quoting=3)\n",
    "texts = data[0]\n",
    "positive = 0\n",
    "negative = 0\n",
    "neutral = 0\n",
    "print(len(texts))\n",
    "for t in texts:\n",
    "#     print(t)\n",
    "    sentiment = sid.polarity_scores(t)\n",
    "    for k in sorted(sentiment):\n",
    "        if sentiment[k] > 0:\n",
    "            positive += 1\n",
    "        if sentiment[k] < 0:\n",
    "            negative += 1\n",
    "        if sentiment[k] == 0.0:\n",
    "            neutral += 1\n",
    "print(\"Negative: \" + str(negative))\n",
    "print(\"Positive: \" + str(positive))\n",
    "print(\"Neutral: \" + str(neutral))"
   ]
  },
  {
   "cell_type": "code",
   "execution_count": 29,
   "metadata": {},
   "outputs": [
    {
     "name": "stdout",
     "output_type": "stream",
     "text": [
      "796\n",
      "Negative: 69\n",
      "Positive: 1155\n",
      "Neutral: 1960\n"
     ]
    },
    {
     "name": "stderr",
     "output_type": "stream",
     "text": [
      "b'Skipping line 66: expected 2 fields, saw 4\\nSkipping line 99: expected 2 fields, saw 6\\nSkipping line 150: expected 2 fields, saw 7\\nSkipping line 175: expected 2 fields, saw 10\\nSkipping line 217: expected 2 fields, saw 3\\nSkipping line 223: expected 2 fields, saw 3\\nSkipping line 228: expected 2 fields, saw 3\\nSkipping line 328: expected 2 fields, saw 4\\nSkipping line 330: expected 2 fields, saw 3\\nSkipping line 393: expected 2 fields, saw 3\\nSkipping line 398: expected 2 fields, saw 4\\nSkipping line 416: expected 2 fields, saw 3\\nSkipping line 418: expected 2 fields, saw 3\\nSkipping line 419: expected 2 fields, saw 3\\nSkipping line 438: expected 2 fields, saw 3\\nSkipping line 447: expected 2 fields, saw 7\\nSkipping line 458: expected 2 fields, saw 5\\nSkipping line 481: expected 2 fields, saw 4\\nSkipping line 506: expected 2 fields, saw 3\\nSkipping line 513: expected 2 fields, saw 3\\nSkipping line 564: expected 2 fields, saw 3\\nSkipping line 568: expected 2 fields, saw 3\\nSkipping line 600: expected 2 fields, saw 3\\nSkipping line 616: expected 2 fields, saw 4\\nSkipping line 617: expected 2 fields, saw 3\\nSkipping line 630: expected 2 fields, saw 7\\nSkipping line 634: expected 2 fields, saw 4\\nSkipping line 647: expected 2 fields, saw 3\\nSkipping line 691: expected 2 fields, saw 3\\nSkipping line 694: expected 2 fields, saw 3\\nSkipping line 739: expected 2 fields, saw 4\\nSkipping line 771: expected 2 fields, saw 3\\nSkipping line 784: expected 2 fields, saw 4\\nSkipping line 786: expected 2 fields, saw 3\\nSkipping line 787: expected 2 fields, saw 3\\nSkipping line 841: expected 2 fields, saw 3\\nSkipping line 858: expected 2 fields, saw 4\\nSkipping line 865: expected 2 fields, saw 3\\nSkipping line 895: expected 2 fields, saw 3\\nSkipping line 900: expected 2 fields, saw 3\\nSkipping line 902: expected 2 fields, saw 3\\nSkipping line 912: expected 2 fields, saw 4\\nSkipping line 944: expected 2 fields, saw 3\\n'\n"
     ]
    }
   ],
   "source": [
    "import nltk\n",
    "data = pd.read_csv(\"scraper/Iphone.csv\",header=None,error_bad_lines=False,quotechar=None, quoting=3)\n",
    "texts = data[0]\n",
    "positive = 0\n",
    "negative = 0\n",
    "neutral = 0\n",
    "print(len(texts))\n",
    "for t in texts:\n",
    "#     print(t)\n",
    "    sentiment = sid.polarity_scores(t)\n",
    "    for k in sorted(sentiment):\n",
    "        if sentiment[k] > 0:\n",
    "            positive += 1\n",
    "        if sentiment[k] < 0:\n",
    "            negative += 1\n",
    "        if sentiment[k] == 0.0:\n",
    "            neutral += 1\n",
    "print(\"Negative: \" + str(negative))\n",
    "print(\"Positive: \" + str(positive))\n",
    "print(\"Neutral: \" + str(neutral))"
   ]
  },
  {
   "cell_type": "code",
   "execution_count": 30,
   "metadata": {},
   "outputs": [
    {
     "name": "stdout",
     "output_type": "stream",
     "text": [
      "833\n",
      "Negative: 65\n",
      "Positive: 1096\n",
      "Neutral: 2171\n"
     ]
    },
    {
     "name": "stderr",
     "output_type": "stream",
     "text": [
      "b'Skipping line 2: expected 4 fields, saw 7\\nSkipping line 22: expected 4 fields, saw 7\\nSkipping line 23: expected 4 fields, saw 5\\nSkipping line 36: expected 4 fields, saw 6\\nSkipping line 50: expected 4 fields, saw 6\\nSkipping line 56: expected 4 fields, saw 6\\nSkipping line 107: expected 4 fields, saw 6\\nSkipping line 132: expected 4 fields, saw 6\\nSkipping line 351: expected 4 fields, saw 6\\nSkipping line 571: expected 4 fields, saw 6\\nSkipping line 577: expected 4 fields, saw 5\\n'\n"
     ]
    }
   ],
   "source": [
    "import nltk\n",
    "data = pd.read_csv(\"scraper/ExxonMobil.csv\",header=None,error_bad_lines=False,quotechar=None, quoting=3)\n",
    "texts = data[0]\n",
    "positive = 0\n",
    "negative = 0\n",
    "neutral = 0\n",
    "print(len(texts))\n",
    "for t in texts:\n",
    "#     print(t)\n",
    "    sentiment = sid.polarity_scores(t)\n",
    "    for k in sorted(sentiment):\n",
    "        if sentiment[k] > 0:\n",
    "            positive += 1\n",
    "        if sentiment[k] < 0:\n",
    "            negative += 1\n",
    "        if sentiment[k] == 0.0:\n",
    "            neutral += 1\n",
    "print(\"Negative: \" + str(negative))\n",
    "print(\"Positive: \" + str(positive))\n",
    "print(\"Neutral: \" + str(neutral))"
   ]
  },
  {
   "cell_type": "code",
   "execution_count": 31,
   "metadata": {},
   "outputs": [
    {
     "name": "stdout",
     "output_type": "stream",
     "text": [
      "684\n",
      "Negative: 284\n",
      "Positive: 1281\n",
      "Neutral: 1171\n"
     ]
    },
    {
     "name": "stderr",
     "output_type": "stream",
     "text": [
      "b'Skipping line 26: expected 2 fields, saw 3\\nSkipping line 30: expected 2 fields, saw 4\\nSkipping line 34: expected 2 fields, saw 5\\nSkipping line 43: expected 2 fields, saw 3\\nSkipping line 74: expected 2 fields, saw 4\\nSkipping line 79: expected 2 fields, saw 3\\nSkipping line 95: expected 2 fields, saw 3\\nSkipping line 103: expected 2 fields, saw 4\\nSkipping line 146: expected 2 fields, saw 3\\nSkipping line 163: expected 2 fields, saw 3\\nSkipping line 171: expected 2 fields, saw 3\\nSkipping line 192: expected 2 fields, saw 7\\nSkipping line 212: expected 2 fields, saw 4\\nSkipping line 269: expected 2 fields, saw 9\\nSkipping line 274: expected 2 fields, saw 3\\nSkipping line 280: expected 2 fields, saw 3\\nSkipping line 293: expected 2 fields, saw 4\\nSkipping line 335: expected 2 fields, saw 3\\nSkipping line 367: expected 2 fields, saw 4\\nSkipping line 368: expected 2 fields, saw 4\\nSkipping line 405: expected 2 fields, saw 4\\nSkipping line 414: expected 2 fields, saw 4\\nSkipping line 420: expected 2 fields, saw 4\\nSkipping line 423: expected 2 fields, saw 3\\nSkipping line 425: expected 2 fields, saw 3\\nSkipping line 431: expected 2 fields, saw 4\\nSkipping line 441: expected 2 fields, saw 3\\nSkipping line 462: expected 2 fields, saw 3\\nSkipping line 478: expected 2 fields, saw 3\\nSkipping line 487: expected 2 fields, saw 3\\nSkipping line 493: expected 2 fields, saw 4\\nSkipping line 498: expected 2 fields, saw 3\\nSkipping line 515: expected 2 fields, saw 3\\nSkipping line 516: expected 2 fields, saw 3\\nSkipping line 525: expected 2 fields, saw 4\\nSkipping line 534: expected 2 fields, saw 3\\nSkipping line 562: expected 2 fields, saw 3\\nSkipping line 574: expected 2 fields, saw 3\\nSkipping line 591: expected 2 fields, saw 3\\nSkipping line 636: expected 2 fields, saw 6\\nSkipping line 641: expected 2 fields, saw 3\\nSkipping line 659: expected 2 fields, saw 3\\nSkipping line 662: expected 2 fields, saw 3\\nSkipping line 671: expected 2 fields, saw 5\\nSkipping line 676: expected 2 fields, saw 3\\nSkipping line 693: expected 2 fields, saw 3\\nSkipping line 706: expected 2 fields, saw 3\\nSkipping line 712: expected 2 fields, saw 3\\nSkipping line 726: expected 2 fields, saw 3\\nSkipping line 740: expected 2 fields, saw 4\\nSkipping line 744: expected 2 fields, saw 3\\nSkipping line 751: expected 2 fields, saw 3\\nSkipping line 752: expected 2 fields, saw 4\\nSkipping line 795: expected 2 fields, saw 6\\nSkipping line 799: expected 2 fields, saw 4\\nSkipping line 814: expected 2 fields, saw 3\\nSkipping line 843: expected 2 fields, saw 3\\nSkipping line 857: expected 2 fields, saw 3\\n'\n"
     ]
    }
   ],
   "source": [
    "import nltk\n",
    "data = pd.read_csv(\"scraper/Danger.csv\",header=None,error_bad_lines=False,quotechar=None, quoting=3)\n",
    "texts = data[0]\n",
    "positive = 0\n",
    "negative = 0\n",
    "neutral = 0\n",
    "print(len(texts))\n",
    "for t in texts:\n",
    "#     print(t)\n",
    "    sentiment = sid.polarity_scores(t)\n",
    "    for k in sorted(sentiment):\n",
    "        if sentiment[k] > 0:\n",
    "            positive += 1\n",
    "        if sentiment[k] < 0:\n",
    "            negative += 1\n",
    "        if sentiment[k] == 0.0:\n",
    "            neutral += 1\n",
    "print(\"Negative: \" + str(negative))\n",
    "print(\"Positive: \" + str(positive))\n",
    "print(\"Neutral: \" + str(neutral))"
   ]
  },
  {
   "cell_type": "code",
   "execution_count": 34,
   "metadata": {},
   "outputs": [
    {
     "name": "stderr",
     "output_type": "stream",
     "text": [
      "b'Skipping line 2: expected 1 fields, saw 2\\nSkipping line 27: expected 1 fields, saw 3\\nSkipping line 32: expected 1 fields, saw 2\\nSkipping line 37: expected 1 fields, saw 3\\nSkipping line 41: expected 1 fields, saw 2\\nSkipping line 49: expected 1 fields, saw 2\\nSkipping line 51: expected 1 fields, saw 3\\nSkipping line 56: expected 1 fields, saw 2\\nSkipping line 59: expected 1 fields, saw 2\\nSkipping line 60: expected 1 fields, saw 2\\nSkipping line 61: expected 1 fields, saw 4\\nSkipping line 75: expected 1 fields, saw 3\\nSkipping line 91: expected 1 fields, saw 2\\nSkipping line 100: expected 1 fields, saw 2\\nSkipping line 111: expected 1 fields, saw 3\\nSkipping line 125: expected 1 fields, saw 3\\nSkipping line 142: expected 1 fields, saw 2\\nSkipping line 145: expected 1 fields, saw 5\\nSkipping line 174: expected 1 fields, saw 2\\nSkipping line 187: expected 1 fields, saw 2\\nSkipping line 206: expected 1 fields, saw 6\\nSkipping line 210: expected 1 fields, saw 2\\nSkipping line 211: expected 1 fields, saw 2\\nSkipping line 228: expected 1 fields, saw 2\\nSkipping line 229: expected 1 fields, saw 3\\nSkipping line 231: expected 1 fields, saw 2\\nSkipping line 232: expected 1 fields, saw 2\\nSkipping line 234: expected 1 fields, saw 2\\nSkipping line 250: expected 1 fields, saw 6\\nSkipping line 258: expected 1 fields, saw 2\\nSkipping line 260: expected 1 fields, saw 2\\nSkipping line 275: expected 1 fields, saw 3\\nSkipping line 276: expected 1 fields, saw 2\\nSkipping line 278: expected 1 fields, saw 3\\nSkipping line 297: expected 1 fields, saw 6\\nSkipping line 328: expected 1 fields, saw 6\\nSkipping line 337: expected 1 fields, saw 6\\nSkipping line 341: expected 1 fields, saw 2\\nSkipping line 359: expected 1 fields, saw 3\\nSkipping line 360: expected 1 fields, saw 2\\nSkipping line 376: expected 1 fields, saw 3\\nSkipping line 377: expected 1 fields, saw 3\\nSkipping line 381: expected 1 fields, saw 2\\nSkipping line 412: expected 1 fields, saw 2\\nSkipping line 436: expected 1 fields, saw 2\\nSkipping line 440: expected 1 fields, saw 3\\nSkipping line 454: expected 1 fields, saw 2\\nSkipping line 466: expected 1 fields, saw 2\\nSkipping line 496: expected 1 fields, saw 2\\nSkipping line 509: expected 1 fields, saw 2\\nSkipping line 516: expected 1 fields, saw 2\\nSkipping line 523: expected 1 fields, saw 2\\nSkipping line 532: expected 1 fields, saw 2\\nSkipping line 534: expected 1 fields, saw 2\\nSkipping line 548: expected 1 fields, saw 2\\nSkipping line 556: expected 1 fields, saw 2\\nSkipping line 561: expected 1 fields, saw 2\\nSkipping line 563: expected 1 fields, saw 2\\nSkipping line 590: expected 1 fields, saw 3\\nSkipping line 641: expected 1 fields, saw 6\\nSkipping line 669: expected 1 fields, saw 2\\nSkipping line 671: expected 1 fields, saw 2\\nSkipping line 680: expected 1 fields, saw 6\\nSkipping line 704: expected 1 fields, saw 3\\nSkipping line 742: expected 1 fields, saw 4\\nSkipping line 745: expected 1 fields, saw 6\\nSkipping line 878: expected 1 fields, saw 2\\nSkipping line 897: expected 1 fields, saw 3\\nSkipping line 905: expected 1 fields, saw 2\\nSkipping line 911: expected 1 fields, saw 2\\nSkipping line 913: expected 1 fields, saw 2\\nSkipping line 947: expected 1 fields, saw 2\\nSkipping line 957: expected 1 fields, saw 4\\nSkipping line 966: expected 1 fields, saw 3\\nSkipping line 972: expected 1 fields, saw 4\\nSkipping line 988: expected 1 fields, saw 6\\nSkipping line 995: expected 1 fields, saw 2\\nSkipping line 996: expected 1 fields, saw 3\\nSkipping line 1007: expected 1 fields, saw 2\\nSkipping line 1015: expected 1 fields, saw 4\\nSkipping line 1027: expected 1 fields, saw 4\\nSkipping line 1039: expected 1 fields, saw 2\\nSkipping line 1045: expected 1 fields, saw 4\\nSkipping line 1064: expected 1 fields, saw 2\\nSkipping line 1082: expected 1 fields, saw 6\\nSkipping line 1083: expected 1 fields, saw 2\\nSkipping line 1088: expected 1 fields, saw 2\\nSkipping line 1092: expected 1 fields, saw 3\\nSkipping line 1093: expected 1 fields, saw 3\\nSkipping line 1094: expected 1 fields, saw 2\\nSkipping line 1099: expected 1 fields, saw 4\\nSkipping line 1103: expected 1 fields, saw 2\\nSkipping line 1108: expected 1 fields, saw 2\\nSkipping line 1110: expected 1 fields, saw 2\\nSkipping line 1112: expected 1 fields, saw 3\\nSkipping line 1113: expected 1 fields, saw 3\\nSkipping line 1150: expected 1 fields, saw 3\\nSkipping line 1172: expected 1 fields, saw 2\\nSkipping line 1206: expected 1 fields, saw 2\\nSkipping line 1210: expected 1 fields, saw 2\\nSkipping line 1216: expected 1 fields, saw 3\\nSkipping line 1268: expected 1 fields, saw 4\\nSkipping line 1281: expected 1 fields, saw 2\\nSkipping line 1299: expected 1 fields, saw 2\\nSkipping line 1300: expected 1 fields, saw 4\\nSkipping line 1328: expected 1 fields, saw 3\\nSkipping line 1347: expected 1 fields, saw 3\\nSkipping line 1368: expected 1 fields, saw 2\\nSkipping line 1376: expected 1 fields, saw 2\\nSkipping line 1390: expected 1 fields, saw 2\\nSkipping line 1391: expected 1 fields, saw 3\\nSkipping line 1409: expected 1 fields, saw 2\\nSkipping line 1414: expected 1 fields, saw 2\\nSkipping line 1425: expected 1 fields, saw 6\\nSkipping line 1427: expected 1 fields, saw 4\\nSkipping line 1432: expected 1 fields, saw 4\\nSkipping line 1435: expected 1 fields, saw 2\\nSkipping line 1437: expected 1 fields, saw 5\\nSkipping line 1442: expected 1 fields, saw 4\\nSkipping line 1476: expected 1 fields, saw 4\\nSkipping line 1490: expected 1 fields, saw 2\\nSkipping line 1496: expected 1 fields, saw 2\\nSkipping line 1497: expected 1 fields, saw 4\\nSkipping line 1501: expected 1 fields, saw 2\\nSkipping line 1547: expected 1 fields, saw 2\\nSkipping line 1551: expected 1 fields, saw 2\\nSkipping line 1553: expected 1 fields, saw 3\\nSkipping line 1555: expected 1 fields, saw 2\\nSkipping line 1556: expected 1 fields, saw 2\\nSkipping line 1557: expected 1 fields, saw 2\\nSkipping line 1558: expected 1 fields, saw 2\\nSkipping line 1559: expected 1 fields, saw 2\\nSkipping line 1567: expected 1 fields, saw 8\\nSkipping line 1569: expected 1 fields, saw 3\\nSkipping line 1574: expected 1 fields, saw 4\\nSkipping line 1576: expected 1 fields, saw 5\\nSkipping line 1578: expected 1 fields, saw 4\\nSkipping line 1580: expected 1 fields, saw 6\\nSkipping line 1582: expected 1 fields, saw 8\\nSkipping line 1584: expected 1 fields, saw 4\\nSkipping line 1586: expected 1 fields, saw 8\\nSkipping line 1588: expected 1 fields, saw 2\\nSkipping line 1593: expected 1 fields, saw 2\\nSkipping line 1595: expected 1 fields, saw 3\\nSkipping line 1597: expected 1 fields, saw 5\\nSkipping line 1599: expected 1 fields, saw 3\\nSkipping line 1601: expected 1 fields, saw 3\\nSkipping line 1603: expected 1 fields, saw 3\\nSkipping line 1605: expected 1 fields, saw 3\\nSkipping line 1607: expected 1 fields, saw 5\\nSkipping line 1609: expected 1 fields, saw 7\\nSkipping line 1611: expected 1 fields, saw 3\\nSkipping line 1613: expected 1 fields, saw 2\\nSkipping line 1615: expected 1 fields, saw 4\\nSkipping line 1617: expected 1 fields, saw 4\\nSkipping line 1619: expected 1 fields, saw 5\\nSkipping line 1621: expected 1 fields, saw 6\\nSkipping line 1623: expected 1 fields, saw 2\\nSkipping line 1625: expected 1 fields, saw 2\\nSkipping line 1630: expected 1 fields, saw 2\\nSkipping line 1631: expected 1 fields, saw 2\\nSkipping line 1632: expected 1 fields, saw 4\\nSkipping line 1637: expected 1 fields, saw 4\\nSkipping line 1638: expected 1 fields, saw 2\\nSkipping line 1661: expected 1 fields, saw 2\\nSkipping line 1695: expected 1 fields, saw 2\\nSkipping line 1715: expected 1 fields, saw 3\\nSkipping line 1745: expected 1 fields, saw 4\\nSkipping line 1750: expected 1 fields, saw 2\\nSkipping line 1752: expected 1 fields, saw 2\\nSkipping line 1774: expected 1 fields, saw 2\\nSkipping line 1775: expected 1 fields, saw 2\\nSkipping line 1776: expected 1 fields, saw 2\\nSkipping line 1777: expected 1 fields, saw 2\\nSkipping line 1778: expected 1 fields, saw 2\\nSkipping line 1781: expected 1 fields, saw 10\\nSkipping line 1783: expected 1 fields, saw 23\\nSkipping line 1795: expected 1 fields, saw 9\\nSkipping line 1807: expected 1 fields, saw 20\\nSkipping line 1819: expected 1 fields, saw 18\\nSkipping line 1831: expected 1 fields, saw 17\\nSkipping line 1853: expected 1 fields, saw 5\\nSkipping line 1855: expected 1 fields, saw 2\\nSkipping line 1857: expected 1 fields, saw 2\\nSkipping line 1861: expected 1 fields, saw 2\\nSkipping line 1863: expected 1 fields, saw 2\\nSkipping line 1865: expected 1 fields, saw 3\\nSkipping line 1875: expected 1 fields, saw 2\\nSkipping line 1885: expected 1 fields, saw 2\\nSkipping line 1893: expected 1 fields, saw 2\\nSkipping line 1897: expected 1 fields, saw 2\\nSkipping line 1899: expected 1 fields, saw 2\\nSkipping line 1915: expected 1 fields, saw 2\\nSkipping line 1919: expected 1 fields, saw 2\\nSkipping line 1921: expected 1 fields, saw 2\\nSkipping line 1923: expected 1 fields, saw 2\\nSkipping line 1931: expected 1 fields, saw 2\\nSkipping line 1989: expected 1 fields, saw 2\\nSkipping line 1991: expected 1 fields, saw 2\\nSkipping line 2007: expected 1 fields, saw 2\\nSkipping line 2015: expected 1 fields, saw 2\\nSkipping line 2039: expected 1 fields, saw 2\\nSkipping line 2079: expected 1 fields, saw 2\\nSkipping line 2176: expected 1 fields, saw 4\\nSkipping line 2180: expected 1 fields, saw 2\\nSkipping line 2186: expected 1 fields, saw 8\\nSkipping line 2199: expected 1 fields, saw 2\\nSkipping line 2201: expected 1 fields, saw 3\\nSkipping line 2203: expected 1 fields, saw 2\\nSkipping line 2205: expected 1 fields, saw 3\\nSkipping line 2208: expected 1 fields, saw 2\\nSkipping line 2311: expected 1 fields, saw 7\\nSkipping line 2313: expected 1 fields, saw 5\\nSkipping line 2315: expected 1 fields, saw 21\\nSkipping line 2317: expected 1 fields, saw 10\\nSkipping line 2321: expected 1 fields, saw 13\\nSkipping line 2323: expected 1 fields, saw 3\\nSkipping line 2325: expected 1 fields, saw 2\\nSkipping line 2329: expected 1 fields, saw 7\\nSkipping line 2331: expected 1 fields, saw 10\\nSkipping line 2333: expected 1 fields, saw 10\\nSkipping line 2335: expected 1 fields, saw 13\\nSkipping line 2337: expected 1 fields, saw 4\\nSkipping line 2339: expected 1 fields, saw 5\\nSkipping line 2341: expected 1 fields, saw 11\\nSkipping line 2343: expected 1 fields, saw 13\\nSkipping line 2347: expected 1 fields, saw 9\\nSkipping line 2349: expected 1 fields, saw 2\\nSkipping line 2351: expected 1 fields, saw 26\\nSkipping line 2353: expected 1 fields, saw 24\\nSkipping line 2355: expected 1 fields, saw 4\\nSkipping line 2357: expected 1 fields, saw 15\\nSkipping line 2361: expected 1 fields, saw 12\\nSkipping line 2363: expected 1 fields, saw 14\\nSkipping line 2365: expected 1 fields, saw 9\\nSkipping line 2369: expected 1 fields, saw 10\\nSkipping line 2371: expected 1 fields, saw 3\\nSkipping line 2373: expected 1 fields, saw 5\\nSkipping line 2375: expected 1 fields, saw 8\\nSkipping line 2377: expected 1 fields, saw 13\\nSkipping line 2379: expected 1 fields, saw 9\\nSkipping line 2381: expected 1 fields, saw 4\\nSkipping line 2383: expected 1 fields, saw 3\\nSkipping line 2385: expected 1 fields, saw 11\\nSkipping line 2387: expected 1 fields, saw 3\\nSkipping line 2389: expected 1 fields, saw 8\\nSkipping line 2391: expected 1 fields, saw 15\\nSkipping line 2393: expected 1 fields, saw 7\\nSkipping line 2397: expected 1 fields, saw 5\\nSkipping line 2399: expected 1 fields, saw 2\\nSkipping line 2401: expected 1 fields, saw 8\\nSkipping line 2403: expected 1 fields, saw 3\\nSkipping line 2405: expected 1 fields, saw 16\\nSkipping line 2413: expected 1 fields, saw 11\\nSkipping line 2415: expected 1 fields, saw 6\\nSkipping line 2419: expected 1 fields, saw 9\\nSkipping line 2423: expected 1 fields, saw 14\\nSkipping line 2424: expected 1 fields, saw 16\\nSkipping line 2426: expected 1 fields, saw 4\\nSkipping line 2430: expected 1 fields, saw 4\\nSkipping line 2432: expected 1 fields, saw 10\\nSkipping line 2434: expected 1 fields, saw 4\\nSkipping line 2438: expected 1 fields, saw 16\\nSkipping line 2440: expected 1 fields, saw 9\\nSkipping line 2445: expected 1 fields, saw 2\\nSkipping line 2448: expected 1 fields, saw 2\\nSkipping line 2449: expected 1 fields, saw 3\\nSkipping line 2451: expected 1 fields, saw 2\\nSkipping line 2455: expected 1 fields, saw 2\\nSkipping line 2457: expected 1 fields, saw 4\\nSkipping line 2461: expected 1 fields, saw 2\\nSkipping line 2463: expected 1 fields, saw 2\\nSkipping line 2473: expected 1 fields, saw 3\\nSkipping line 2480: expected 1 fields, saw 6\\nSkipping line 2482: expected 1 fields, saw 4\\nSkipping line 2484: expected 1 fields, saw 3\\nSkipping line 2486: expected 1 fields, saw 3\\nSkipping line 2488: expected 1 fields, saw 3\\nSkipping line 2490: expected 1 fields, saw 6\\nSkipping line 2496: expected 1 fields, saw 3\\nSkipping line 2498: expected 1 fields, saw 3\\nSkipping line 2502: expected 1 fields, saw 5\\nSkipping line 2504: expected 1 fields, saw 3\\nSkipping line 2506: expected 1 fields, saw 2\\nSkipping line 2508: expected 1 fields, saw 4\\nSkipping line 2510: expected 1 fields, saw 5\\nSkipping line 2512: expected 1 fields, saw 2\\nSkipping line 2514: expected 1 fields, saw 2\\nSkipping line 2516: expected 1 fields, saw 2\\nSkipping line 2518: expected 1 fields, saw 2\\nSkipping line 2520: expected 1 fields, saw 2\\nSkipping line 2524: expected 1 fields, saw 5\\nSkipping line 2528: expected 1 fields, saw 2\\nSkipping line 2534: expected 1 fields, saw 3\\nSkipping line 2536: expected 1 fields, saw 2\\nSkipping line 2542: expected 1 fields, saw 4\\nSkipping line 2544: expected 1 fields, saw 2\\nSkipping line 2546: expected 1 fields, saw 9\\nSkipping line 2550: expected 1 fields, saw 3\\nSkipping line 2552: expected 1 fields, saw 2\\nSkipping line 2554: expected 1 fields, saw 4\\nSkipping line 2556: expected 1 fields, saw 2\\nSkipping line 2560: expected 1 fields, saw 3\\nSkipping line 2562: expected 1 fields, saw 2\\nSkipping line 2564: expected 1 fields, saw 6\\nSkipping line 2566: expected 1 fields, saw 2\\nSkipping line 2568: expected 1 fields, saw 3\\nSkipping line 2570: expected 1 fields, saw 2\\nSkipping line 2572: expected 1 fields, saw 4\\nSkipping line 2576: expected 1 fields, saw 3\\nSkipping line 2580: expected 1 fields, saw 3\\nSkipping line 2582: expected 1 fields, saw 2\\nSkipping line 2584: expected 1 fields, saw 2\\nSkipping line 2586: expected 1 fields, saw 2\\nSkipping line 2588: expected 1 fields, saw 2\\nSkipping line 2590: expected 1 fields, saw 2\\nSkipping line 2592: expected 1 fields, saw 4\\nSkipping line 2594: expected 1 fields, saw 3\\nSkipping line 2596: expected 1 fields, saw 3\\nSkipping line 2598: expected 1 fields, saw 2\\nSkipping line 2600: expected 1 fields, saw 3\\nSkipping line 2608: expected 1 fields, saw 2\\nSkipping line 2610: expected 1 fields, saw 3\\nSkipping line 2612: expected 1 fields, saw 2\\nSkipping line 2614: expected 1 fields, saw 3\\nSkipping line 2618: expected 1 fields, saw 3\\nSkipping line 2622: expected 1 fields, saw 5\\nSkipping line 2626: expected 1 fields, saw 2\\nSkipping line 2628: expected 1 fields, saw 4\\nSkipping line 2630: expected 1 fields, saw 5\\nSkipping line 2632: expected 1 fields, saw 3\\nSkipping line 2634: expected 1 fields, saw 3\\nSkipping line 2636: expected 1 fields, saw 2\\nSkipping line 2644: expected 1 fields, saw 4\\nSkipping line 2646: expected 1 fields, saw 2\\nSkipping line 2648: expected 1 fields, saw 5\\nSkipping line 2650: expected 1 fields, saw 5\\nSkipping line 2652: expected 1 fields, saw 2\\nSkipping line 2654: expected 1 fields, saw 3\\nSkipping line 2656: expected 1 fields, saw 2\\nSkipping line 2658: expected 1 fields, saw 3\\nSkipping line 2660: expected 1 fields, saw 3\\nSkipping line 2662: expected 1 fields, saw 3\\nSkipping line 2664: expected 1 fields, saw 6\\nSkipping line 2666: expected 1 fields, saw 2\\nSkipping line 2668: expected 1 fields, saw 3\\nSkipping line 2670: expected 1 fields, saw 2\\nSkipping line 2672: expected 1 fields, saw 2\\nSkipping line 2674: expected 1 fields, saw 3\\nSkipping line 2676: expected 1 fields, saw 2\\nSkipping line 2680: expected 1 fields, saw 2\\nSkipping line 2682: expected 1 fields, saw 2\\nSkipping line 2684: expected 1 fields, saw 2\\nSkipping line 2688: expected 1 fields, saw 2\\nSkipping line 2692: expected 1 fields, saw 3\\nSkipping line 2696: expected 1 fields, saw 2\\nSkipping line 2698: expected 1 fields, saw 2\\nSkipping line 2700: expected 1 fields, saw 6\\nSkipping line 2704: expected 1 fields, saw 3\\nSkipping line 2706: expected 1 fields, saw 3\\nSkipping line 2708: expected 1 fields, saw 2\\nSkipping line 2712: expected 1 fields, saw 4\\nSkipping line 2714: expected 1 fields, saw 5\\nSkipping line 2716: expected 1 fields, saw 3\\nSkipping line 2718: expected 1 fields, saw 4\\nSkipping line 2722: expected 1 fields, saw 2\\nSkipping line 2724: expected 1 fields, saw 5\\nSkipping line 2726: expected 1 fields, saw 4\\nSkipping line 2728: expected 1 fields, saw 4\\nSkipping line 2730: expected 1 fields, saw 2\\nSkipping line 2732: expected 1 fields, saw 4\\nSkipping line 2734: expected 1 fields, saw 2\\nSkipping line 2736: expected 1 fields, saw 2\\nSkipping line 2738: expected 1 fields, saw 5\\nSkipping line 2742: expected 1 fields, saw 3\\nSkipping line 2744: expected 1 fields, saw 3\\nSkipping line 2748: expected 1 fields, saw 4\\nSkipping line 2752: expected 1 fields, saw 3\\nSkipping line 2754: expected 1 fields, saw 2\\nSkipping line 2756: expected 1 fields, saw 3\\nSkipping line 2758: expected 1 fields, saw 3\\nSkipping line 2760: expected 1 fields, saw 2\\nSkipping line 2762: expected 1 fields, saw 2\\nSkipping line 2776: expected 1 fields, saw 3\\nSkipping line 2778: expected 1 fields, saw 3\\nSkipping line 2780: expected 1 fields, saw 3\\nSkipping line 2782: expected 1 fields, saw 3\\nSkipping line 2784: expected 1 fields, saw 3\\nSkipping line 2786: expected 1 fields, saw 2\\nSkipping line 2788: expected 1 fields, saw 2\\nSkipping line 2790: expected 1 fields, saw 2\\nSkipping line 2794: expected 1 fields, saw 3\\nSkipping line 2798: expected 1 fields, saw 3\\nSkipping line 2800: expected 1 fields, saw 3\\nSkipping line 2816: expected 1 fields, saw 2\\nSkipping line 2818: expected 1 fields, saw 2\\nSkipping line 2820: expected 1 fields, saw 5\\nSkipping line 2822: expected 1 fields, saw 3\\nSkipping line 2824: expected 1 fields, saw 2\\nSkipping line 2826: expected 1 fields, saw 7\\nSkipping line 2828: expected 1 fields, saw 4\\nSkipping line 2830: expected 1 fields, saw 9\\nSkipping line 2832: expected 1 fields, saw 3\\nSkipping line 2834: expected 1 fields, saw 6\\nSkipping line 2836: expected 1 fields, saw 3\\nSkipping line 2837: expected 1 fields, saw 3\\nSkipping line 2840: expected 1 fields, saw 2\\nSkipping line 2842: expected 1 fields, saw 2\\nSkipping line 2851: expected 1 fields, saw 3\\nSkipping line 2853: expected 1 fields, saw 4\\nSkipping line 2859: expected 1 fields, saw 3\\nSkipping line 2865: expected 1 fields, saw 2\\nSkipping line 2867: expected 1 fields, saw 3\\nSkipping line 2869: expected 1 fields, saw 2\\nSkipping line 2875: expected 1 fields, saw 4\\nSkipping line 2882: expected 1 fields, saw 3\\nSkipping line 2913: expected 1 fields, saw 3\\nSkipping line 2931: expected 1 fields, saw 2\\nSkipping line 2938: expected 1 fields, saw 2\\nSkipping line 2939: expected 1 fields, saw 2\\nSkipping line 2940: expected 1 fields, saw 2\\nSkipping line 2941: expected 1 fields, saw 2\\nSkipping line 2942: expected 1 fields, saw 2\\nSkipping line 2943: expected 1 fields, saw 2\\nSkipping line 2945: expected 1 fields, saw 2\\nSkipping line 2946: expected 1 fields, saw 2\\nSkipping line 2947: expected 1 fields, saw 2\\nSkipping line 2948: expected 1 fields, saw 2\\nSkipping line 2949: expected 1 fields, saw 2\\nSkipping line 2950: expected 1 fields, saw 2\\nSkipping line 2954: expected 1 fields, saw 2\\nSkipping line 2979: expected 1 fields, saw 3\\nSkipping line 2994: expected 1 fields, saw 2\\nSkipping line 2998: expected 1 fields, saw 11\\nSkipping line 3000: expected 1 fields, saw 3\\nSkipping line 3001: expected 1 fields, saw 3\\nSkipping line 3003: expected 1 fields, saw 2\\nSkipping line 3005: expected 1 fields, saw 4\\nSkipping line 3007: expected 1 fields, saw 5\\nSkipping line 3009: expected 1 fields, saw 6\\nSkipping line 3023: expected 1 fields, saw 2\\nSkipping line 3027: expected 1 fields, saw 4\\nSkipping line 3030: expected 1 fields, saw 2\\nSkipping line 3031: expected 1 fields, saw 2\\nSkipping line 3051: expected 1 fields, saw 6\\nSkipping line 3053: expected 1 fields, saw 3\\nSkipping line 3059: expected 1 fields, saw 2\\nSkipping line 3323: expected 1 fields, saw 4\\nSkipping line 3324: expected 1 fields, saw 3\\nSkipping line 3325: expected 1 fields, saw 3\\nSkipping line 3329: expected 1 fields, saw 4\\nSkipping line 3330: expected 1 fields, saw 2\\nSkipping line 3331: expected 1 fields, saw 2\\nSkipping line 3333: expected 1 fields, saw 4\\nSkipping line 3338: expected 1 fields, saw 3\\nSkipping line 3340: expected 1 fields, saw 3\\nSkipping line 3342: expected 1 fields, saw 2\\nSkipping line 3343: expected 1 fields, saw 2\\nSkipping line 3347: expected 1 fields, saw 17\\nSkipping line 3349: expected 1 fields, saw 5\\nSkipping line 3351: expected 1 fields, saw 2\\nSkipping line 3353: expected 1 fields, saw 2\\nSkipping line 3355: expected 1 fields, saw 2\\nSkipping line 3357: expected 1 fields, saw 3\\nSkipping line 3359: expected 1 fields, saw 2\\nSkipping line 3361: expected 1 fields, saw 2\\nSkipping line 3363: expected 1 fields, saw 4\\nSkipping line 3365: expected 1 fields, saw 3\\nSkipping line 3367: expected 1 fields, saw 3\\nSkipping line 3369: expected 1 fields, saw 3\\nSkipping line 3371: expected 1 fields, saw 4\\nSkipping line 3372: expected 1 fields, saw 6\\nSkipping line 3374: expected 1 fields, saw 17\\nSkipping line 3376: expected 1 fields, saw 16\\nSkipping line 3378: expected 1 fields, saw 6\\nSkipping line 3380: expected 1 fields, saw 2\\nSkipping line 3381: expected 1 fields, saw 2\\nSkipping line 3383: expected 1 fields, saw 3\\nSkipping line 3385: expected 1 fields, saw 2\\nSkipping line 3387: expected 1 fields, saw 9\\nSkipping line 3389: expected 1 fields, saw 2\\nSkipping line 3391: expected 1 fields, saw 2\\nSkipping line 3393: expected 1 fields, saw 2\\nSkipping line 3394: expected 1 fields, saw 14\\nSkipping line 3395: expected 1 fields, saw 8\\nSkipping line 3397: expected 1 fields, saw 13\\nSkipping line 3399: expected 1 fields, saw 25\\nSkipping line 3401: expected 1 fields, saw 15\\nSkipping line 3403: expected 1 fields, saw 3\\nSkipping line 3405: expected 1 fields, saw 4\\nSkipping line 3411: expected 1 fields, saw 3\\nSkipping line 3413: expected 1 fields, saw 5\\nSkipping line 3419: expected 1 fields, saw 2\\nSkipping line 3425: expected 1 fields, saw 17\\nSkipping line 3427: expected 1 fields, saw 203\\nSkipping line 3428: expected 1 fields, saw 2\\nSkipping line 3430: expected 1 fields, saw 3\\nSkipping line 3434: expected 1 fields, saw 2\\nSkipping line 3436: expected 1 fields, saw 2\\nSkipping line 3438: expected 1 fields, saw 2\\nSkipping line 3440: expected 1 fields, saw 2\\nSkipping line 3442: expected 1 fields, saw 2\\nSkipping line 3444: expected 1 fields, saw 5\\nSkipping line 3446: expected 1 fields, saw 3\\nSkipping line 3448: expected 1 fields, saw 4\\nSkipping line 3450: expected 1 fields, saw 4\\nSkipping line 3452: expected 1 fields, saw 6\\nSkipping line 3454: expected 1 fields, saw 3\\nSkipping line 3462: expected 1 fields, saw 3\\nSkipping line 3466: expected 1 fields, saw 7\\nSkipping line 3468: expected 1 fields, saw 9\\nSkipping line 3470: expected 1 fields, saw 5\\nSkipping line 3478: expected 1 fields, saw 5\\nSkipping line 3480: expected 1 fields, saw 3\\nSkipping line 3482: expected 1 fields, saw 4\\nSkipping line 3484: expected 1 fields, saw 4\\nSkipping line 3486: expected 1 fields, saw 2\\nSkipping line 3488: expected 1 fields, saw 2\\nSkipping line 3490: expected 1 fields, saw 10\\nSkipping line 3492: expected 1 fields, saw 4\\nSkipping line 3494: expected 1 fields, saw 4\\nSkipping line 3504: expected 1 fields, saw 2\\nSkipping line 3512: expected 1 fields, saw 3\\nSkipping line 3514: expected 1 fields, saw 3\\nSkipping line 3516: expected 1 fields, saw 8\\nSkipping line 3518: expected 1 fields, saw 4\\nSkipping line 3520: expected 1 fields, saw 5\\nSkipping line 3522: expected 1 fields, saw 2\\nSkipping line 3530: expected 1 fields, saw 6\\nSkipping line 3538: expected 1 fields, saw 2\\nSkipping line 3544: expected 1 fields, saw 2\\nSkipping line 3546: expected 1 fields, saw 11\\nSkipping line 3548: expected 1 fields, saw 5\\nSkipping line 3550: expected 1 fields, saw 9\\nSkipping line 3552: expected 1 fields, saw 6\\nSkipping line 3558: expected 1 fields, saw 6\\nSkipping line 3560: expected 1 fields, saw 18\\nSkipping line 3568: expected 1 fields, saw 2\\nSkipping line 3574: expected 1 fields, saw 2\\nSkipping line 3576: expected 1 fields, saw 3\\nSkipping line 3584: expected 1 fields, saw 2\\nSkipping line 3586: expected 1 fields, saw 3\\nSkipping line 3588: expected 1 fields, saw 7\\nSkipping line 3590: expected 1 fields, saw 2\\nSkipping line 3600: expected 1 fields, saw 2\\nSkipping line 3607: expected 1 fields, saw 10\\nSkipping line 3610: expected 1 fields, saw 4\\nSkipping line 3611: expected 1 fields, saw 4\\nSkipping line 3614: expected 1 fields, saw 12\\nSkipping line 3616: expected 1 fields, saw 3\\nSkipping line 3617: expected 1 fields, saw 2\\nSkipping line 3619: expected 1 fields, saw 5\\nSkipping line 3621: expected 1 fields, saw 2\\nSkipping line 3627: expected 1 fields, saw 2\\nSkipping line 3630: expected 1 fields, saw 3\\nSkipping line 3633: expected 1 fields, saw 3\\nSkipping line 3645: expected 1 fields, saw 3\\nSkipping line 3649: expected 1 fields, saw 6\\nSkipping line 3651: expected 1 fields, saw 6\\nSkipping line 3653: expected 1 fields, saw 6\\nSkipping line 3655: expected 1 fields, saw 4\\nSkipping line 3657: expected 1 fields, saw 5\\nSkipping line 3660: expected 1 fields, saw 9\\nSkipping line 3663: expected 1 fields, saw 6\\nSkipping line 3665: expected 1 fields, saw 4\\nSkipping line 3666: expected 1 fields, saw 2\\nSkipping line 3670: expected 1 fields, saw 2\\nSkipping line 3676: expected 1 fields, saw 5\\nSkipping line 3678: expected 1 fields, saw 3\\nSkipping line 3680: expected 1 fields, saw 8\\nSkipping line 3682: expected 1 fields, saw 7\\nSkipping line 3684: expected 1 fields, saw 5\\nSkipping line 3686: expected 1 fields, saw 6\\nSkipping line 3688: expected 1 fields, saw 5\\nSkipping line 3690: expected 1 fields, saw 8\\nSkipping line 3692: expected 1 fields, saw 4\\nSkipping line 3694: expected 1 fields, saw 4\\nSkipping line 3696: expected 1 fields, saw 5\\nSkipping line 3698: expected 1 fields, saw 6\\nSkipping line 3700: expected 1 fields, saw 2\\nSkipping line 3702: expected 1 fields, saw 2\\nSkipping line 3704: expected 1 fields, saw 9\\nSkipping line 3706: expected 1 fields, saw 3\\nSkipping line 3708: expected 1 fields, saw 5\\nSkipping line 3710: expected 1 fields, saw 2\\nSkipping line 3712: expected 1 fields, saw 7\\nSkipping line 3714: expected 1 fields, saw 2\\nSkipping line 3716: expected 1 fields, saw 4\\nSkipping line 3718: expected 1 fields, saw 4\\nSkipping line 3720: expected 1 fields, saw 2\\nSkipping line 3724: expected 1 fields, saw 5\\nSkipping line 3726: expected 1 fields, saw 4\\nSkipping line 3728: expected 1 fields, saw 6\\nSkipping line 3730: expected 1 fields, saw 8\\nSkipping line 3732: expected 1 fields, saw 3\\nSkipping line 3734: expected 1 fields, saw 5\\nSkipping line 3736: expected 1 fields, saw 2\\nSkipping line 3738: expected 1 fields, saw 6\\nSkipping line 3742: expected 1 fields, saw 3\\nSkipping line 3744: expected 1 fields, saw 4\\nSkipping line 3746: expected 1 fields, saw 7\\nSkipping line 3748: expected 1 fields, saw 10\\nSkipping line 3752: expected 1 fields, saw 8\\nSkipping line 3756: expected 1 fields, saw 4\\nSkipping line 3758: expected 1 fields, saw 2\\nSkipping line 3760: expected 1 fields, saw 2\\nSkipping line 3762: expected 1 fields, saw 3\\nSkipping line 3764: expected 1 fields, saw 4\\nSkipping line 3766: expected 1 fields, saw 2\\nSkipping line 3768: expected 1 fields, saw 5\\nSkipping line 3770: expected 1 fields, saw 2\\nSkipping line 3772: expected 1 fields, saw 4\\nSkipping line 3779: expected 1 fields, saw 3\\nSkipping line 3784: expected 1 fields, saw 2\\nSkipping line 3787: expected 1 fields, saw 2\\nSkipping line 3789: expected 1 fields, saw 2\\nSkipping line 3798: expected 1 fields, saw 2\\nSkipping line 3799: expected 1 fields, saw 7\\nSkipping line 3800: expected 1 fields, saw 4\\nSkipping line 3807: expected 1 fields, saw 5\\nSkipping line 3819: expected 1 fields, saw 3\\nSkipping line 3820: expected 1 fields, saw 2\\nSkipping line 3825: expected 1 fields, saw 3\\nSkipping line 3827: expected 1 fields, saw 2\\nSkipping line 3829: expected 1 fields, saw 2\\nSkipping line 3831: expected 1 fields, saw 2\\nSkipping line 3832: expected 1 fields, saw 2\\nSkipping line 3836: expected 1 fields, saw 5\\nSkipping line 3837: expected 1 fields, saw 2\\nSkipping line 3839: expected 1 fields, saw 4\\nSkipping line 3843: expected 1 fields, saw 2\\nSkipping line 3849: expected 1 fields, saw 2\\nSkipping line 3851: expected 1 fields, saw 3\\nSkipping line 3855: expected 1 fields, saw 2\\nSkipping line 3862: expected 1 fields, saw 3\\nSkipping line 3866: expected 1 fields, saw 6\\nSkipping line 3868: expected 1 fields, saw 3\\nSkipping line 3872: expected 1 fields, saw 5\\nSkipping line 3876: expected 1 fields, saw 6\\nSkipping line 3881: expected 1 fields, saw 3\\nSkipping line 3885: expected 1 fields, saw 3\\nSkipping line 3891: expected 1 fields, saw 3\\nSkipping line 3909: expected 1 fields, saw 2\\nSkipping line 3911: expected 1 fields, saw 11\\nSkipping line 3913: expected 1 fields, saw 2\\nSkipping line 3915: expected 1 fields, saw 2\\nSkipping line 3917: expected 1 fields, saw 2\\nSkipping line 3953: expected 1 fields, saw 2\\nSkipping line 3955: expected 1 fields, saw 2\\nSkipping line 3957: expected 1 fields, saw 2\\nSkipping line 3967: expected 1 fields, saw 2\\nSkipping line 3969: expected 1 fields, saw 2\\nSkipping line 3971: expected 1 fields, saw 3\\nSkipping line 3973: expected 1 fields, saw 4\\nSkipping line 3977: expected 1 fields, saw 2\\nSkipping line 3979: expected 1 fields, saw 3\\nSkipping line 3981: expected 1 fields, saw 4\\nSkipping line 3983: expected 1 fields, saw 3\\nSkipping line 3985: expected 1 fields, saw 2\\nSkipping line 3987: expected 1 fields, saw 3\\nSkipping line 3989: expected 1 fields, saw 2\\nSkipping line 3991: expected 1 fields, saw 3\\nSkipping line 3993: expected 1 fields, saw 2\\nSkipping line 3995: expected 1 fields, saw 3\\nSkipping line 3997: expected 1 fields, saw 2\\nSkipping line 3999: expected 1 fields, saw 2\\nSkipping line 4001: expected 1 fields, saw 3\\nSkipping line 4009: expected 1 fields, saw 2\\nSkipping line 4060: expected 1 fields, saw 6\\nSkipping line 4061: expected 1 fields, saw 13\\nSkipping line 4062: expected 1 fields, saw 13\\nSkipping line 4063: expected 1 fields, saw 16\\nSkipping line 4064: expected 1 fields, saw 2\\nSkipping line 4075: expected 1 fields, saw 4\\nSkipping line 4077: expected 1 fields, saw 2\\nSkipping line 4078: expected 1 fields, saw 2\\nSkipping line 4080: expected 1 fields, saw 2\\nSkipping line 4149: expected 1 fields, saw 2\\nSkipping line 4151: expected 1 fields, saw 3\\nSkipping line 4155: expected 1 fields, saw 3\\nSkipping line 4158: expected 1 fields, saw 2\\nSkipping line 4159: expected 1 fields, saw 3\\nSkipping line 4168: expected 1 fields, saw 2\\nSkipping line 4170: expected 1 fields, saw 2\\nSkipping line 4176: expected 1 fields, saw 2\\nSkipping line 4177: expected 1 fields, saw 2\\nSkipping line 4179: expected 1 fields, saw 2\\nSkipping line 4180: expected 1 fields, saw 2\\nSkipping line 4182: expected 1 fields, saw 6\\nSkipping line 4185: expected 1 fields, saw 9\\nSkipping line 4188: expected 1 fields, saw 4\\nSkipping line 4191: expected 1 fields, saw 2\\nSkipping line 4202: expected 1 fields, saw 3\\nSkipping line 4206: expected 1 fields, saw 2\\nSkipping line 4208: expected 1 fields, saw 2\\nSkipping line 4210: expected 1 fields, saw 7\\nSkipping line 4212: expected 1 fields, saw 6\\nSkipping line 4214: expected 1 fields, saw 4\\nSkipping line 4216: expected 1 fields, saw 3\\nSkipping line 4230: expected 1 fields, saw 2\\nSkipping line 4234: expected 1 fields, saw 2\\nSkipping line 4238: expected 1 fields, saw 2\\nSkipping line 4240: expected 1 fields, saw 2\\nSkipping line 4269: expected 1 fields, saw 2\\nSkipping line 4281: expected 1 fields, saw 2\\nSkipping line 4306: expected 1 fields, saw 2\\nSkipping line 4336: expected 1 fields, saw 3\\nSkipping line 4361: expected 1 fields, saw 4\\nSkipping line 4364: expected 1 fields, saw 3\\nSkipping line 4366: expected 1 fields, saw 2\\nSkipping line 4370: expected 1 fields, saw 4\\nSkipping line 4374: expected 1 fields, saw 2\\nSkipping line 4376: expected 1 fields, saw 3\\nSkipping line 4378: expected 1 fields, saw 5\\nSkipping line 4380: expected 1 fields, saw 5\\nSkipping line 4382: expected 1 fields, saw 5\\nSkipping line 4384: expected 1 fields, saw 5\\nSkipping line 4386: expected 1 fields, saw 3\\nSkipping line 4388: expected 1 fields, saw 6\\nSkipping line 4390: expected 1 fields, saw 4\\nSkipping line 4392: expected 1 fields, saw 5\\nSkipping line 4394: expected 1 fields, saw 5\\nSkipping line 4396: expected 1 fields, saw 3\\nSkipping line 4398: expected 1 fields, saw 2\\nSkipping line 4400: expected 1 fields, saw 4\\nSkipping line 4402: expected 1 fields, saw 4\\nSkipping line 4404: expected 1 fields, saw 4\\nSkipping line 4406: expected 1 fields, saw 3\\nSkipping line 4408: expected 1 fields, saw 3\\nSkipping line 4420: expected 1 fields, saw 13\\nSkipping line 4427: expected 1 fields, saw 4\\nSkipping line 4429: expected 1 fields, saw 3\\nSkipping line 4431: expected 1 fields, saw 7\\nSkipping line 4433: expected 1 fields, saw 5\\nSkipping line 4437: expected 1 fields, saw 6\\nSkipping line 4439: expected 1 fields, saw 15\\nSkipping line 4440: expected 1 fields, saw 4\\nSkipping line 4443: expected 1 fields, saw 6\\nSkipping line 4474: expected 1 fields, saw 2\\nSkipping line 4476: expected 1 fields, saw 3\\nSkipping line 4478: expected 1 fields, saw 2\\nSkipping line 4479: expected 1 fields, saw 2\\nSkipping line 4480: expected 1 fields, saw 3\\nSkipping line 4483: expected 1 fields, saw 4\\nSkipping line 4486: expected 1 fields, saw 2\\nSkipping line 4488: expected 1 fields, saw 2\\nSkipping line 4490: expected 1 fields, saw 2\\nSkipping line 4494: expected 1 fields, saw 2\\nSkipping line 4495: expected 1 fields, saw 2\\nSkipping line 4502: expected 1 fields, saw 2\\nSkipping line 4503: expected 1 fields, saw 2\\nSkipping line 4507: expected 1 fields, saw 2\\nSkipping line 4508: expected 1 fields, saw 2\\nSkipping line 4509: expected 1 fields, saw 2\\nSkipping line 4511: expected 1 fields, saw 2\\nSkipping line 4512: expected 1 fields, saw 2\\nSkipping line 4515: expected 1 fields, saw 5\\nSkipping line 4521: expected 1 fields, saw 2\\nSkipping line 4525: expected 1 fields, saw 2\\nSkipping line 4533: expected 1 fields, saw 2\\nSkipping line 4537: expected 1 fields, saw 4\\nSkipping line 4544: expected 1 fields, saw 2\\nSkipping line 4546: expected 1 fields, saw 3\\nSkipping line 4550: expected 1 fields, saw 4\\nSkipping line 4557: expected 1 fields, saw 8\\nSkipping line 4559: expected 1 fields, saw 2\\nSkipping line 4561: expected 1 fields, saw 4\\nSkipping line 4563: expected 1 fields, saw 9\\nSkipping line 4565: expected 1 fields, saw 14\\nSkipping line 4567: expected 1 fields, saw 23\\nSkipping line 4572: expected 1 fields, saw 2\\nSkipping line 4574: expected 1 fields, saw 3\\nSkipping line 4576: expected 1 fields, saw 5\\nSkipping line 4578: expected 1 fields, saw 2\\nSkipping line 4582: expected 1 fields, saw 4\\nSkipping line 4586: expected 1 fields, saw 5\\nSkipping line 4588: expected 1 fields, saw 2\\nSkipping line 4590: expected 1 fields, saw 2\\nSkipping line 4595: expected 1 fields, saw 2\\nSkipping line 4605: expected 1 fields, saw 2\\nSkipping line 4606: expected 1 fields, saw 6\\nSkipping line 4608: expected 1 fields, saw 17\\nSkipping line 4610: expected 1 fields, saw 16\\nSkipping line 4612: expected 1 fields, saw 6\\nSkipping line 4614: expected 1 fields, saw 2\\nSkipping line 4615: expected 1 fields, saw 3\\n'\n",
      "b'Skipping line 2: expected 1 fields, saw 2\\nSkipping line 31: expected 1 fields, saw 2\\nSkipping line 41: expected 1 fields, saw 2\\nSkipping line 50: expected 1 fields, saw 4\\nSkipping line 52: expected 1 fields, saw 2\\nSkipping line 74: expected 1 fields, saw 2\\nSkipping line 93: expected 1 fields, saw 2\\nSkipping line 98: expected 1 fields, saw 2\\nSkipping line 106: expected 1 fields, saw 3\\nSkipping line 119: expected 1 fields, saw 3\\nSkipping line 120: expected 1 fields, saw 2\\nSkipping line 162: expected 1 fields, saw 3\\nSkipping line 167: expected 1 fields, saw 2\\nSkipping line 169: expected 1 fields, saw 2\\nSkipping line 170: expected 1 fields, saw 2\\nSkipping line 172: expected 1 fields, saw 2\\nSkipping line 173: expected 1 fields, saw 2\\nSkipping line 174: expected 1 fields, saw 2\\nSkipping line 176: expected 1 fields, saw 2\\nSkipping line 179: expected 1 fields, saw 2\\nSkipping line 187: expected 1 fields, saw 2\\nSkipping line 188: expected 1 fields, saw 2\\nSkipping line 214: expected 1 fields, saw 2\\nSkipping line 220: expected 1 fields, saw 3\\nSkipping line 221: expected 1 fields, saw 2\\nSkipping line 237: expected 1 fields, saw 2\\nSkipping line 238: expected 1 fields, saw 3\\nSkipping line 241: expected 1 fields, saw 5\\nSkipping line 246: expected 1 fields, saw 6\\nSkipping line 254: expected 1 fields, saw 2\\nSkipping line 256: expected 1 fields, saw 2\\nSkipping line 271: expected 1 fields, saw 3\\nSkipping line 272: expected 1 fields, saw 2\\nSkipping line 274: expected 1 fields, saw 3\\nSkipping line 293: expected 1 fields, saw 6\\nSkipping line 324: expected 1 fields, saw 6\\nSkipping line 333: expected 1 fields, saw 6\\nSkipping line 337: expected 1 fields, saw 2\\nSkipping line 355: expected 1 fields, saw 3\\nSkipping line 356: expected 1 fields, saw 2\\nSkipping line 372: expected 1 fields, saw 3\\nSkipping line 373: expected 1 fields, saw 3\\nSkipping line 377: expected 1 fields, saw 2\\nSkipping line 408: expected 1 fields, saw 2\\nSkipping line 432: expected 1 fields, saw 2\\nSkipping line 436: expected 1 fields, saw 3\\nSkipping line 450: expected 1 fields, saw 2\\nSkipping line 462: expected 1 fields, saw 2\\nSkipping line 492: expected 1 fields, saw 2\\nSkipping line 505: expected 1 fields, saw 2\\nSkipping line 512: expected 1 fields, saw 2\\nSkipping line 519: expected 1 fields, saw 2\\nSkipping line 528: expected 1 fields, saw 2\\nSkipping line 530: expected 1 fields, saw 2\\nSkipping line 544: expected 1 fields, saw 2\\nSkipping line 552: expected 1 fields, saw 2\\nSkipping line 557: expected 1 fields, saw 2\\nSkipping line 559: expected 1 fields, saw 2\\nSkipping line 586: expected 1 fields, saw 3\\nSkipping line 637: expected 1 fields, saw 6\\nSkipping line 665: expected 1 fields, saw 2\\nSkipping line 667: expected 1 fields, saw 2\\nSkipping line 676: expected 1 fields, saw 6\\nSkipping line 700: expected 1 fields, saw 3\\nSkipping line 738: expected 1 fields, saw 4\\nSkipping line 741: expected 1 fields, saw 6\\nSkipping line 874: expected 1 fields, saw 2\\nSkipping line 893: expected 1 fields, saw 3\\nSkipping line 901: expected 1 fields, saw 2\\nSkipping line 907: expected 1 fields, saw 2\\nSkipping line 909: expected 1 fields, saw 2\\nSkipping line 943: expected 1 fields, saw 2\\nSkipping line 953: expected 1 fields, saw 4\\nSkipping line 962: expected 1 fields, saw 3\\nSkipping line 968: expected 1 fields, saw 4\\nSkipping line 984: expected 1 fields, saw 6\\nSkipping line 991: expected 1 fields, saw 2\\nSkipping line 992: expected 1 fields, saw 3\\nSkipping line 1003: expected 1 fields, saw 2\\nSkipping line 1011: expected 1 fields, saw 4\\nSkipping line 1023: expected 1 fields, saw 4\\nSkipping line 1035: expected 1 fields, saw 2\\nSkipping line 1041: expected 1 fields, saw 4\\nSkipping line 1060: expected 1 fields, saw 2\\nSkipping line 1078: expected 1 fields, saw 6\\nSkipping line 1079: expected 1 fields, saw 2\\nSkipping line 1084: expected 1 fields, saw 2\\nSkipping line 1088: expected 1 fields, saw 3\\nSkipping line 1089: expected 1 fields, saw 3\\nSkipping line 1090: expected 1 fields, saw 2\\nSkipping line 1095: expected 1 fields, saw 4\\nSkipping line 1099: expected 1 fields, saw 2\\nSkipping line 1104: expected 1 fields, saw 2\\nSkipping line 1106: expected 1 fields, saw 2\\nSkipping line 1108: expected 1 fields, saw 3\\nSkipping line 1109: expected 1 fields, saw 3\\nSkipping line 1146: expected 1 fields, saw 3\\nSkipping line 1168: expected 1 fields, saw 2\\nSkipping line 1202: expected 1 fields, saw 2\\nSkipping line 1206: expected 1 fields, saw 2\\nSkipping line 1212: expected 1 fields, saw 3\\nSkipping line 1264: expected 1 fields, saw 4\\nSkipping line 1277: expected 1 fields, saw 2\\nSkipping line 1295: expected 1 fields, saw 2\\nSkipping line 1296: expected 1 fields, saw 4\\nSkipping line 1324: expected 1 fields, saw 3\\nSkipping line 1343: expected 1 fields, saw 3\\nSkipping line 1364: expected 1 fields, saw 2\\nSkipping line 1372: expected 1 fields, saw 2\\nSkipping line 1386: expected 1 fields, saw 2\\nSkipping line 1387: expected 1 fields, saw 3\\nSkipping line 1405: expected 1 fields, saw 2\\nSkipping line 1410: expected 1 fields, saw 2\\nSkipping line 1421: expected 1 fields, saw 6\\nSkipping line 1423: expected 1 fields, saw 4\\nSkipping line 1428: expected 1 fields, saw 4\\nSkipping line 1431: expected 1 fields, saw 2\\nSkipping line 1433: expected 1 fields, saw 5\\nSkipping line 1438: expected 1 fields, saw 4\\nSkipping line 1472: expected 1 fields, saw 4\\nSkipping line 1486: expected 1 fields, saw 2\\nSkipping line 1492: expected 1 fields, saw 2\\nSkipping line 1493: expected 1 fields, saw 4\\nSkipping line 1497: expected 1 fields, saw 2\\nSkipping line 1543: expected 1 fields, saw 2\\nSkipping line 1547: expected 1 fields, saw 2\\nSkipping line 1551: expected 1 fields, saw 4\\nSkipping line 1555: expected 1 fields, saw 2\\nSkipping line 1561: expected 1 fields, saw 6\\nSkipping line 1573: expected 1 fields, saw 12\\nSkipping line 1575: expected 1 fields, saw 3\\nSkipping line 1576: expected 1 fields, saw 2\\nSkipping line 1578: expected 1 fields, saw 5\\nSkipping line 1580: expected 1 fields, saw 2\\nSkipping line 1586: expected 1 fields, saw 2\\nSkipping line 1589: expected 1 fields, saw 3\\nSkipping line 1592: expected 1 fields, saw 3\\nSkipping line 1604: expected 1 fields, saw 3\\nSkipping line 1608: expected 1 fields, saw 6\\nSkipping line 1610: expected 1 fields, saw 6\\nSkipping line 1612: expected 1 fields, saw 6\\nSkipping line 1614: expected 1 fields, saw 4\\nSkipping line 1616: expected 1 fields, saw 5\\nSkipping line 1619: expected 1 fields, saw 9\\nSkipping line 1620: expected 1 fields, saw 2\\nSkipping line 1621: expected 1 fields, saw 7\\nSkipping line 1622: expected 1 fields, saw 4\\nSkipping line 1629: expected 1 fields, saw 5\\nSkipping line 1641: expected 1 fields, saw 3\\nSkipping line 1642: expected 1 fields, saw 2\\nSkipping line 1647: expected 1 fields, saw 3\\nSkipping line 1649: expected 1 fields, saw 2\\nSkipping line 1651: expected 1 fields, saw 2\\nSkipping line 1653: expected 1 fields, saw 2\\nSkipping line 1654: expected 1 fields, saw 2\\nSkipping line 1658: expected 1 fields, saw 5\\nSkipping line 1659: expected 1 fields, saw 2\\nSkipping line 1661: expected 1 fields, saw 4\\nSkipping line 1665: expected 1 fields, saw 2\\nSkipping line 1671: expected 1 fields, saw 2\\nSkipping line 1673: expected 1 fields, saw 3\\nSkipping line 1677: expected 1 fields, saw 2\\nSkipping line 1684: expected 1 fields, saw 3\\nSkipping line 1688: expected 1 fields, saw 6\\nSkipping line 1690: expected 1 fields, saw 3\\nSkipping line 1694: expected 1 fields, saw 5\\nSkipping line 1698: expected 1 fields, saw 6\\nSkipping line 1703: expected 1 fields, saw 3\\nSkipping line 1707: expected 1 fields, saw 3\\nSkipping line 1713: expected 1 fields, saw 3\\nSkipping line 1731: expected 1 fields, saw 2\\nSkipping line 1733: expected 1 fields, saw 11\\nSkipping line 1735: expected 1 fields, saw 2\\nSkipping line 1737: expected 1 fields, saw 2\\nSkipping line 1739: expected 1 fields, saw 2\\nSkipping line 1775: expected 1 fields, saw 2\\nSkipping line 1777: expected 1 fields, saw 2\\nSkipping line 1779: expected 1 fields, saw 2\\nSkipping line 1789: expected 1 fields, saw 2\\nSkipping line 1791: expected 1 fields, saw 2\\nSkipping line 1793: expected 1 fields, saw 3\\nSkipping line 1795: expected 1 fields, saw 4\\nSkipping line 1799: expected 1 fields, saw 2\\nSkipping line 1801: expected 1 fields, saw 3\\nSkipping line 1803: expected 1 fields, saw 4\\nSkipping line 1805: expected 1 fields, saw 3\\nSkipping line 1807: expected 1 fields, saw 2\\nSkipping line 1809: expected 1 fields, saw 3\\nSkipping line 1811: expected 1 fields, saw 2\\nSkipping line 1813: expected 1 fields, saw 3\\nSkipping line 1815: expected 1 fields, saw 2\\nSkipping line 1817: expected 1 fields, saw 3\\nSkipping line 1819: expected 1 fields, saw 2\\nSkipping line 1821: expected 1 fields, saw 2\\nSkipping line 1823: expected 1 fields, saw 3\\nSkipping line 1831: expected 1 fields, saw 2\\nSkipping line 1882: expected 1 fields, saw 6\\nSkipping line 1883: expected 1 fields, saw 13\\nSkipping line 1884: expected 1 fields, saw 13\\nSkipping line 1885: expected 1 fields, saw 16\\nSkipping line 1886: expected 1 fields, saw 2\\n'\n"
     ]
    },
    {
     "name": "stdout",
     "output_type": "stream",
     "text": [
      "2438\n",
      "Negative: 173\n",
      "Positive: 3442\n",
      "Neutral: 6137\n",
      "1335\n",
      "Negative: 55\n",
      "Positive: 1821\n",
      "Neutral: 3464\n"
     ]
    }
   ],
   "source": [
    "import nltk\n",
    "data = pd.read_csv(\"scraper/Dance.csv\",header=None,error_bad_lines=False,quotechar=None, quoting=3)\n",
    "data2 = pd.read_csv(\"scraper/Dance2.csv\",header=None,error_bad_lines=False,quotechar=None, quoting=3)\n",
    "texts = data[0]\n",
    "texts2 = data2[0]\n",
    "positive = 0\n",
    "negative = 0\n",
    "neutral = 0\n",
    "print(len(texts))\n",
    "for t in texts:\n",
    "#     print(t)\n",
    "    sentiment = sid.polarity_scores(t)\n",
    "    for k in sorted(sentiment):\n",
    "        if sentiment[k] > 0:\n",
    "            positive += 1\n",
    "        if sentiment[k] < 0:\n",
    "            negative += 1\n",
    "        if sentiment[k] == 0.0:\n",
    "            neutral += 1\n",
    "print(\"Negative: \" + str(negative))\n",
    "print(\"Positive: \" + str(positive))\n",
    "print(\"Neutral: \" + str(neutral))\n",
    "positive = 0\n",
    "negative = 0\n",
    "neutral = 0\n",
    "print(len(texts2))\n",
    "for t in texts2:\n",
    "#     print(t)\n",
    "    sentiment = sid.polarity_scores(t)\n",
    "    for k in sorted(sentiment):\n",
    "        if sentiment[k] > 0:\n",
    "            positive += 1\n",
    "        if sentiment[k] < 0:\n",
    "            negative += 1\n",
    "        if sentiment[k] == 0.0:\n",
    "            neutral += 1\n",
    "print(\"Negative: \" + str(negative))\n",
    "print(\"Positive: \" + str(positive))\n",
    "print(\"Neutral: \" + str(neutral))"
   ]
  },
  {
   "cell_type": "code",
   "execution_count": null,
   "metadata": {},
   "outputs": [],
   "source": []
  }
 ],
 "metadata": {
  "kernelspec": {
   "display_name": "Python 3",
   "language": "python",
   "name": "python3"
  },
  "language_info": {
   "codemirror_mode": {
    "name": "ipython",
    "version": 3
   },
   "file_extension": ".py",
   "mimetype": "text/x-python",
   "name": "python",
   "nbconvert_exporter": "python",
   "pygments_lexer": "ipython3",
   "version": "3.7.4"
  }
 },
 "nbformat": 4,
 "nbformat_minor": 2
}
