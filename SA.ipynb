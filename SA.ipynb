{
 "cells": [
  {
   "cell_type": "code",
   "execution_count": 1,
   "metadata": {},
   "outputs": [],
   "source": [
    "from textblob import TextBlob"
   ]
  },
  {
   "cell_type": "code",
   "execution_count": 2,
   "metadata": {},
   "outputs": [],
   "source": [
    "import nltk"
   ]
  },
  {
   "cell_type": "code",
   "execution_count": 3,
   "metadata": {},
   "outputs": [],
   "source": [
    "from newspaper import Article"
   ]
  },
  {
   "cell_type": "code",
   "execution_count": 7,
   "metadata": {},
   "outputs": [],
   "source": [
    "url = 'https://everythingcomputerscience.com/'"
   ]
  },
  {
   "cell_type": "code",
   "execution_count": 8,
   "metadata": {},
   "outputs": [],
   "source": [
    "article = Article(url)\n",
    "article.download()\n",
    "article.parse()"
   ]
  },
  {
   "cell_type": "code",
   "execution_count": 4,
   "metadata": {},
   "outputs": [
    {
     "name": "stderr",
     "output_type": "stream",
     "text": [
      "[nltk_data] Downloading package punkt to /Users/kavya/nltk_data...\n",
      "[nltk_data]   Package punkt is already up-to-date!\n"
     ]
    },
    {
     "data": {
      "text/plain": [
       "True"
      ]
     },
     "execution_count": 4,
     "metadata": {},
     "output_type": "execute_result"
    }
   ],
   "source": [
    "nltk.download('punkt')"
   ]
  },
  {
   "cell_type": "code",
   "execution_count": 9,
   "metadata": {},
   "outputs": [],
   "source": [
    "article.nlp()"
   ]
  },
  {
   "cell_type": "code",
   "execution_count": 9,
   "metadata": {},
   "outputs": [],
   "source": [
    "text = article.summary"
   ]
  },
  {
   "cell_type": "code",
   "execution_count": 10,
   "metadata": {},
   "outputs": [
    {
     "name": "stdout",
     "output_type": "stream",
     "text": [
      "Computer Science (CS)Computer Science (CS) is the study of the principles and use of computers.\n",
      "Simply put it's the science that deals with the theory and methods of processing information in digital computers, the design of computer hardware and software, and the applications of computers.\n",
      "A computer is simply a tool for a computer scientist, like a telescope for an astronomer.\n",
      "Teach yourself !\n"
     ]
    }
   ],
   "source": [
    "print(text)"
   ]
  },
  {
   "cell_type": "code",
   "execution_count": 11,
   "metadata": {},
   "outputs": [
    {
     "name": "stdout",
     "output_type": "stream",
     "text": [
      "0.0\n"
     ]
    }
   ],
   "source": [
    "object = TextBlob(text)\n",
    "sentiment = object.sentiment.polarity\n",
    "print(sentiment)"
   ]
  },
  {
   "cell_type": "code",
   "execution_count": 14,
   "metadata": {},
   "outputs": [],
   "source": [
    "text1 = 'I am very irritated, cause the code is not working, and it is giving several errors. The movie was a total waste of time. And it went on for so long that I got bored'\n",
    "sum1 = TextBlob(text1)"
   ]
  },
  {
   "cell_type": "code",
   "execution_count": 15,
   "metadata": {},
   "outputs": [],
   "source": [
    "sent1 = sum1.sentiment.polarity"
   ]
  },
  {
   "cell_type": "code",
   "execution_count": 17,
   "metadata": {},
   "outputs": [
    {
     "name": "stdout",
     "output_type": "stream",
     "text": [
      "-0.09166666666666667\n"
     ]
    }
   ],
   "source": [
    "print(sent1)"
   ]
  },
  {
   "cell_type": "code",
   "execution_count": 10,
   "metadata": {},
   "outputs": [],
   "source": [
    "import pandas as pd"
   ]
  },
  {
   "cell_type": "code",
   "execution_count": 11,
   "metadata": {
    "scrolled": true
   },
   "outputs": [
    {
     "name": "stderr",
     "output_type": "stream",
     "text": [
      "b'Skipping line 5: expected 1 fields, saw 4\\nSkipping line 19: expected 1 fields, saw 2\\nSkipping line 24: expected 1 fields, saw 3\\nSkipping line 34: expected 1 fields, saw 2\\nSkipping line 60: expected 1 fields, saw 3\\nSkipping line 72: expected 1 fields, saw 3\\nSkipping line 76: expected 1 fields, saw 3\\nSkipping line 78: expected 1 fields, saw 6\\nSkipping line 79: expected 1 fields, saw 2\\nSkipping line 80: expected 1 fields, saw 3\\nSkipping line 89: expected 1 fields, saw 3\\nSkipping line 111: expected 1 fields, saw 2\\nSkipping line 115: expected 1 fields, saw 3\\nSkipping line 132: expected 1 fields, saw 2\\nSkipping line 140: expected 1 fields, saw 2\\nSkipping line 161: expected 1 fields, saw 2\\nSkipping line 174: expected 1 fields, saw 3\\nSkipping line 179: expected 1 fields, saw 4\\nSkipping line 185: expected 1 fields, saw 2\\nSkipping line 192: expected 1 fields, saw 6\\nSkipping line 200: expected 1 fields, saw 3\\nSkipping line 213: expected 1 fields, saw 3\\nSkipping line 217: expected 1 fields, saw 2\\nSkipping line 218: expected 1 fields, saw 2\\nSkipping line 220: expected 1 fields, saw 2\\nSkipping line 221: expected 1 fields, saw 2\\nSkipping line 225: expected 1 fields, saw 2\\nSkipping line 249: expected 1 fields, saw 2\\nSkipping line 252: expected 1 fields, saw 4\\nSkipping line 277: expected 1 fields, saw 2\\nSkipping line 292: expected 1 fields, saw 2\\nSkipping line 296: expected 1 fields, saw 2\\nSkipping line 303: expected 1 fields, saw 2\\nSkipping line 305: expected 1 fields, saw 2\\nSkipping line 349: expected 1 fields, saw 2\\nSkipping line 362: expected 1 fields, saw 5\\nSkipping line 365: expected 1 fields, saw 2\\nSkipping line 384: expected 1 fields, saw 6\\nSkipping line 386: expected 1 fields, saw 2\\nSkipping line 394: expected 1 fields, saw 2\\nSkipping line 395: expected 1 fields, saw 5\\nSkipping line 396: expected 1 fields, saw 2\\nSkipping line 414: expected 1 fields, saw 3\\nSkipping line 439: expected 1 fields, saw 2\\nSkipping line 440: expected 1 fields, saw 2\\nSkipping line 446: expected 1 fields, saw 2\\nSkipping line 450: expected 1 fields, saw 2\\nSkipping line 468: expected 1 fields, saw 2\\nSkipping line 476: expected 1 fields, saw 2\\nSkipping line 489: expected 1 fields, saw 2\\nSkipping line 496: expected 1 fields, saw 2\\nSkipping line 501: expected 1 fields, saw 3\\nSkipping line 503: expected 1 fields, saw 2\\nSkipping line 507: expected 1 fields, saw 3\\nSkipping line 508: expected 1 fields, saw 3\\nSkipping line 543: expected 1 fields, saw 2\\nSkipping line 544: expected 1 fields, saw 3\\nSkipping line 549: expected 1 fields, saw 3\\nSkipping line 553: expected 1 fields, saw 2\\nSkipping line 581: expected 1 fields, saw 2\\nSkipping line 604: expected 1 fields, saw 2\\nSkipping line 611: expected 1 fields, saw 4\\nSkipping line 615: expected 1 fields, saw 3\\nSkipping line 616: expected 1 fields, saw 2\\nSkipping line 617: expected 1 fields, saw 2\\nSkipping line 618: expected 1 fields, saw 3\\nSkipping line 626: expected 1 fields, saw 4\\nSkipping line 631: expected 1 fields, saw 2\\nSkipping line 636: expected 1 fields, saw 2\\nSkipping line 637: expected 1 fields, saw 3\\nSkipping line 640: expected 1 fields, saw 2\\nSkipping line 657: expected 1 fields, saw 2\\nSkipping line 662: expected 1 fields, saw 2\\nSkipping line 663: expected 1 fields, saw 2\\nSkipping line 667: expected 1 fields, saw 2\\nSkipping line 676: expected 1 fields, saw 2\\nSkipping line 677: expected 1 fields, saw 2\\nSkipping line 701: expected 1 fields, saw 2\\nSkipping line 707: expected 1 fields, saw 2\\nSkipping line 715: expected 1 fields, saw 2\\nSkipping line 725: expected 1 fields, saw 2\\nSkipping line 736: expected 1 fields, saw 3\\nSkipping line 739: expected 1 fields, saw 2\\nSkipping line 745: expected 1 fields, saw 2\\nSkipping line 751: expected 1 fields, saw 3\\nSkipping line 756: expected 1 fields, saw 2\\nSkipping line 763: expected 1 fields, saw 2\\nSkipping line 769: expected 1 fields, saw 2\\nSkipping line 770: expected 1 fields, saw 2\\nSkipping line 786: expected 1 fields, saw 2\\nSkipping line 787: expected 1 fields, saw 5\\nSkipping line 793: expected 1 fields, saw 2\\nSkipping line 794: expected 1 fields, saw 2\\n'\n"
     ]
    }
   ],
   "source": [
    "data = pd.read_csv(\"scraper/Nike.csv\",header=None,error_bad_lines=False,quotechar=None, quoting=3)"
   ]
  },
  {
   "cell_type": "code",
   "execution_count": 13,
   "metadata": {},
   "outputs": [
    {
     "name": "stdout",
     "output_type": "stream",
     "text": [
      "                                                     0\n",
      "0    [User Content] Celebrities &amp; Public Alread...\n",
      "1      https://t.co/1RNbLUyGoy https://t.co/PpzDBNFp5k\n",
      "2    Nike introduces @Shaquemgriffin Flyease footba...\n",
      "3    Giveaway! Game worn Nike cleats. Follow me and...\n",
      "4    RT @NBAKicks: Markelle Fultz with the “Lake Sh...\n",
      "..                                                 ...\n",
      "605  Highest Bid: $88 Nike Air Trainer 1 Chlorophyl...\n",
      "606  Tyler fans thinking Frank was gonna walk out a...\n",
      "607                                Elle voulait un ch…\n",
      "608  RT @204Fashion: Nike | 204Fashion https://t.co...\n",
      "609  RT @pullupnghost: Ninguém me quer oferecer uma...\n",
      "\n",
      "[610 rows x 1 columns]\n"
     ]
    }
   ],
   "source": [
    "print(data)"
   ]
  },
  {
   "cell_type": "code",
   "execution_count": 17,
   "metadata": {},
   "outputs": [
    {
     "name": "stderr",
     "output_type": "stream",
     "text": [
      "[nltk_data] Downloading package vader_lexicon to\n",
      "[nltk_data]     /Users/kavya/nltk_data...\n",
      "[nltk_data]   Package vader_lexicon is already up-to-date!\n"
     ]
    }
   ],
   "source": [
    "from textblob import TextBlob\n",
    "nltk.downloader.download('vader_lexicon')\n",
    "from nltk.sentiment.vader import SentimentIntensityAnalyzer\n",
    "sid = SentimentIntensityAnalyzer()"
   ]
  },
  {
   "cell_type": "code",
   "execution_count": 28,
   "metadata": {},
   "outputs": [
    {
     "name": "stdout",
     "output_type": "stream",
     "text": [
      "569\n",
      "Negative: 41\n",
      "Positive: 746\n",
      "Neutral: 1489\n"
     ]
    },
    {
     "name": "stderr",
     "output_type": "stream",
     "text": [
      "b'Skipping line 5: expected 1 fields, saw 4\\nSkipping line 8: expected 1 fields, saw 2\\nSkipping line 19: expected 1 fields, saw 2\\nSkipping line 27: expected 1 fields, saw 2\\nSkipping line 28: expected 1 fields, saw 2\\nSkipping line 29: expected 1 fields, saw 2\\nSkipping line 31: expected 1 fields, saw 2\\nSkipping line 35: expected 1 fields, saw 2\\nSkipping line 38: expected 1 fields, saw 3\\nSkipping line 46: expected 1 fields, saw 2\\nSkipping line 54: expected 1 fields, saw 2\\nSkipping line 62: expected 1 fields, saw 2\\nSkipping line 86: expected 1 fields, saw 4\\nSkipping line 88: expected 1 fields, saw 2\\nSkipping line 91: expected 1 fields, saw 2\\nSkipping line 93: expected 1 fields, saw 2\\nSkipping line 96: expected 1 fields, saw 2\\nSkipping line 97: expected 1 fields, saw 6\\nSkipping line 98: expected 1 fields, saw 2\\nSkipping line 99: expected 1 fields, saw 2\\nSkipping line 107: expected 1 fields, saw 2\\nSkipping line 111: expected 1 fields, saw 2\\nSkipping line 114: expected 1 fields, saw 2\\nSkipping line 115: expected 1 fields, saw 2\\nSkipping line 121: expected 1 fields, saw 2\\nSkipping line 123: expected 1 fields, saw 2\\nSkipping line 125: expected 1 fields, saw 2\\nSkipping line 126: expected 1 fields, saw 2\\nSkipping line 128: expected 1 fields, saw 2\\nSkipping line 129: expected 1 fields, saw 2\\nSkipping line 133: expected 1 fields, saw 2\\nSkipping line 134: expected 1 fields, saw 4\\nSkipping line 135: expected 1 fields, saw 2\\nSkipping line 139: expected 1 fields, saw 3\\nSkipping line 142: expected 1 fields, saw 2\\nSkipping line 144: expected 1 fields, saw 2\\nSkipping line 145: expected 1 fields, saw 2\\nSkipping line 153: expected 1 fields, saw 6\\nSkipping line 161: expected 1 fields, saw 3\\nSkipping line 174: expected 1 fields, saw 3\\nSkipping line 178: expected 1 fields, saw 2\\nSkipping line 179: expected 1 fields, saw 2\\nSkipping line 181: expected 1 fields, saw 2\\nSkipping line 182: expected 1 fields, saw 2\\nSkipping line 186: expected 1 fields, saw 2\\nSkipping line 210: expected 1 fields, saw 2\\nSkipping line 213: expected 1 fields, saw 4\\nSkipping line 238: expected 1 fields, saw 2\\nSkipping line 253: expected 1 fields, saw 2\\nSkipping line 257: expected 1 fields, saw 2\\nSkipping line 264: expected 1 fields, saw 2\\nSkipping line 266: expected 1 fields, saw 2\\nSkipping line 310: expected 1 fields, saw 2\\nSkipping line 323: expected 1 fields, saw 5\\nSkipping line 326: expected 1 fields, saw 2\\nSkipping line 345: expected 1 fields, saw 6\\nSkipping line 347: expected 1 fields, saw 2\\nSkipping line 355: expected 1 fields, saw 2\\nSkipping line 356: expected 1 fields, saw 5\\nSkipping line 357: expected 1 fields, saw 2\\nSkipping line 375: expected 1 fields, saw 3\\nSkipping line 400: expected 1 fields, saw 2\\nSkipping line 401: expected 1 fields, saw 2\\nSkipping line 407: expected 1 fields, saw 2\\nSkipping line 411: expected 1 fields, saw 2\\nSkipping line 429: expected 1 fields, saw 2\\nSkipping line 437: expected 1 fields, saw 2\\nSkipping line 450: expected 1 fields, saw 2\\nSkipping line 457: expected 1 fields, saw 2\\nSkipping line 462: expected 1 fields, saw 3\\nSkipping line 464: expected 1 fields, saw 2\\nSkipping line 468: expected 1 fields, saw 3\\nSkipping line 469: expected 1 fields, saw 3\\nSkipping line 504: expected 1 fields, saw 2\\nSkipping line 505: expected 1 fields, saw 3\\nSkipping line 510: expected 1 fields, saw 3\\nSkipping line 514: expected 1 fields, saw 2\\nSkipping line 542: expected 1 fields, saw 2\\nSkipping line 565: expected 1 fields, saw 2\\nSkipping line 572: expected 1 fields, saw 4\\nSkipping line 576: expected 1 fields, saw 3\\nSkipping line 577: expected 1 fields, saw 2\\nSkipping line 578: expected 1 fields, saw 2\\nSkipping line 579: expected 1 fields, saw 3\\nSkipping line 587: expected 1 fields, saw 4\\nSkipping line 592: expected 1 fields, saw 2\\nSkipping line 597: expected 1 fields, saw 2\\nSkipping line 598: expected 1 fields, saw 3\\nSkipping line 601: expected 1 fields, saw 2\\nSkipping line 618: expected 1 fields, saw 2\\nSkipping line 623: expected 1 fields, saw 2\\nSkipping line 624: expected 1 fields, saw 2\\nSkipping line 628: expected 1 fields, saw 2\\nSkipping line 637: expected 1 fields, saw 2\\nSkipping line 638: expected 1 fields, saw 2\\nSkipping line 662: expected 1 fields, saw 2\\nSkipping line 668: expected 1 fields, saw 2\\nSkipping line 676: expected 1 fields, saw 2\\nSkipping line 686: expected 1 fields, saw 2\\nSkipping line 697: expected 1 fields, saw 3\\nSkipping line 700: expected 1 fields, saw 2\\nSkipping line 706: expected 1 fields, saw 2\\nSkipping line 712: expected 1 fields, saw 3\\nSkipping line 717: expected 1 fields, saw 2\\nSkipping line 724: expected 1 fields, saw 2\\nSkipping line 730: expected 1 fields, saw 2\\nSkipping line 731: expected 1 fields, saw 2\\nSkipping line 747: expected 1 fields, saw 2\\nSkipping line 748: expected 1 fields, saw 5\\nSkipping line 754: expected 1 fields, saw 2\\nSkipping line 755: expected 1 fields, saw 2\\n'\n"
     ]
    }
   ],
   "source": [
    "import nltk\n",
    "data = pd.read_csv(\"scraper/Nike.csv\",header=None,error_bad_lines=False,quotechar=None, quoting=3)\n",
    "texts = data[0]\n",
    "positive = 0\n",
    "negative = 0\n",
    "neutral = 0\n",
    "print(len(texts))\n",
    "for t in texts:\n",
    "#     print(t)\n",
    "    sentiment = sid.polarity_scores(t)\n",
    "    for k in sorted(sentiment):\n",
    "        if sentiment[k] > 0:\n",
    "            positive += 1\n",
    "        if sentiment[k] < 0:\n",
    "            negative += 1\n",
    "        if sentiment[k] == 0.0:\n",
    "            neutral += 1\n",
    "print(\"Negative: \" + str(negative))\n",
    "print(\"Positive: \" + str(positive))\n",
    "print(\"Neutral: \" + str(neutral))"
   ]
  },
  {
   "cell_type": "code",
   "execution_count": 29,
   "metadata": {},
   "outputs": [
    {
     "name": "stdout",
     "output_type": "stream",
     "text": [
      "796\n",
      "Negative: 69\n",
      "Positive: 1155\n",
      "Neutral: 1960\n"
     ]
    },
    {
     "name": "stderr",
     "output_type": "stream",
     "text": [
      "b'Skipping line 66: expected 2 fields, saw 4\\nSkipping line 99: expected 2 fields, saw 6\\nSkipping line 150: expected 2 fields, saw 7\\nSkipping line 175: expected 2 fields, saw 10\\nSkipping line 217: expected 2 fields, saw 3\\nSkipping line 223: expected 2 fields, saw 3\\nSkipping line 228: expected 2 fields, saw 3\\nSkipping line 328: expected 2 fields, saw 4\\nSkipping line 330: expected 2 fields, saw 3\\nSkipping line 393: expected 2 fields, saw 3\\nSkipping line 398: expected 2 fields, saw 4\\nSkipping line 416: expected 2 fields, saw 3\\nSkipping line 418: expected 2 fields, saw 3\\nSkipping line 419: expected 2 fields, saw 3\\nSkipping line 438: expected 2 fields, saw 3\\nSkipping line 447: expected 2 fields, saw 7\\nSkipping line 458: expected 2 fields, saw 5\\nSkipping line 481: expected 2 fields, saw 4\\nSkipping line 506: expected 2 fields, saw 3\\nSkipping line 513: expected 2 fields, saw 3\\nSkipping line 564: expected 2 fields, saw 3\\nSkipping line 568: expected 2 fields, saw 3\\nSkipping line 600: expected 2 fields, saw 3\\nSkipping line 616: expected 2 fields, saw 4\\nSkipping line 617: expected 2 fields, saw 3\\nSkipping line 630: expected 2 fields, saw 7\\nSkipping line 634: expected 2 fields, saw 4\\nSkipping line 647: expected 2 fields, saw 3\\nSkipping line 691: expected 2 fields, saw 3\\nSkipping line 694: expected 2 fields, saw 3\\nSkipping line 739: expected 2 fields, saw 4\\nSkipping line 771: expected 2 fields, saw 3\\nSkipping line 784: expected 2 fields, saw 4\\nSkipping line 786: expected 2 fields, saw 3\\nSkipping line 787: expected 2 fields, saw 3\\nSkipping line 841: expected 2 fields, saw 3\\nSkipping line 858: expected 2 fields, saw 4\\nSkipping line 865: expected 2 fields, saw 3\\nSkipping line 895: expected 2 fields, saw 3\\nSkipping line 900: expected 2 fields, saw 3\\nSkipping line 902: expected 2 fields, saw 3\\nSkipping line 912: expected 2 fields, saw 4\\nSkipping line 944: expected 2 fields, saw 3\\n'\n"
     ]
    }
   ],
   "source": [
    "import nltk\n",
    "data = pd.read_csv(\"scraper/Iphone.csv\",header=None,error_bad_lines=False,quotechar=None, quoting=3)\n",
    "texts = data[0]\n",
    "positive = 0\n",
    "negative = 0\n",
    "neutral = 0\n",
    "print(len(texts))\n",
    "for t in texts:\n",
    "#     print(t)\n",
    "    sentiment = sid.polarity_scores(t)\n",
    "    for k in sorted(sentiment):\n",
    "        if sentiment[k] > 0:\n",
    "            positive += 1\n",
    "        if sentiment[k] < 0:\n",
    "            negative += 1\n",
    "        if sentiment[k] == 0.0:\n",
    "            neutral += 1\n",
    "print(\"Negative: \" + str(negative))\n",
    "print(\"Positive: \" + str(positive))\n",
    "print(\"Neutral: \" + str(neutral))"
   ]
  },
  {
   "cell_type": "code",
   "execution_count": 30,
   "metadata": {},
   "outputs": [
    {
     "name": "stdout",
     "output_type": "stream",
     "text": [
      "833\n",
      "Negative: 65\n",
      "Positive: 1096\n",
      "Neutral: 2171\n"
     ]
    },
    {
     "name": "stderr",
     "output_type": "stream",
     "text": [
      "b'Skipping line 2: expected 4 fields, saw 7\\nSkipping line 22: expected 4 fields, saw 7\\nSkipping line 23: expected 4 fields, saw 5\\nSkipping line 36: expected 4 fields, saw 6\\nSkipping line 50: expected 4 fields, saw 6\\nSkipping line 56: expected 4 fields, saw 6\\nSkipping line 107: expected 4 fields, saw 6\\nSkipping line 132: expected 4 fields, saw 6\\nSkipping line 351: expected 4 fields, saw 6\\nSkipping line 571: expected 4 fields, saw 6\\nSkipping line 577: expected 4 fields, saw 5\\n'\n"
     ]
    }
   ],
   "source": [
    "import nltk\n",
    "data = pd.read_csv(\"scraper/ExxonMobil.csv\",header=None,error_bad_lines=False,quotechar=None, quoting=3)\n",
    "texts = data[0]\n",
    "positive = 0\n",
    "negative = 0\n",
    "neutral = 0\n",
    "print(len(texts))\n",
    "for t in texts:\n",
    "#     print(t)\n",
    "    sentiment = sid.polarity_scores(t)\n",
    "    for k in sorted(sentiment):\n",
    "        if sentiment[k] > 0:\n",
    "            positive += 1\n",
    "        if sentiment[k] < 0:\n",
    "            negative += 1\n",
    "        if sentiment[k] == 0.0:\n",
    "            neutral += 1\n",
    "print(\"Negative: \" + str(negative))\n",
    "print(\"Positive: \" + str(positive))\n",
    "print(\"Neutral: \" + str(neutral))"
   ]
  },
  {
   "cell_type": "code",
   "execution_count": 31,
   "metadata": {},
   "outputs": [
    {
     "name": "stdout",
     "output_type": "stream",
     "text": [
      "684\n",
      "Negative: 284\n",
      "Positive: 1281\n",
      "Neutral: 1171\n"
     ]
    },
    {
     "name": "stderr",
     "output_type": "stream",
     "text": [
      "b'Skipping line 26: expected 2 fields, saw 3\\nSkipping line 30: expected 2 fields, saw 4\\nSkipping line 34: expected 2 fields, saw 5\\nSkipping line 43: expected 2 fields, saw 3\\nSkipping line 74: expected 2 fields, saw 4\\nSkipping line 79: expected 2 fields, saw 3\\nSkipping line 95: expected 2 fields, saw 3\\nSkipping line 103: expected 2 fields, saw 4\\nSkipping line 146: expected 2 fields, saw 3\\nSkipping line 163: expected 2 fields, saw 3\\nSkipping line 171: expected 2 fields, saw 3\\nSkipping line 192: expected 2 fields, saw 7\\nSkipping line 212: expected 2 fields, saw 4\\nSkipping line 269: expected 2 fields, saw 9\\nSkipping line 274: expected 2 fields, saw 3\\nSkipping line 280: expected 2 fields, saw 3\\nSkipping line 293: expected 2 fields, saw 4\\nSkipping line 335: expected 2 fields, saw 3\\nSkipping line 367: expected 2 fields, saw 4\\nSkipping line 368: expected 2 fields, saw 4\\nSkipping line 405: expected 2 fields, saw 4\\nSkipping line 414: expected 2 fields, saw 4\\nSkipping line 420: expected 2 fields, saw 4\\nSkipping line 423: expected 2 fields, saw 3\\nSkipping line 425: expected 2 fields, saw 3\\nSkipping line 431: expected 2 fields, saw 4\\nSkipping line 441: expected 2 fields, saw 3\\nSkipping line 462: expected 2 fields, saw 3\\nSkipping line 478: expected 2 fields, saw 3\\nSkipping line 487: expected 2 fields, saw 3\\nSkipping line 493: expected 2 fields, saw 4\\nSkipping line 498: expected 2 fields, saw 3\\nSkipping line 515: expected 2 fields, saw 3\\nSkipping line 516: expected 2 fields, saw 3\\nSkipping line 525: expected 2 fields, saw 4\\nSkipping line 534: expected 2 fields, saw 3\\nSkipping line 562: expected 2 fields, saw 3\\nSkipping line 574: expected 2 fields, saw 3\\nSkipping line 591: expected 2 fields, saw 3\\nSkipping line 636: expected 2 fields, saw 6\\nSkipping line 641: expected 2 fields, saw 3\\nSkipping line 659: expected 2 fields, saw 3\\nSkipping line 662: expected 2 fields, saw 3\\nSkipping line 671: expected 2 fields, saw 5\\nSkipping line 676: expected 2 fields, saw 3\\nSkipping line 693: expected 2 fields, saw 3\\nSkipping line 706: expected 2 fields, saw 3\\nSkipping line 712: expected 2 fields, saw 3\\nSkipping line 726: expected 2 fields, saw 3\\nSkipping line 740: expected 2 fields, saw 4\\nSkipping line 744: expected 2 fields, saw 3\\nSkipping line 751: expected 2 fields, saw 3\\nSkipping line 752: expected 2 fields, saw 4\\nSkipping line 795: expected 2 fields, saw 6\\nSkipping line 799: expected 2 fields, saw 4\\nSkipping line 814: expected 2 fields, saw 3\\nSkipping line 843: expected 2 fields, saw 3\\nSkipping line 857: expected 2 fields, saw 3\\n'\n"
     ]
    }
   ],
   "source": [
    "import nltk\n",
    "data = pd.read_csv(\"scraper/Danger.csv\",header=None,error_bad_lines=False,quotechar=None, quoting=3)\n",
    "texts = data[0]\n",
    "positive = 0\n",
    "negative = 0\n",
    "neutral = 0\n",
    "print(len(texts))\n",
    "for t in texts:\n",
    "#     print(t)\n",
    "    sentiment = sid.polarity_scores(t)\n",
    "    for k in sorted(sentiment):\n",
    "        if sentiment[k] > 0:\n",
    "            positive += 1\n",
    "        if sentiment[k] < 0:\n",
    "            negative += 1\n",
    "        if sentiment[k] == 0.0:\n",
    "            neutral += 1\n",
    "print(\"Negative: \" + str(negative))\n",
    "print(\"Positive: \" + str(positive))\n",
    "print(\"Neutral: \" + str(neutral))"
   ]
  },
  {
   "cell_type": "code",
   "execution_count": 32,
   "metadata": {},
   "outputs": [
    {
     "name": "stderr",
     "output_type": "stream",
     "text": [
      "b'Skipping line 2: expected 1 fields, saw 5\\nSkipping line 6: expected 1 fields, saw 2\\nSkipping line 12: expected 1 fields, saw 2\\nSkipping line 18: expected 1 fields, saw 2\\nSkipping line 21: expected 1 fields, saw 2\\nSkipping line 27: expected 1 fields, saw 2\\nSkipping line 32: expected 1 fields, saw 2\\nSkipping line 37: expected 1 fields, saw 2\\nSkipping line 52: expected 1 fields, saw 2\\nSkipping line 57: expected 1 fields, saw 4\\nSkipping line 60: expected 1 fields, saw 2\\nSkipping line 66: expected 1 fields, saw 2\\nSkipping line 71: expected 1 fields, saw 2\\nSkipping line 78: expected 1 fields, saw 2\\nSkipping line 81: expected 1 fields, saw 2\\nSkipping line 82: expected 1 fields, saw 5\\nSkipping line 87: expected 1 fields, saw 2\\nSkipping line 98: expected 1 fields, saw 4\\nSkipping line 115: expected 1 fields, saw 2\\nSkipping line 118: expected 1 fields, saw 3\\nSkipping line 120: expected 1 fields, saw 2\\nSkipping line 123: expected 1 fields, saw 3\\nSkipping line 125: expected 1 fields, saw 2\\nSkipping line 131: expected 1 fields, saw 2\\nSkipping line 136: expected 1 fields, saw 2\\nSkipping line 143: expected 1 fields, saw 2\\nSkipping line 150: expected 1 fields, saw 2\\nSkipping line 158: expected 1 fields, saw 2\\nSkipping line 161: expected 1 fields, saw 2\\nSkipping line 168: expected 1 fields, saw 2\\nSkipping line 171: expected 1 fields, saw 2\\nSkipping line 176: expected 1 fields, saw 2\\nSkipping line 180: expected 1 fields, saw 2\\nSkipping line 185: expected 1 fields, saw 2\\nSkipping line 187: expected 1 fields, saw 3\\nSkipping line 189: expected 1 fields, saw 2\\nSkipping line 192: expected 1 fields, saw 2\\nSkipping line 197: expected 1 fields, saw 2\\nSkipping line 202: expected 1 fields, saw 2\\nSkipping line 207: expected 1 fields, saw 2\\nSkipping line 210: expected 1 fields, saw 3\\nSkipping line 212: expected 1 fields, saw 2\\nSkipping line 215: expected 1 fields, saw 2\\nSkipping line 220: expected 1 fields, saw 2\\nSkipping line 225: expected 1 fields, saw 2\\nSkipping line 230: expected 1 fields, saw 3\\nSkipping line 232: expected 1 fields, saw 2\\nSkipping line 233: expected 1 fields, saw 2\\nSkipping line 236: expected 1 fields, saw 3\\nSkipping line 238: expected 1 fields, saw 2\\nSkipping line 241: expected 1 fields, saw 2\\nSkipping line 245: expected 1 fields, saw 4\\nSkipping line 248: expected 1 fields, saw 2\\nSkipping line 254: expected 1 fields, saw 2\\nSkipping line 259: expected 1 fields, saw 2\\nSkipping line 264: expected 1 fields, saw 2\\nSkipping line 265: expected 1 fields, saw 3\\nSkipping line 267: expected 1 fields, saw 2\\nSkipping line 270: expected 1 fields, saw 2\\nSkipping line 274: expected 1 fields, saw 3\\nSkipping line 275: expected 1 fields, saw 4\\nSkipping line 287: expected 1 fields, saw 7\\nSkipping line 290: expected 1 fields, saw 4\\nSkipping line 291: expected 1 fields, saw 4\\nSkipping line 292: expected 1 fields, saw 3\\nSkipping line 293: expected 1 fields, saw 4\\nSkipping line 298: expected 1 fields, saw 2\\nSkipping line 300: expected 1 fields, saw 2\\nSkipping line 301: expected 1 fields, saw 4\\nSkipping line 307: expected 1 fields, saw 7\\nSkipping line 312: expected 1 fields, saw 4\\nSkipping line 319: expected 1 fields, saw 4\\nSkipping line 320: expected 1 fields, saw 4\\nSkipping line 321: expected 1 fields, saw 4\\nSkipping line 322: expected 1 fields, saw 4\\nSkipping line 327: expected 1 fields, saw 4\\nSkipping line 334: expected 1 fields, saw 4\\nSkipping line 335: expected 1 fields, saw 4\\nSkipping line 346: expected 1 fields, saw 4\\nSkipping line 348: expected 1 fields, saw 4\\nSkipping line 374: expected 1 fields, saw 7\\nSkipping line 377: expected 1 fields, saw 4\\nSkipping line 378: expected 1 fields, saw 4\\nSkipping line 380: expected 1 fields, saw 4\\nSkipping line 384: expected 1 fields, saw 4\\nSkipping line 385: expected 1 fields, saw 4\\nSkipping line 386: expected 1 fields, saw 2\\nSkipping line 388: expected 1 fields, saw 4\\nSkipping line 389: expected 1 fields, saw 4\\nSkipping line 390: expected 1 fields, saw 4\\nSkipping line 391: expected 1 fields, saw 4\\nSkipping line 393: expected 1 fields, saw 2\\nSkipping line 397: expected 1 fields, saw 4\\nSkipping line 398: expected 1 fields, saw 4\\nSkipping line 399: expected 1 fields, saw 4\\nSkipping line 400: expected 1 fields, saw 2\\nSkipping line 402: expected 1 fields, saw 4\\nSkipping line 408: expected 1 fields, saw 2\\nSkipping line 410: expected 1 fields, saw 2\\nSkipping line 411: expected 1 fields, saw 2\\nSkipping line 412: expected 1 fields, saw 4\\nSkipping line 413: expected 1 fields, saw 4\\nSkipping line 414: expected 1 fields, saw 4\\nSkipping line 415: expected 1 fields, saw 4\\nSkipping line 416: expected 1 fields, saw 4\\nSkipping line 428: expected 1 fields, saw 2\\nSkipping line 429: expected 1 fields, saw 2\\nSkipping line 431: expected 1 fields, saw 2\\nSkipping line 435: expected 1 fields, saw 4\\nSkipping line 436: expected 1 fields, saw 4\\nSkipping line 437: expected 1 fields, saw 2\\nSkipping line 438: expected 1 fields, saw 2\\nSkipping line 439: expected 1 fields, saw 4\\nSkipping line 440: expected 1 fields, saw 4\\nSkipping line 446: expected 1 fields, saw 3\\nSkipping line 447: expected 1 fields, saw 4\\nSkipping line 448: expected 1 fields, saw 2\\nSkipping line 456: expected 1 fields, saw 2\\nSkipping line 458: expected 1 fields, saw 2\\nSkipping line 471: expected 1 fields, saw 4\\nSkipping line 472: expected 1 fields, saw 4\\nSkipping line 473: expected 1 fields, saw 4\\nSkipping line 475: expected 1 fields, saw 2\\nSkipping line 476: expected 1 fields, saw 3\\nSkipping line 509: expected 1 fields, saw 2\\nSkipping line 511: expected 1 fields, saw 2\\nSkipping line 514: expected 1 fields, saw 2\\nSkipping line 519: expected 1 fields, saw 4\\nSkipping line 520: expected 1 fields, saw 4\\nSkipping line 521: expected 1 fields, saw 4\\nSkipping line 522: expected 1 fields, saw 4\\nSkipping line 523: expected 1 fields, saw 4\\nSkipping line 525: expected 1 fields, saw 4\\nSkipping line 527: expected 1 fields, saw 9\\nSkipping line 528: expected 1 fields, saw 4\\nSkipping line 529: expected 1 fields, saw 4\\nSkipping line 530: expected 1 fields, saw 2\\nSkipping line 536: expected 1 fields, saw 2\\nSkipping line 538: expected 1 fields, saw 2\\nSkipping line 542: expected 1 fields, saw 2\\nSkipping line 549: expected 1 fields, saw 4\\nSkipping line 552: expected 1 fields, saw 4\\nSkipping line 554: expected 1 fields, saw 4\\nSkipping line 557: expected 1 fields, saw 4\\nSkipping line 558: expected 1 fields, saw 4\\nSkipping line 566: expected 1 fields, saw 4\\nSkipping line 572: expected 1 fields, saw 2\\nSkipping line 574: expected 1 fields, saw 2\\nSkipping line 587: expected 1 fields, saw 4\\nSkipping line 588: expected 1 fields, saw 4\\nSkipping line 592: expected 1 fields, saw 2\\nSkipping line 593: expected 1 fields, saw 4\\nSkipping line 602: expected 1 fields, saw 4\\nSkipping line 603: expected 1 fields, saw 4\\nSkipping line 604: expected 1 fields, saw 4\\nSkipping line 606: expected 1 fields, saw 2\\nSkipping line 607: expected 1 fields, saw 4\\nSkipping line 608: expected 1 fields, saw 4\\nSkipping line 610: expected 1 fields, saw 2\\nSkipping line 613: expected 1 fields, saw 4\\nSkipping line 615: expected 1 fields, saw 4\\nSkipping line 620: expected 1 fields, saw 2\\nSkipping line 622: expected 1 fields, saw 2\\nSkipping line 628: expected 1 fields, saw 2\\nSkipping line 630: expected 1 fields, saw 2\\nSkipping line 631: expected 1 fields, saw 4\\nSkipping line 632: expected 1 fields, saw 4\\nSkipping line 653: expected 1 fields, saw 2\\nSkipping line 657: expected 1 fields, saw 2\\nSkipping line 659: expected 1 fields, saw 2\\nSkipping line 665: expected 1 fields, saw 2\\nSkipping line 667: expected 1 fields, saw 2\\nSkipping line 669: expected 1 fields, saw 2\\nSkipping line 675: expected 1 fields, saw 2\\nSkipping line 681: expected 1 fields, saw 2\\nSkipping line 683: expected 1 fields, saw 2\\nSkipping line 684: expected 1 fields, saw 4\\nSkipping line 686: expected 1 fields, saw 2\\nSkipping line 690: expected 1 fields, saw 2\\nSkipping line 695: expected 1 fields, saw 4\\nSkipping line 697: expected 1 fields, saw 2\\nSkipping line 700: expected 1 fields, saw 2\\nSkipping line 702: expected 1 fields, saw 4\\nSkipping line 706: expected 1 fields, saw 4\\nSkipping line 710: expected 1 fields, saw 2\\nSkipping line 712: expected 1 fields, saw 2\\nSkipping line 713: expected 1 fields, saw 4\\nSkipping line 715: expected 1 fields, saw 2\\nSkipping line 718: expected 1 fields, saw 2\\nSkipping line 722: expected 1 fields, saw 4\\nSkipping line 737: expected 1 fields, saw 4\\nSkipping line 738: expected 1 fields, saw 2\\nSkipping line 747: expected 1 fields, saw 2\\nSkipping line 752: expected 1 fields, saw 4\\nSkipping line 768: expected 1 fields, saw 4\\nSkipping line 769: expected 1 fields, saw 3\\nSkipping line 779: expected 1 fields, saw 4\\nSkipping line 781: expected 1 fields, saw 2\\nSkipping line 782: expected 1 fields, saw 4\\nSkipping line 784: expected 1 fields, saw 4\\nSkipping line 786: expected 1 fields, saw 4\\nSkipping line 794: expected 1 fields, saw 2\\nSkipping line 796: expected 1 fields, saw 2\\nSkipping line 797: expected 1 fields, saw 4\\nSkipping line 799: expected 1 fields, saw 2\\nSkipping line 801: expected 1 fields, saw 2\\nSkipping line 803: expected 1 fields, saw 2\\nSkipping line 806: expected 1 fields, saw 2\\nSkipping line 814: expected 1 fields, saw 2\\nSkipping line 816: expected 1 fields, saw 2\\nSkipping line 818: expected 1 fields, saw 4\\nSkipping line 821: expected 1 fields, saw 2\\nSkipping line 822: expected 1 fields, saw 4\\nSkipping line 827: expected 1 fields, saw 2\\nSkipping line 829: expected 1 fields, saw 2\\nSkipping line 831: expected 1 fields, saw 2\\nSkipping line 840: expected 1 fields, saw 2\\nSkipping line 842: expected 1 fields, saw 2\\nSkipping line 844: expected 1 fields, saw 2\\nSkipping line 846: expected 1 fields, saw 2\\nSkipping line 848: expected 1 fields, saw 2\\nSkipping line 850: expected 1 fields, saw 2\\nSkipping line 851: expected 1 fields, saw 4\\nSkipping line 853: expected 1 fields, saw 2\\nSkipping line 855: expected 1 fields, saw 2\\nSkipping line 857: expected 1 fields, saw 2\\nSkipping line 859: expected 1 fields, saw 2\\nSkipping line 861: expected 1 fields, saw 2\\nSkipping line 863: expected 1 fields, saw 2\\nSkipping line 865: expected 1 fields, saw 2\\nSkipping line 867: expected 1 fields, saw 2\\nSkipping line 877: expected 1 fields, saw 2\\nSkipping line 878: expected 1 fields, saw 4\\nSkipping line 887: expected 1 fields, saw 2\\nSkipping line 888: expected 1 fields, saw 2\\nSkipping line 889: expected 1 fields, saw 4\\nSkipping line 890: expected 1 fields, saw 2\\nSkipping line 898: expected 1 fields, saw 2\\nSkipping line 900: expected 1 fields, saw 2\\nSkipping line 910: expected 1 fields, saw 4\\nSkipping line 915: expected 1 fields, saw 4\\nSkipping line 916: expected 1 fields, saw 4\\nSkipping line 925: expected 1 fields, saw 4\\nSkipping line 929: expected 1 fields, saw 2\\nSkipping line 930: expected 1 fields, saw 4\\nSkipping line 931: expected 1 fields, saw 4\\nSkipping line 932: expected 1 fields, saw 4\\nSkipping line 933: expected 1 fields, saw 4\\nSkipping line 948: expected 1 fields, saw 4\\nSkipping line 950: expected 1 fields, saw 4\\nSkipping line 951: expected 1 fields, saw 4\\nSkipping line 953: expected 1 fields, saw 4\\nSkipping line 957: expected 1 fields, saw 2\\nSkipping line 958: expected 1 fields, saw 4\\nSkipping line 960: expected 1 fields, saw 4\\nSkipping line 961: expected 1 fields, saw 4\\nSkipping line 962: expected 1 fields, saw 4\\nSkipping line 963: expected 1 fields, saw 2\\nSkipping line 966: expected 1 fields, saw 4\\nSkipping line 967: expected 1 fields, saw 4\\nSkipping line 976: expected 1 fields, saw 4\\nSkipping line 978: expected 1 fields, saw 4\\nSkipping line 990: expected 1 fields, saw 4\\nSkipping line 992: expected 1 fields, saw 4\\nSkipping line 993: expected 1 fields, saw 4\\nSkipping line 994: expected 1 fields, saw 4\\nSkipping line 995: expected 1 fields, saw 4\\nSkipping line 1001: expected 1 fields, saw 4\\nSkipping line 1011: expected 1 fields, saw 2\\nSkipping line 1012: expected 1 fields, saw 4\\nSkipping line 1014: expected 1 fields, saw 2\\nSkipping line 1015: expected 1 fields, saw 4\\nSkipping line 1016: expected 1 fields, saw 4\\nSkipping line 1040: expected 1 fields, saw 2\\nSkipping line 1050: expected 1 fields, saw 4\\nSkipping line 1051: expected 1 fields, saw 4\\nSkipping line 1052: expected 1 fields, saw 4\\nSkipping line 1053: expected 1 fields, saw 4\\nSkipping line 1056: expected 1 fields, saw 9\\nSkipping line 1059: expected 1 fields, saw 8\\nSkipping line 1062: expected 1 fields, saw 9\\nSkipping line 1065: expected 1 fields, saw 4\\nSkipping line 1068: expected 1 fields, saw 11\\nSkipping line 1071: expected 1 fields, saw 3\\nSkipping line 1074: expected 1 fields, saw 9\\nSkipping line 1077: expected 1 fields, saw 8\\nSkipping line 1079: expected 1 fields, saw 6\\nSkipping line 1082: expected 1 fields, saw 9\\nSkipping line 1085: expected 1 fields, saw 5\\nSkipping line 1091: expected 1 fields, saw 3\\nSkipping line 1093: expected 1 fields, saw 2\\nSkipping line 1095: expected 1 fields, saw 2\\nSkipping line 1097: expected 1 fields, saw 2\\nSkipping line 1099: expected 1 fields, saw 2\\nSkipping line 1101: expected 1 fields, saw 6\\nSkipping line 1103: expected 1 fields, saw 3\\nSkipping line 1105: expected 1 fields, saw 6\\nSkipping line 1107: expected 1 fields, saw 7\\nSkipping line 1111: expected 1 fields, saw 3\\nSkipping line 1118: expected 1 fields, saw 6\\nSkipping line 1120: expected 1 fields, saw 6\\nSkipping line 1124: expected 1 fields, saw 5\\nSkipping line 1126: expected 1 fields, saw 4\\nSkipping line 1130: expected 1 fields, saw 8\\nSkipping line 1132: expected 1 fields, saw 3\\nSkipping line 1136: expected 1 fields, saw 2\\nSkipping line 1138: expected 1 fields, saw 3\\nSkipping line 1142: expected 1 fields, saw 3\\nSkipping line 1144: expected 1 fields, saw 3\\nSkipping line 1148: expected 1 fields, saw 2\\nSkipping line 1150: expected 1 fields, saw 2\\nSkipping line 1152: expected 1 fields, saw 3\\nSkipping line 1154: expected 1 fields, saw 4\\nSkipping line 1156: expected 1 fields, saw 2\\nSkipping line 1158: expected 1 fields, saw 3\\nSkipping line 1978: expected 1 fields, saw 3\\nSkipping line 1980: expected 1 fields, saw 2\\nSkipping line 1982: expected 1 fields, saw 3\\nSkipping line 2006: expected 1 fields, saw 3\\nSkipping line 2054: expected 1 fields, saw 4\\nSkipping line 2056: expected 1 fields, saw 2\\nSkipping line 2058: expected 1 fields, saw 4\\nSkipping line 2059: expected 1 fields, saw 2\\nSkipping line 2061: expected 1 fields, saw 2\\nSkipping line 2063: expected 1 fields, saw 5\\nSkipping line 2065: expected 1 fields, saw 6\\nSkipping line 2067: expected 1 fields, saw 2\\nSkipping line 2069: expected 1 fields, saw 2\\nSkipping line 2071: expected 1 fields, saw 3\\nSkipping line 2073: expected 1 fields, saw 6\\nSkipping line 2081: expected 1 fields, saw 3\\nSkipping line 2093: expected 1 fields, saw 2\\nSkipping line 2095: expected 1 fields, saw 2\\nSkipping line 2104: expected 1 fields, saw 2\\nSkipping line 2106: expected 1 fields, saw 12\\nSkipping line 2120: expected 1 fields, saw 2\\nSkipping line 2122: expected 1 fields, saw 3\\nSkipping line 2124: expected 1 fields, saw 4\\nSkipping line 2126: expected 1 fields, saw 5\\nSkipping line 2128: expected 1 fields, saw 12\\nSkipping line 2130: expected 1 fields, saw 4\\nSkipping line 2131: expected 1 fields, saw 2\\nSkipping line 2239: expected 1 fields, saw 3\\nSkipping line 2241: expected 1 fields, saw 4\\nSkipping line 2251: expected 1 fields, saw 3\\nSkipping line 2255: expected 1 fields, saw 3\\nSkipping line 2256: expected 1 fields, saw 2\\nSkipping line 2258: expected 1 fields, saw 2\\nSkipping line 2259: expected 1 fields, saw 3\\nSkipping line 2260: expected 1 fields, saw 2\\nSkipping line 2261: expected 1 fields, saw 3\\nSkipping line 2262: expected 1 fields, saw 2\\nSkipping line 2266: expected 1 fields, saw 2\\nSkipping line 2267: expected 1 fields, saw 2\\nSkipping line 2268: expected 1 fields, saw 3\\nSkipping line 2271: expected 1 fields, saw 3\\nSkipping line 2272: expected 1 fields, saw 3\\nSkipping line 2273: expected 1 fields, saw 3\\nSkipping line 2274: expected 1 fields, saw 4\\nSkipping line 2275: expected 1 fields, saw 2\\nSkipping line 2277: expected 1 fields, saw 3\\nSkipping line 2283: expected 1 fields, saw 4\\nSkipping line 2287: expected 1 fields, saw 8\\nSkipping line 2292: expected 1 fields, saw 2\\nSkipping line 2307: expected 1 fields, saw 2\\nSkipping line 2310: expected 1 fields, saw 2\\nSkipping line 2330: expected 1 fields, saw 2\\nSkipping line 2331: expected 1 fields, saw 2\\nSkipping line 2332: expected 1 fields, saw 2\\nSkipping line 2333: expected 1 fields, saw 2\\nSkipping line 2334: expected 1 fields, saw 2\\nSkipping line 2335: expected 1 fields, saw 2\\nSkipping line 2336: expected 1 fields, saw 2\\nSkipping line 2337: expected 1 fields, saw 2\\nSkipping line 2344: expected 1 fields, saw 4\\nSkipping line 2350: expected 1 fields, saw 2\\nSkipping line 2353: expected 1 fields, saw 2\\nSkipping line 2361: expected 1 fields, saw 2\\nSkipping line 2363: expected 1 fields, saw 2\\nSkipping line 2365: expected 1 fields, saw 3\\nSkipping line 2368: expected 1 fields, saw 3\\nSkipping line 2374: expected 1 fields, saw 2\\nSkipping line 2381: expected 1 fields, saw 2\\nSkipping line 2383: expected 1 fields, saw 2\\nSkipping line 2397: expected 1 fields, saw 4\\nSkipping line 2412: expected 1 fields, saw 4\\nSkipping line 2414: expected 1 fields, saw 2\\nSkipping line 2417: expected 1 fields, saw 3\\nSkipping line 2419: expected 1 fields, saw 5\\nSkipping line 2425: expected 1 fields, saw 7\\nSkipping line 2449: expected 1 fields, saw 8\\nSkipping line 2451: expected 1 fields, saw 6\\nSkipping line 2455: expected 1 fields, saw 2\\nSkipping line 2457: expected 1 fields, saw 6\\nSkipping line 2462: expected 1 fields, saw 3\\nSkipping line 2467: expected 1 fields, saw 2\\nSkipping line 2473: expected 1 fields, saw 3\\nSkipping line 2476: expected 1 fields, saw 3\\nSkipping line 2480: expected 1 fields, saw 4\\nSkipping line 2488: expected 1 fields, saw 2\\nSkipping line 2490: expected 1 fields, saw 3\\nSkipping line 2498: expected 1 fields, saw 3\\nSkipping line 2516: expected 1 fields, saw 2\\nSkipping line 2522: expected 1 fields, saw 3\\nSkipping line 2538: expected 1 fields, saw 3\\nSkipping line 2542: expected 1 fields, saw 3\\nSkipping line 2546: expected 1 fields, saw 3\\nSkipping line 2562: expected 1 fields, saw 4\\nSkipping line 2578: expected 1 fields, saw 2\\nSkipping line 2586: expected 1 fields, saw 3\\nSkipping line 2590: expected 1 fields, saw 2\\nSkipping line 2592: expected 1 fields, saw 2\\nSkipping line 2594: expected 1 fields, saw 3\\nSkipping line 2598: expected 1 fields, saw 5\\nSkipping line 2606: expected 1 fields, saw 7\\nSkipping line 2610: expected 1 fields, saw 3\\nSkipping line 2614: expected 1 fields, saw 3\\nSkipping line 2626: expected 1 fields, saw 2\\nSkipping line 2634: expected 1 fields, saw 2\\nSkipping line 2638: expected 1 fields, saw 5\\nSkipping line 2646: expected 1 fields, saw 3\\nSkipping line 2654: expected 1 fields, saw 3\\nSkipping line 2658: expected 1 fields, saw 4\\nSkipping line 2666: expected 1 fields, saw 5\\nSkipping line 2670: expected 1 fields, saw 2\\nSkipping line 2674: expected 1 fields, saw 4\\nSkipping line 2692: expected 1 fields, saw 2\\nSkipping line 2709: expected 1 fields, saw 3\\nSkipping line 2713: expected 1 fields, saw 4\\nSkipping line 2716: expected 1 fields, saw 2\\nSkipping line 2732: expected 1 fields, saw 3\\nSkipping line 2738: expected 1 fields, saw 2\\nSkipping line 2739: expected 1 fields, saw 5\\nSkipping line 2740: expected 1 fields, saw 3\\nSkipping line 2746: expected 1 fields, saw 2\\nSkipping line 2752: expected 1 fields, saw 2\\nSkipping line 2758: expected 1 fields, saw 2\\nSkipping line 2759: expected 1 fields, saw 3\\nSkipping line 2763: expected 1 fields, saw 2\\nSkipping line 2765: expected 1 fields, saw 2\\nSkipping line 2767: expected 1 fields, saw 2\\nSkipping line 2775: expected 1 fields, saw 2\\nSkipping line 2785: expected 1 fields, saw 9\\nSkipping line 2788: expected 1 fields, saw 2\\nSkipping line 2794: expected 1 fields, saw 2\\nSkipping line 2808: expected 1 fields, saw 3\\nSkipping line 2830: expected 1 fields, saw 7\\nSkipping line 2831: expected 1 fields, saw 10\\nSkipping line 2833: expected 1 fields, saw 23\\nSkipping line 2845: expected 1 fields, saw 9\\nSkipping line 2857: expected 1 fields, saw 20\\nSkipping line 2869: expected 1 fields, saw 18\\nSkipping line 2881: expected 1 fields, saw 17\\nSkipping line 2903: expected 1 fields, saw 5\\nSkipping line 2912: expected 1 fields, saw 8\\nSkipping line 2920: expected 1 fields, saw 2\\nSkipping line 2930: expected 1 fields, saw 2\\nSkipping line 2932: expected 1 fields, saw 3\\nSkipping line 2934: expected 1 fields, saw 4\\nSkipping line 2936: expected 1 fields, saw 2\\nSkipping line 2966: expected 1 fields, saw 2\\nSkipping line 2971: expected 1 fields, saw 2\\nSkipping line 2973: expected 1 fields, saw 2\\nSkipping line 2975: expected 1 fields, saw 3\\nSkipping line 2979: expected 1 fields, saw 2\\nSkipping line 2981: expected 1 fields, saw 4\\nSkipping line 2983: expected 1 fields, saw 2\\nSkipping line 2985: expected 1 fields, saw 2\\nSkipping line 2991: expected 1 fields, saw 3\\nSkipping line 2993: expected 1 fields, saw 5\\nSkipping line 2995: expected 1 fields, saw 3\\nSkipping line 2997: expected 1 fields, saw 4\\nSkipping line 2999: expected 1 fields, saw 2\\nSkipping line 3010: expected 1 fields, saw 2\\nSkipping line 3014: expected 1 fields, saw 2\\nSkipping line 3019: expected 1 fields, saw 5\\nSkipping line 3023: expected 1 fields, saw 2\\nSkipping line 3026: expected 1 fields, saw 4\\nSkipping line 3031: expected 1 fields, saw 2\\nSkipping line 3033: expected 1 fields, saw 2\\nSkipping line 3036: expected 1 fields, saw 2\\nSkipping line 3048: expected 1 fields, saw 4\\nSkipping line 3051: expected 1 fields, saw 7\\nSkipping line 3054: expected 1 fields, saw 6\\nSkipping line 3055: expected 1 fields, saw 4\\nSkipping line 3058: expected 1 fields, saw 3\\nSkipping line 3061: expected 1 fields, saw 4\\nSkipping line 3064: expected 1 fields, saw 2\\nSkipping line 3067: expected 1 fields, saw 5\\nSkipping line 3070: expected 1 fields, saw 5\\nSkipping line 3071: expected 1 fields, saw 2\\nSkipping line 3072: expected 1 fields, saw 4\\nSkipping line 3073: expected 1 fields, saw 4\\nSkipping line 3076: expected 1 fields, saw 3\\nSkipping line 3077: expected 1 fields, saw 9\\nSkipping line 3078: expected 1 fields, saw 7\\nSkipping line 3079: expected 1 fields, saw 9\\nSkipping line 3080: expected 1 fields, saw 6\\nSkipping line 3084: expected 1 fields, saw 4\\nSkipping line 3086: expected 1 fields, saw 4\\nSkipping line 3087: expected 1 fields, saw 3\\nSkipping line 3088: expected 1 fields, saw 3\\nSkipping line 3089: expected 1 fields, saw 6\\nSkipping line 3090: expected 1 fields, saw 4\\nSkipping line 3102: expected 1 fields, saw 2\\nSkipping line 3114: expected 1 fields, saw 2\\nSkipping line 3124: expected 1 fields, saw 4\\nSkipping line 3128: expected 1 fields, saw 9\\nSkipping line 3132: expected 1 fields, saw 8\\nSkipping line 3133: expected 1 fields, saw 4\\nSkipping line 3137: expected 1 fields, saw 3\\nSkipping line 3141: expected 1 fields, saw 4\\nSkipping line 3145: expected 1 fields, saw 2\\nSkipping line 3149: expected 1 fields, saw 5\\nSkipping line 3153: expected 1 fields, saw 5\\nSkipping line 3154: expected 1 fields, saw 2\\nSkipping line 3155: expected 1 fields, saw 4\\nSkipping line 3156: expected 1 fields, saw 4\\nSkipping line 3160: expected 1 fields, saw 3\\nSkipping line 3161: expected 1 fields, saw 9\\nSkipping line 3162: expected 1 fields, saw 7\\nSkipping line 3163: expected 1 fields, saw 9\\nSkipping line 3164: expected 1 fields, saw 7\\nSkipping line 3169: expected 1 fields, saw 5\\nSkipping line 3171: expected 1 fields, saw 4\\nSkipping line 3172: expected 1 fields, saw 3\\nSkipping line 3173: expected 1 fields, saw 3\\nSkipping line 3174: expected 1 fields, saw 6\\nSkipping line 3175: expected 1 fields, saw 4\\nSkipping line 3182: expected 1 fields, saw 2\\nSkipping line 3183: expected 1 fields, saw 2\\nSkipping line 3186: expected 1 fields, saw 5\\nSkipping line 3189: expected 1 fields, saw 2\\nSkipping line 3203: expected 1 fields, saw 4\\nSkipping line 3205: expected 1 fields, saw 2\\nSkipping line 3214: expected 1 fields, saw 2\\nSkipping line 3216: expected 1 fields, saw 9\\nSkipping line 3220: expected 1 fields, saw 3\\nSkipping line 3222: expected 1 fields, saw 4\\nSkipping line 3224: expected 1 fields, saw 4\\nSkipping line 3226: expected 1 fields, saw 5\\nSkipping line 3227: expected 1 fields, saw 5\\nSkipping line 3241: expected 1 fields, saw 8\\nSkipping line 3242: expected 1 fields, saw 2\\nSkipping line 3255: expected 1 fields, saw 2\\nSkipping line 3263: expected 1 fields, saw 2\\nSkipping line 3266: expected 1 fields, saw 2\\nSkipping line 3274: expected 1 fields, saw 2\\nSkipping line 3276: expected 1 fields, saw 2\\nSkipping line 3278: expected 1 fields, saw 3\\nSkipping line 3283: expected 1 fields, saw 3\\nSkipping line 3285: expected 1 fields, saw 2\\nSkipping line 3287: expected 1 fields, saw 2\\nSkipping line 3289: expected 1 fields, saw 2\\nSkipping line 3301: expected 1 fields, saw 3\\nSkipping line 3302: expected 1 fields, saw 3\\nSkipping line 3303: expected 1 fields, saw 5\\nSkipping line 3304: expected 1 fields, saw 4\\nSkipping line 3305: expected 1 fields, saw 4\\nSkipping line 3306: expected 1 fields, saw 7\\nSkipping line 3307: expected 1 fields, saw 9\\nSkipping line 3308: expected 1 fields, saw 4\\nSkipping line 3309: expected 1 fields, saw 7\\nSkipping line 3310: expected 1 fields, saw 3\\nSkipping line 3311: expected 1 fields, saw 7\\nSkipping line 3312: expected 1 fields, saw 3\\nSkipping line 3313: expected 1 fields, saw 5\\nSkipping line 3314: expected 1 fields, saw 3\\nSkipping line 3315: expected 1 fields, saw 6\\nSkipping line 3316: expected 1 fields, saw 5\\nSkipping line 3317: expected 1 fields, saw 5\\nSkipping line 3318: expected 1 fields, saw 5\\nSkipping line 3319: expected 1 fields, saw 4\\nSkipping line 3320: expected 1 fields, saw 3\\nSkipping line 3341: expected 1 fields, saw 7\\nSkipping line 3374: expected 1 fields, saw 4\\nSkipping line 3378: expected 1 fields, saw 2\\nSkipping line 3380: expected 1 fields, saw 2\\nSkipping line 3384: expected 1 fields, saw 2\\nSkipping line 3390: expected 1 fields, saw 2\\nSkipping line 3394: expected 1 fields, saw 4\\nSkipping line 3398: expected 1 fields, saw 2\\nSkipping line 3404: expected 1 fields, saw 2\\nSkipping line 3406: expected 1 fields, saw 2\\nSkipping line 3412: expected 1 fields, saw 5\\nSkipping line 3414: expected 1 fields, saw 3\\nSkipping line 3416: expected 1 fields, saw 7\\nSkipping line 3418: expected 1 fields, saw 7\\nSkipping line 3420: expected 1 fields, saw 2\\nSkipping line 3422: expected 1 fields, saw 2\\nSkipping line 3434: expected 1 fields, saw 2\\nSkipping line 3439: expected 1 fields, saw 3\\nSkipping line 3443: expected 1 fields, saw 10\\nSkipping line 3448: expected 1 fields, saw 2\\nSkipping line 3460: expected 1 fields, saw 7\\nSkipping line 3490: expected 1 fields, saw 3\\nSkipping line 3494: expected 1 fields, saw 4\\nSkipping line 3569: expected 1 fields, saw 13\\nSkipping line 3575: expected 1 fields, saw 2\\nSkipping line 3582: expected 1 fields, saw 2\\nSkipping line 3592: expected 1 fields, saw 2\\nSkipping line 3594: expected 1 fields, saw 10\\nSkipping line 3596: expected 1 fields, saw 6\\nSkipping line 3598: expected 1 fields, saw 10\\nSkipping line 3604: expected 1 fields, saw 3\\n'\n"
     ]
    },
    {
     "name": "stdout",
     "output_type": "stream",
     "text": [
      "1643\n",
      "Negative: 96\n",
      "Positive: 2218\n",
      "Neutral: 4258\n"
     ]
    }
   ],
   "source": [
    "import nltk\n",
    "data = pd.read_csv(\"scraper/Zayn Malik.csv\",header=None,error_bad_lines=False,quotechar=None, quoting=3)\n",
    "texts = data[0]\n",
    "positive = 0\n",
    "negative = 0\n",
    "neutral = 0\n",
    "print(len(texts))\n",
    "for t in texts:\n",
    "#     print(t)\n",
    "    sentiment = sid.polarity_scores(t)\n",
    "    for k in sorted(sentiment):\n",
    "        if sentiment[k] > 0:\n",
    "            positive += 1\n",
    "        if sentiment[k] < 0:\n",
    "            negative += 1\n",
    "        if sentiment[k] == 0.0:\n",
    "            neutral += 1\n",
    "print(\"Negative: \" + str(negative))\n",
    "print(\"Positive: \" + str(positive))\n",
    "print(\"Neutral: \" + str(neutral))"
   ]
  },
  {
   "cell_type": "code",
   "execution_count": null,
   "metadata": {},
   "outputs": [],
   "source": []
  }
 ],
 "metadata": {
  "kernelspec": {
   "display_name": "Python 3",
   "language": "python",
   "name": "python3"
  },
  "language_info": {
   "codemirror_mode": {
    "name": "ipython",
    "version": 3
   },
   "file_extension": ".py",
   "mimetype": "text/x-python",
   "name": "python",
   "nbconvert_exporter": "python",
   "pygments_lexer": "ipython3",
   "version": "3.7.4"
  }
 },
 "nbformat": 4,
 "nbformat_minor": 2
}
