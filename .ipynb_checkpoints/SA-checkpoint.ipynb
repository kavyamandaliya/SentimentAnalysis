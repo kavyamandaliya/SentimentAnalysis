{
 "cells": [
  {
   "cell_type": "code",
   "execution_count": 1,
   "metadata": {},
   "outputs": [],
   "source": [
    "from textblob import TextBlob"
   ]
  },
  {
   "cell_type": "code",
   "execution_count": 2,
   "metadata": {},
   "outputs": [],
   "source": [
    "import nltk"
   ]
  },
  {
   "cell_type": "code",
   "execution_count": 3,
   "metadata": {},
   "outputs": [],
   "source": [
    "from newspaper import Article"
   ]
  },
  {
   "cell_type": "code",
   "execution_count": 7,
   "metadata": {},
   "outputs": [],
   "source": [
    "url = 'https://everythingcomputerscience.com/'"
   ]
  },
  {
   "cell_type": "code",
   "execution_count": 8,
   "metadata": {},
   "outputs": [],
   "source": [
    "article = Article(url)\n",
    "article.download()\n",
    "article.parse()"
   ]
  },
  {
   "cell_type": "code",
   "execution_count": 4,
   "metadata": {},
   "outputs": [
    {
     "name": "stderr",
     "output_type": "stream",
     "text": [
      "[nltk_data] Downloading package punkt to /Users/kavya/nltk_data...\n",
      "[nltk_data]   Package punkt is already up-to-date!\n"
     ]
    },
    {
     "data": {
      "text/plain": [
       "True"
      ]
     },
     "execution_count": 4,
     "metadata": {},
     "output_type": "execute_result"
    }
   ],
   "source": [
    "nltk.download('punkt')"
   ]
  },
  {
   "cell_type": "code",
   "execution_count": 9,
   "metadata": {},
   "outputs": [],
   "source": [
    "article.nlp()"
   ]
  },
  {
   "cell_type": "code",
   "execution_count": 9,
   "metadata": {},
   "outputs": [],
   "source": [
    "text = article.summary"
   ]
  },
  {
   "cell_type": "code",
   "execution_count": 10,
   "metadata": {},
   "outputs": [
    {
     "name": "stdout",
     "output_type": "stream",
     "text": [
      "Computer Science (CS)Computer Science (CS) is the study of the principles and use of computers.\n",
      "Simply put it's the science that deals with the theory and methods of processing information in digital computers, the design of computer hardware and software, and the applications of computers.\n",
      "A computer is simply a tool for a computer scientist, like a telescope for an astronomer.\n",
      "Teach yourself !\n"
     ]
    }
   ],
   "source": [
    "print(text)"
   ]
  },
  {
   "cell_type": "code",
   "execution_count": 11,
   "metadata": {},
   "outputs": [
    {
     "name": "stdout",
     "output_type": "stream",
     "text": [
      "0.0\n"
     ]
    }
   ],
   "source": [
    "object = TextBlob(text)\n",
    "sentiment = object.sentiment.polarity\n",
    "print(sentiment)"
   ]
  },
  {
   "cell_type": "code",
   "execution_count": 14,
   "metadata": {},
   "outputs": [],
   "source": [
    "text1 = 'I am very irritated, cause the code is not working, and it is giving several errors. The movie was a total waste of time. And it went on for so long that I got bored'\n",
    "sum1 = TextBlob(text1)"
   ]
  },
  {
   "cell_type": "code",
   "execution_count": 15,
   "metadata": {},
   "outputs": [],
   "source": [
    "sent1 = sum1.sentiment.polarity"
   ]
  },
  {
   "cell_type": "code",
   "execution_count": 17,
   "metadata": {},
   "outputs": [
    {
     "name": "stdout",
     "output_type": "stream",
     "text": [
      "-0.09166666666666667\n"
     ]
    }
   ],
   "source": [
    "print(sent1)"
   ]
  },
  {
   "cell_type": "code",
   "execution_count": 10,
   "metadata": {},
   "outputs": [],
   "source": [
    "import pandas as pd"
   ]
  },
  {
   "cell_type": "code",
   "execution_count": 11,
   "metadata": {
    "scrolled": true
   },
   "outputs": [
    {
     "name": "stderr",
     "output_type": "stream",
     "text": [
      "b'Skipping line 5: expected 1 fields, saw 4\\nSkipping line 19: expected 1 fields, saw 2\\nSkipping line 24: expected 1 fields, saw 3\\nSkipping line 34: expected 1 fields, saw 2\\nSkipping line 60: expected 1 fields, saw 3\\nSkipping line 72: expected 1 fields, saw 3\\nSkipping line 76: expected 1 fields, saw 3\\nSkipping line 78: expected 1 fields, saw 6\\nSkipping line 79: expected 1 fields, saw 2\\nSkipping line 80: expected 1 fields, saw 3\\nSkipping line 89: expected 1 fields, saw 3\\nSkipping line 111: expected 1 fields, saw 2\\nSkipping line 115: expected 1 fields, saw 3\\nSkipping line 132: expected 1 fields, saw 2\\nSkipping line 140: expected 1 fields, saw 2\\nSkipping line 161: expected 1 fields, saw 2\\nSkipping line 174: expected 1 fields, saw 3\\nSkipping line 179: expected 1 fields, saw 4\\nSkipping line 185: expected 1 fields, saw 2\\nSkipping line 192: expected 1 fields, saw 6\\nSkipping line 200: expected 1 fields, saw 3\\nSkipping line 213: expected 1 fields, saw 3\\nSkipping line 217: expected 1 fields, saw 2\\nSkipping line 218: expected 1 fields, saw 2\\nSkipping line 220: expected 1 fields, saw 2\\nSkipping line 221: expected 1 fields, saw 2\\nSkipping line 225: expected 1 fields, saw 2\\nSkipping line 249: expected 1 fields, saw 2\\nSkipping line 252: expected 1 fields, saw 4\\nSkipping line 277: expected 1 fields, saw 2\\nSkipping line 292: expected 1 fields, saw 2\\nSkipping line 296: expected 1 fields, saw 2\\nSkipping line 303: expected 1 fields, saw 2\\nSkipping line 305: expected 1 fields, saw 2\\nSkipping line 349: expected 1 fields, saw 2\\nSkipping line 362: expected 1 fields, saw 5\\nSkipping line 365: expected 1 fields, saw 2\\nSkipping line 384: expected 1 fields, saw 6\\nSkipping line 386: expected 1 fields, saw 2\\nSkipping line 394: expected 1 fields, saw 2\\nSkipping line 395: expected 1 fields, saw 5\\nSkipping line 396: expected 1 fields, saw 2\\nSkipping line 414: expected 1 fields, saw 3\\nSkipping line 439: expected 1 fields, saw 2\\nSkipping line 440: expected 1 fields, saw 2\\nSkipping line 446: expected 1 fields, saw 2\\nSkipping line 450: expected 1 fields, saw 2\\nSkipping line 468: expected 1 fields, saw 2\\nSkipping line 476: expected 1 fields, saw 2\\nSkipping line 489: expected 1 fields, saw 2\\nSkipping line 496: expected 1 fields, saw 2\\nSkipping line 501: expected 1 fields, saw 3\\nSkipping line 503: expected 1 fields, saw 2\\nSkipping line 507: expected 1 fields, saw 3\\nSkipping line 508: expected 1 fields, saw 3\\nSkipping line 543: expected 1 fields, saw 2\\nSkipping line 544: expected 1 fields, saw 3\\nSkipping line 549: expected 1 fields, saw 3\\nSkipping line 553: expected 1 fields, saw 2\\nSkipping line 581: expected 1 fields, saw 2\\nSkipping line 604: expected 1 fields, saw 2\\nSkipping line 611: expected 1 fields, saw 4\\nSkipping line 615: expected 1 fields, saw 3\\nSkipping line 616: expected 1 fields, saw 2\\nSkipping line 617: expected 1 fields, saw 2\\nSkipping line 618: expected 1 fields, saw 3\\nSkipping line 626: expected 1 fields, saw 4\\nSkipping line 631: expected 1 fields, saw 2\\nSkipping line 636: expected 1 fields, saw 2\\nSkipping line 637: expected 1 fields, saw 3\\nSkipping line 640: expected 1 fields, saw 2\\nSkipping line 657: expected 1 fields, saw 2\\nSkipping line 662: expected 1 fields, saw 2\\nSkipping line 663: expected 1 fields, saw 2\\nSkipping line 667: expected 1 fields, saw 2\\nSkipping line 676: expected 1 fields, saw 2\\nSkipping line 677: expected 1 fields, saw 2\\nSkipping line 701: expected 1 fields, saw 2\\nSkipping line 707: expected 1 fields, saw 2\\nSkipping line 715: expected 1 fields, saw 2\\nSkipping line 725: expected 1 fields, saw 2\\nSkipping line 736: expected 1 fields, saw 3\\nSkipping line 739: expected 1 fields, saw 2\\nSkipping line 745: expected 1 fields, saw 2\\nSkipping line 751: expected 1 fields, saw 3\\nSkipping line 756: expected 1 fields, saw 2\\nSkipping line 763: expected 1 fields, saw 2\\nSkipping line 769: expected 1 fields, saw 2\\nSkipping line 770: expected 1 fields, saw 2\\nSkipping line 786: expected 1 fields, saw 2\\nSkipping line 787: expected 1 fields, saw 5\\nSkipping line 793: expected 1 fields, saw 2\\nSkipping line 794: expected 1 fields, saw 2\\n'\n"
     ]
    }
   ],
   "source": [
    "data = pd.read_csv(\"scraper/Nike.csv\",header=None,error_bad_lines=False,quotechar=None, quoting=3)"
   ]
  },
  {
   "cell_type": "code",
   "execution_count": 13,
   "metadata": {},
   "outputs": [
    {
     "name": "stdout",
     "output_type": "stream",
     "text": [
      "                                                     0\n",
      "0    [User Content] Celebrities &amp; Public Alread...\n",
      "1      https://t.co/1RNbLUyGoy https://t.co/PpzDBNFp5k\n",
      "2    Nike introduces @Shaquemgriffin Flyease footba...\n",
      "3    Giveaway! Game worn Nike cleats. Follow me and...\n",
      "4    RT @NBAKicks: Markelle Fultz with the “Lake Sh...\n",
      "..                                                 ...\n",
      "605  Highest Bid: $88 Nike Air Trainer 1 Chlorophyl...\n",
      "606  Tyler fans thinking Frank was gonna walk out a...\n",
      "607                                Elle voulait un ch…\n",
      "608  RT @204Fashion: Nike | 204Fashion https://t.co...\n",
      "609  RT @pullupnghost: Ninguém me quer oferecer uma...\n",
      "\n",
      "[610 rows x 1 columns]\n"
     ]
    }
   ],
   "source": [
    "print(data)"
   ]
  },
  {
   "cell_type": "code",
   "execution_count": 17,
   "metadata": {},
   "outputs": [
    {
     "name": "stderr",
     "output_type": "stream",
     "text": [
      "[nltk_data] Downloading package vader_lexicon to\n",
      "[nltk_data]     /Users/kavya/nltk_data...\n",
      "[nltk_data]   Package vader_lexicon is already up-to-date!\n"
     ]
    }
   ],
   "source": [
    "from textblob import TextBlob\n",
    "nltk.downloader.download('vader_lexicon')\n",
    "from nltk.sentiment.vader import SentimentIntensityAnalyzer\n",
    "sid = SentimentIntensityAnalyzer()"
   ]
  },
  {
   "cell_type": "code",
   "execution_count": 28,
   "metadata": {},
   "outputs": [
    {
     "name": "stdout",
     "output_type": "stream",
     "text": [
      "569\n",
      "Negative: 41\n",
      "Positive: 746\n",
      "Neutral: 1489\n"
     ]
    },
    {
     "name": "stderr",
     "output_type": "stream",
     "text": [
      "b'Skipping line 5: expected 1 fields, saw 4\\nSkipping line 8: expected 1 fields, saw 2\\nSkipping line 19: expected 1 fields, saw 2\\nSkipping line 27: expected 1 fields, saw 2\\nSkipping line 28: expected 1 fields, saw 2\\nSkipping line 29: expected 1 fields, saw 2\\nSkipping line 31: expected 1 fields, saw 2\\nSkipping line 35: expected 1 fields, saw 2\\nSkipping line 38: expected 1 fields, saw 3\\nSkipping line 46: expected 1 fields, saw 2\\nSkipping line 54: expected 1 fields, saw 2\\nSkipping line 62: expected 1 fields, saw 2\\nSkipping line 86: expected 1 fields, saw 4\\nSkipping line 88: expected 1 fields, saw 2\\nSkipping line 91: expected 1 fields, saw 2\\nSkipping line 93: expected 1 fields, saw 2\\nSkipping line 96: expected 1 fields, saw 2\\nSkipping line 97: expected 1 fields, saw 6\\nSkipping line 98: expected 1 fields, saw 2\\nSkipping line 99: expected 1 fields, saw 2\\nSkipping line 107: expected 1 fields, saw 2\\nSkipping line 111: expected 1 fields, saw 2\\nSkipping line 114: expected 1 fields, saw 2\\nSkipping line 115: expected 1 fields, saw 2\\nSkipping line 121: expected 1 fields, saw 2\\nSkipping line 123: expected 1 fields, saw 2\\nSkipping line 125: expected 1 fields, saw 2\\nSkipping line 126: expected 1 fields, saw 2\\nSkipping line 128: expected 1 fields, saw 2\\nSkipping line 129: expected 1 fields, saw 2\\nSkipping line 133: expected 1 fields, saw 2\\nSkipping line 134: expected 1 fields, saw 4\\nSkipping line 135: expected 1 fields, saw 2\\nSkipping line 139: expected 1 fields, saw 3\\nSkipping line 142: expected 1 fields, saw 2\\nSkipping line 144: expected 1 fields, saw 2\\nSkipping line 145: expected 1 fields, saw 2\\nSkipping line 153: expected 1 fields, saw 6\\nSkipping line 161: expected 1 fields, saw 3\\nSkipping line 174: expected 1 fields, saw 3\\nSkipping line 178: expected 1 fields, saw 2\\nSkipping line 179: expected 1 fields, saw 2\\nSkipping line 181: expected 1 fields, saw 2\\nSkipping line 182: expected 1 fields, saw 2\\nSkipping line 186: expected 1 fields, saw 2\\nSkipping line 210: expected 1 fields, saw 2\\nSkipping line 213: expected 1 fields, saw 4\\nSkipping line 238: expected 1 fields, saw 2\\nSkipping line 253: expected 1 fields, saw 2\\nSkipping line 257: expected 1 fields, saw 2\\nSkipping line 264: expected 1 fields, saw 2\\nSkipping line 266: expected 1 fields, saw 2\\nSkipping line 310: expected 1 fields, saw 2\\nSkipping line 323: expected 1 fields, saw 5\\nSkipping line 326: expected 1 fields, saw 2\\nSkipping line 345: expected 1 fields, saw 6\\nSkipping line 347: expected 1 fields, saw 2\\nSkipping line 355: expected 1 fields, saw 2\\nSkipping line 356: expected 1 fields, saw 5\\nSkipping line 357: expected 1 fields, saw 2\\nSkipping line 375: expected 1 fields, saw 3\\nSkipping line 400: expected 1 fields, saw 2\\nSkipping line 401: expected 1 fields, saw 2\\nSkipping line 407: expected 1 fields, saw 2\\nSkipping line 411: expected 1 fields, saw 2\\nSkipping line 429: expected 1 fields, saw 2\\nSkipping line 437: expected 1 fields, saw 2\\nSkipping line 450: expected 1 fields, saw 2\\nSkipping line 457: expected 1 fields, saw 2\\nSkipping line 462: expected 1 fields, saw 3\\nSkipping line 464: expected 1 fields, saw 2\\nSkipping line 468: expected 1 fields, saw 3\\nSkipping line 469: expected 1 fields, saw 3\\nSkipping line 504: expected 1 fields, saw 2\\nSkipping line 505: expected 1 fields, saw 3\\nSkipping line 510: expected 1 fields, saw 3\\nSkipping line 514: expected 1 fields, saw 2\\nSkipping line 542: expected 1 fields, saw 2\\nSkipping line 565: expected 1 fields, saw 2\\nSkipping line 572: expected 1 fields, saw 4\\nSkipping line 576: expected 1 fields, saw 3\\nSkipping line 577: expected 1 fields, saw 2\\nSkipping line 578: expected 1 fields, saw 2\\nSkipping line 579: expected 1 fields, saw 3\\nSkipping line 587: expected 1 fields, saw 4\\nSkipping line 592: expected 1 fields, saw 2\\nSkipping line 597: expected 1 fields, saw 2\\nSkipping line 598: expected 1 fields, saw 3\\nSkipping line 601: expected 1 fields, saw 2\\nSkipping line 618: expected 1 fields, saw 2\\nSkipping line 623: expected 1 fields, saw 2\\nSkipping line 624: expected 1 fields, saw 2\\nSkipping line 628: expected 1 fields, saw 2\\nSkipping line 637: expected 1 fields, saw 2\\nSkipping line 638: expected 1 fields, saw 2\\nSkipping line 662: expected 1 fields, saw 2\\nSkipping line 668: expected 1 fields, saw 2\\nSkipping line 676: expected 1 fields, saw 2\\nSkipping line 686: expected 1 fields, saw 2\\nSkipping line 697: expected 1 fields, saw 3\\nSkipping line 700: expected 1 fields, saw 2\\nSkipping line 706: expected 1 fields, saw 2\\nSkipping line 712: expected 1 fields, saw 3\\nSkipping line 717: expected 1 fields, saw 2\\nSkipping line 724: expected 1 fields, saw 2\\nSkipping line 730: expected 1 fields, saw 2\\nSkipping line 731: expected 1 fields, saw 2\\nSkipping line 747: expected 1 fields, saw 2\\nSkipping line 748: expected 1 fields, saw 5\\nSkipping line 754: expected 1 fields, saw 2\\nSkipping line 755: expected 1 fields, saw 2\\n'\n"
     ]
    }
   ],
   "source": [
    "import nltk\n",
    "data = pd.read_csv(\"scraper/Nike.csv\",header=None,error_bad_lines=False,quotechar=None, quoting=3)\n",
    "texts = data[0]\n",
    "positive = 0\n",
    "negative = 0\n",
    "neutral = 0\n",
    "print(len(texts))\n",
    "for t in texts:\n",
    "#     print(t)\n",
    "    sentiment = sid.polarity_scores(t)\n",
    "    for k in sorted(sentiment):\n",
    "        if sentiment[k] > 0:\n",
    "            positive += 1\n",
    "        if sentiment[k] < 0:\n",
    "            negative += 1\n",
    "        if sentiment[k] == 0.0:\n",
    "            neutral += 1\n",
    "print(\"Negative: \" + str(negative))\n",
    "print(\"Positive: \" + str(positive))\n",
    "print(\"Neutral: \" + str(neutral))"
   ]
  },
  {
   "cell_type": "code",
   "execution_count": 29,
   "metadata": {},
   "outputs": [
    {
     "name": "stdout",
     "output_type": "stream",
     "text": [
      "796\n",
      "Negative: 69\n",
      "Positive: 1155\n",
      "Neutral: 1960\n"
     ]
    },
    {
     "name": "stderr",
     "output_type": "stream",
     "text": [
      "b'Skipping line 66: expected 2 fields, saw 4\\nSkipping line 99: expected 2 fields, saw 6\\nSkipping line 150: expected 2 fields, saw 7\\nSkipping line 175: expected 2 fields, saw 10\\nSkipping line 217: expected 2 fields, saw 3\\nSkipping line 223: expected 2 fields, saw 3\\nSkipping line 228: expected 2 fields, saw 3\\nSkipping line 328: expected 2 fields, saw 4\\nSkipping line 330: expected 2 fields, saw 3\\nSkipping line 393: expected 2 fields, saw 3\\nSkipping line 398: expected 2 fields, saw 4\\nSkipping line 416: expected 2 fields, saw 3\\nSkipping line 418: expected 2 fields, saw 3\\nSkipping line 419: expected 2 fields, saw 3\\nSkipping line 438: expected 2 fields, saw 3\\nSkipping line 447: expected 2 fields, saw 7\\nSkipping line 458: expected 2 fields, saw 5\\nSkipping line 481: expected 2 fields, saw 4\\nSkipping line 506: expected 2 fields, saw 3\\nSkipping line 513: expected 2 fields, saw 3\\nSkipping line 564: expected 2 fields, saw 3\\nSkipping line 568: expected 2 fields, saw 3\\nSkipping line 600: expected 2 fields, saw 3\\nSkipping line 616: expected 2 fields, saw 4\\nSkipping line 617: expected 2 fields, saw 3\\nSkipping line 630: expected 2 fields, saw 7\\nSkipping line 634: expected 2 fields, saw 4\\nSkipping line 647: expected 2 fields, saw 3\\nSkipping line 691: expected 2 fields, saw 3\\nSkipping line 694: expected 2 fields, saw 3\\nSkipping line 739: expected 2 fields, saw 4\\nSkipping line 771: expected 2 fields, saw 3\\nSkipping line 784: expected 2 fields, saw 4\\nSkipping line 786: expected 2 fields, saw 3\\nSkipping line 787: expected 2 fields, saw 3\\nSkipping line 841: expected 2 fields, saw 3\\nSkipping line 858: expected 2 fields, saw 4\\nSkipping line 865: expected 2 fields, saw 3\\nSkipping line 895: expected 2 fields, saw 3\\nSkipping line 900: expected 2 fields, saw 3\\nSkipping line 902: expected 2 fields, saw 3\\nSkipping line 912: expected 2 fields, saw 4\\nSkipping line 944: expected 2 fields, saw 3\\n'\n"
     ]
    }
   ],
   "source": [
    "import nltk\n",
    "data = pd.read_csv(\"scraper/Iphone.csv\",header=None,error_bad_lines=False,quotechar=None, quoting=3)\n",
    "texts = data[0]\n",
    "positive = 0\n",
    "negative = 0\n",
    "neutral = 0\n",
    "print(len(texts))\n",
    "for t in texts:\n",
    "#     print(t)\n",
    "    sentiment = sid.polarity_scores(t)\n",
    "    for k in sorted(sentiment):\n",
    "        if sentiment[k] > 0:\n",
    "            positive += 1\n",
    "        if sentiment[k] < 0:\n",
    "            negative += 1\n",
    "        if sentiment[k] == 0.0:\n",
    "            neutral += 1\n",
    "print(\"Negative: \" + str(negative))\n",
    "print(\"Positive: \" + str(positive))\n",
    "print(\"Neutral: \" + str(neutral))"
   ]
  },
  {
   "cell_type": "code",
   "execution_count": 30,
   "metadata": {},
   "outputs": [
    {
     "name": "stdout",
     "output_type": "stream",
     "text": [
      "833\n",
      "Negative: 65\n",
      "Positive: 1096\n",
      "Neutral: 2171\n"
     ]
    },
    {
     "name": "stderr",
     "output_type": "stream",
     "text": [
      "b'Skipping line 2: expected 4 fields, saw 7\\nSkipping line 22: expected 4 fields, saw 7\\nSkipping line 23: expected 4 fields, saw 5\\nSkipping line 36: expected 4 fields, saw 6\\nSkipping line 50: expected 4 fields, saw 6\\nSkipping line 56: expected 4 fields, saw 6\\nSkipping line 107: expected 4 fields, saw 6\\nSkipping line 132: expected 4 fields, saw 6\\nSkipping line 351: expected 4 fields, saw 6\\nSkipping line 571: expected 4 fields, saw 6\\nSkipping line 577: expected 4 fields, saw 5\\n'\n"
     ]
    }
   ],
   "source": [
    "import nltk\n",
    "data = pd.read_csv(\"scraper/ExxonMobil.csv\",header=None,error_bad_lines=False,quotechar=None, quoting=3)\n",
    "texts = data[0]\n",
    "positive = 0\n",
    "negative = 0\n",
    "neutral = 0\n",
    "print(len(texts))\n",
    "for t in texts:\n",
    "#     print(t)\n",
    "    sentiment = sid.polarity_scores(t)\n",
    "    for k in sorted(sentiment):\n",
    "        if sentiment[k] > 0:\n",
    "            positive += 1\n",
    "        if sentiment[k] < 0:\n",
    "            negative += 1\n",
    "        if sentiment[k] == 0.0:\n",
    "            neutral += 1\n",
    "print(\"Negative: \" + str(negative))\n",
    "print(\"Positive: \" + str(positive))\n",
    "print(\"Neutral: \" + str(neutral))"
   ]
  },
  {
   "cell_type": "code",
   "execution_count": 31,
   "metadata": {},
   "outputs": [
    {
     "name": "stdout",
     "output_type": "stream",
     "text": [
      "684\n",
      "Negative: 284\n",
      "Positive: 1281\n",
      "Neutral: 1171\n"
     ]
    },
    {
     "name": "stderr",
     "output_type": "stream",
     "text": [
      "b'Skipping line 26: expected 2 fields, saw 3\\nSkipping line 30: expected 2 fields, saw 4\\nSkipping line 34: expected 2 fields, saw 5\\nSkipping line 43: expected 2 fields, saw 3\\nSkipping line 74: expected 2 fields, saw 4\\nSkipping line 79: expected 2 fields, saw 3\\nSkipping line 95: expected 2 fields, saw 3\\nSkipping line 103: expected 2 fields, saw 4\\nSkipping line 146: expected 2 fields, saw 3\\nSkipping line 163: expected 2 fields, saw 3\\nSkipping line 171: expected 2 fields, saw 3\\nSkipping line 192: expected 2 fields, saw 7\\nSkipping line 212: expected 2 fields, saw 4\\nSkipping line 269: expected 2 fields, saw 9\\nSkipping line 274: expected 2 fields, saw 3\\nSkipping line 280: expected 2 fields, saw 3\\nSkipping line 293: expected 2 fields, saw 4\\nSkipping line 335: expected 2 fields, saw 3\\nSkipping line 367: expected 2 fields, saw 4\\nSkipping line 368: expected 2 fields, saw 4\\nSkipping line 405: expected 2 fields, saw 4\\nSkipping line 414: expected 2 fields, saw 4\\nSkipping line 420: expected 2 fields, saw 4\\nSkipping line 423: expected 2 fields, saw 3\\nSkipping line 425: expected 2 fields, saw 3\\nSkipping line 431: expected 2 fields, saw 4\\nSkipping line 441: expected 2 fields, saw 3\\nSkipping line 462: expected 2 fields, saw 3\\nSkipping line 478: expected 2 fields, saw 3\\nSkipping line 487: expected 2 fields, saw 3\\nSkipping line 493: expected 2 fields, saw 4\\nSkipping line 498: expected 2 fields, saw 3\\nSkipping line 515: expected 2 fields, saw 3\\nSkipping line 516: expected 2 fields, saw 3\\nSkipping line 525: expected 2 fields, saw 4\\nSkipping line 534: expected 2 fields, saw 3\\nSkipping line 562: expected 2 fields, saw 3\\nSkipping line 574: expected 2 fields, saw 3\\nSkipping line 591: expected 2 fields, saw 3\\nSkipping line 636: expected 2 fields, saw 6\\nSkipping line 641: expected 2 fields, saw 3\\nSkipping line 659: expected 2 fields, saw 3\\nSkipping line 662: expected 2 fields, saw 3\\nSkipping line 671: expected 2 fields, saw 5\\nSkipping line 676: expected 2 fields, saw 3\\nSkipping line 693: expected 2 fields, saw 3\\nSkipping line 706: expected 2 fields, saw 3\\nSkipping line 712: expected 2 fields, saw 3\\nSkipping line 726: expected 2 fields, saw 3\\nSkipping line 740: expected 2 fields, saw 4\\nSkipping line 744: expected 2 fields, saw 3\\nSkipping line 751: expected 2 fields, saw 3\\nSkipping line 752: expected 2 fields, saw 4\\nSkipping line 795: expected 2 fields, saw 6\\nSkipping line 799: expected 2 fields, saw 4\\nSkipping line 814: expected 2 fields, saw 3\\nSkipping line 843: expected 2 fields, saw 3\\nSkipping line 857: expected 2 fields, saw 3\\n'\n"
     ]
    }
   ],
   "source": [
    "import nltk\n",
    "data = pd.read_csv(\"scraper/Danger.csv\",header=None,error_bad_lines=False,quotechar=None, quoting=3)\n",
    "texts = data[0]\n",
    "positive = 0\n",
    "negative = 0\n",
    "neutral = 0\n",
    "print(len(texts))\n",
    "for t in texts:\n",
    "#     print(t)\n",
    "    sentiment = sid.polarity_scores(t)\n",
    "    for k in sorted(sentiment):\n",
    "        if sentiment[k] > 0:\n",
    "            positive += 1\n",
    "        if sentiment[k] < 0:\n",
    "            negative += 1\n",
    "        if sentiment[k] == 0.0:\n",
    "            neutral += 1\n",
    "print(\"Negative: \" + str(negative))\n",
    "print(\"Positive: \" + str(positive))\n",
    "print(\"Neutral: \" + str(neutral))"
   ]
  },
  {
   "cell_type": "code",
   "execution_count": null,
   "metadata": {},
   "outputs": [],
   "source": [
    "import nltk\n",
    "data = pd.read_csv(\"scraper/Zayn Malik.csv\",header=None,error_bad_lines=False,quotechar=None, quoting=3)\n",
    "texts = data[0]\n",
    "positive = 0\n",
    "negative = 0\n",
    "neutral = 0\n",
    "print(len(texts))\n",
    "for t in texts:\n",
    "#     print(t)\n",
    "    sentiment = sid.polarity_scores(t)\n",
    "    for k in sorted(sentiment):\n",
    "        if sentiment[k] > 0:\n",
    "            positive += 1\n",
    "        if sentiment[k] < 0:\n",
    "            negative += 1\n",
    "        if sentiment[k] == 0.0:\n",
    "            neutral += 1\n",
    "print(\"Negative: \" + str(negative))\n",
    "print(\"Positive: \" + str(positive))\n",
    "print(\"Neutral: \" + str(neutral))"
   ]
  }
 ],
 "metadata": {
  "kernelspec": {
   "display_name": "Python 3",
   "language": "python",
   "name": "python3"
  },
  "language_info": {
   "codemirror_mode": {
    "name": "ipython",
    "version": 3
   },
   "file_extension": ".py",
   "mimetype": "text/x-python",
   "name": "python",
   "nbconvert_exporter": "python",
   "pygments_lexer": "ipython3",
   "version": "3.7.4"
  }
 },
 "nbformat": 4,
 "nbformat_minor": 2
}
